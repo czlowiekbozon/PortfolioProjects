{
 "cells": [
  {
   "cell_type": "code",
   "execution_count": 1,
   "metadata": {},
   "outputs": [],
   "source": [
    "#Importing library\n",
    "import psycopg2 as pg2"
   ]
  },
  {
   "cell_type": "code",
   "execution_count": 2,
   "metadata": {},
   "outputs": [],
   "source": [
    "#Creating connection to the database\n",
    "try:\n",
    "    conn = pg2.connect(\"dbname=postgres user=postgres password=secret_password\")\n",
    "except pg2.Error as er:\n",
    "    print('Error: Could not make connection to Postgres db')\n",
    "    print(er)"
   ]
  },
  {
   "cell_type": "code",
   "execution_count": 3,
   "metadata": {},
   "outputs": [],
   "source": [
    "#declaring cur with the connection to executing commands with Postgres database\n",
    "try:\n",
    "    cur = conn.cursor()\n",
    "except pg2.Error as er:\n",
    "    print('Error: Could not get a cursor to the db')\n",
    "    print(er)"
   ]
  },
  {
   "cell_type": "code",
   "execution_count": 4,
   "metadata": {},
   "outputs": [],
   "source": [
    "#Set automatic commit\n",
    "conn.set_session(autocommit=True)"
   ]
  },
  {
   "cell_type": "code",
   "execution_count": 5,
   "metadata": {},
   "outputs": [
    {
     "name": "stdout",
     "output_type": "stream",
     "text": [
      "Cant create database\n",
      "database \"portfoliodb\" already exists\n",
      "\n"
     ]
    }
   ],
   "source": [
    "#Creating a Postgres database\n",
    "try:\n",
    "    cur.execute(\"CREATE DATABASE PortfolioDB\")\n",
    "except pg2.Error as er:\n",
    "    print('Cant create database')\n",
    "    print(er)"
   ]
  },
  {
   "cell_type": "code",
   "execution_count": 6,
   "metadata": {},
   "outputs": [],
   "source": [
    "#Creating connection to new database \"PortfolioDB\" and getting a new cursor. Setting auto commit\n",
    "try:\n",
    "    conn.close()\n",
    "except pg2.Error as er:\n",
    "    print('Cant close the connection')\n",
    "    print(er)\n",
    "    \n",
    "try:\n",
    "    conn = pg2.connect(\"dbname=portfoliodb user=postgres password=secret_password\")\n",
    "except pg2.Error as er:\n",
    "    print('Error: Could not make connection to Postgres db')\n",
    "    print(er)\n",
    "    \n",
    "try:\n",
    "    cur = conn.cursor()\n",
    "except pg2.Error as er:\n",
    "    print('Error: Could not get a cursor to the db')\n",
    "    print(er)\n",
    "    \n",
    "conn.set_session(autocommit=True)"
   ]
  },
  {
   "cell_type": "code",
   "execution_count": 7,
   "metadata": {},
   "outputs": [],
   "source": [
    "#Creating a test table in PortfolioDB database \n",
    "try:\n",
    "    cur.execute(\"CREATE TABLE IF NOT EXISTS scores (user_id int, name varchar,\\\n",
    "    game varchar, year int, scores int);\")\n",
    "except pg2.Error as er:\n",
    "    print(\"Error. Issue while creating table\")\n",
    "    print(er)"
   ]
  },
  {
   "cell_type": "code",
   "execution_count": 8,
   "metadata": {},
   "outputs": [],
   "source": [
    "#Inserting example data into the table\n",
    "try:\n",
    "    cur.execute(\"INSERT INTO scores (user_id, name, game, year, scores) VALUES (%s, %s, %s, %s, %s)\", \\\n",
    "               (1, \"pcmanus\", \"Coup\", 2015, 4000))\n",
    "except pg2.Error as er:\n",
    "    print(\"Error: Issue while inserting data\")\n",
    "    print(er)\n",
    "    \n",
    "try:\n",
    "    cur.execute(\"INSERT INTO scores (user_id, name, game, year, scores) VALUES (%s, %s, %s, %s, %s)\", \\\n",
    "               (2, \"jbellis\", \"Soccer\", 2016, 1750))\n",
    "except pg2.Error as er:\n",
    "    print(\"Error: Issue while inserting data\")\n",
    "    print(er)    "
   ]
  },
  {
   "cell_type": "code",
   "execution_count": 9,
   "metadata": {},
   "outputs": [
    {
     "name": "stdout",
     "output_type": "stream",
     "text": [
      "(1, 'pcmanus', 'Coup', 2015, 4000)\n",
      "(2, 'jbellis', 'Soccer', 2016, 1750)\n",
      "(1, 'pcmanus', 'Coup', 2015, 4000)\n",
      "(2, 'jbellis', 'Soccer', 2016, 1750)\n",
      "(1, 'pcmanus', 'Coup', 2015, 4000)\n",
      "(2, 'jbellis', 'Soccer', 2016, 1750)\n"
     ]
    }
   ],
   "source": [
    "#Chesking if data was inserted into the table\n",
    "try:\n",
    "    cur.execute(\"SELECT * FROM scores\")\n",
    "except pg.Error as er:\n",
    "    print(\"Error: Issue with select statment\")\n",
    "    print(er)\n",
    "\n",
    "table_row = cur.fetchone()\n",
    "while table_row:\n",
    "    print(table_row)\n",
    "    table_row = cur.fetchone()"
   ]
  },
  {
   "cell_type": "code",
   "execution_count": null,
   "metadata": {},
   "outputs": [],
   "source": [
    "#Closing cursor and connection with database\n",
    "cur.close()\n",
    "conn.close()"
   ]
  }
 ],
 "metadata": {
  "kernelspec": {
   "display_name": "Python 3",
   "language": "python",
   "name": "python3"
  },
  "language_info": {
   "codemirror_mode": {
    "name": "ipython",
    "version": 3
   },
   "file_extension": ".py",
   "mimetype": "text/x-python",
   "name": "python",
   "nbconvert_exporter": "python",
   "pygments_lexer": "ipython3",
   "version": "3.7.6"
  }
 },
 "nbformat": 4,
 "nbformat_minor": 4
}
