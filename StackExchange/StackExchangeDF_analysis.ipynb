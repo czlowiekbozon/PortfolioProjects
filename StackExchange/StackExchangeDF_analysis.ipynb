{
 "cells": [
  {
   "cell_type": "code",
   "execution_count": 1,
   "id": "69413892-7593-4b3a-971e-9bef5ff16f21",
   "metadata": {
    "execution": {
     "iopub.execute_input": "2023-01-22T12:59:12.895591Z",
     "iopub.status.busy": "2023-01-22T12:59:12.895274Z",
     "iopub.status.idle": "2023-01-22T12:59:41.768497Z",
     "shell.execute_reply": "2023-01-22T12:59:41.767860Z",
     "shell.execute_reply.started": "2023-01-22T12:59:12.895556Z"
    },
    "tags": []
   },
   "outputs": [
    {
     "data": {
      "application/vnd.jupyter.widget-view+json": {
       "model_id": "b3a4f4e025ee4a64b504b09dee164fbe",
       "version_major": 2,
       "version_minor": 0
      },
      "text/plain": [
       "VBox()"
      ]
     },
     "metadata": {},
     "output_type": "display_data"
    },
    {
     "name": "stdout",
     "output_type": "stream",
     "text": [
      "Starting Spark application\n"
     ]
    },
    {
     "data": {
      "text/html": [
       "<table>\n",
       "<tr><th>ID</th><th>YARN Application ID</th><th>Kind</th><th>State</th><th>Spark UI</th><th>Driver log</th><th>User</th><th>Current session?</th></tr><tr><td>2</td><td>application_1674389236110_0003</td><td>pyspark</td><td>idle</td><td><a target=\"_blank\" href=\"http://ip-172-31-44-87.ec2.internal:20888/proxy/application_1674389236110_0003/\" class=\"emr-proxy-link\" emr-resource=\"j-S8VFU0F9D4BK\n",
       "\" application-id=\"application_1674389236110_0003\">Link</a></td><td><a target=\"_blank\" href=\"http://ip-172-31-41-217.ec2.internal:8042/node/containerlogs/container_1674389236110_0003_01_000001/livy\" >Link</a></td><td>None</td><td>✔</td></tr></table>"
      ],
      "text/plain": [
       "<IPython.core.display.HTML object>"
      ]
     },
     "metadata": {},
     "output_type": "display_data"
    },
    {
     "data": {
      "application/vnd.jupyter.widget-view+json": {
       "model_id": "",
       "version_major": 2,
       "version_minor": 0
      },
      "text/plain": [
       "FloatProgress(value=0.0, bar_style='info', description='Progress:', layout=Layout(height='25px', width='50%'),…"
      ]
     },
     "metadata": {},
     "output_type": "display_data"
    },
    {
     "name": "stdout",
     "output_type": "stream",
     "text": [
      "SparkSession available as 'spark'.\n"
     ]
    },
    {
     "data": {
      "application/vnd.jupyter.widget-view+json": {
       "model_id": "",
       "version_major": 2,
       "version_minor": 0
      },
      "text/plain": [
       "FloatProgress(value=0.0, bar_style='info', description='Progress:', layout=Layout(height='25px', width='50%'),…"
      ]
     },
     "metadata": {},
     "output_type": "display_data"
    }
   ],
   "source": [
    "#uruchomienie sesji SPARKA\n",
    "from pyspark.sql import SparkSession\n",
    "from pyspark.sql import functions as f\n",
    "from pyspark.sql.types import *\n",
    "spark = SparkSession.builder.getOrCreate()"
   ]
  },
  {
   "cell_type": "code",
   "execution_count": 5,
   "id": "97687e39-e28e-4c6c-be63-9d32613eb1b0",
   "metadata": {
    "execution": {
     "iopub.execute_input": "2023-01-22T13:32:38.410569Z",
     "iopub.status.busy": "2023-01-22T13:32:38.410265Z",
     "iopub.status.idle": "2023-01-22T13:32:45.770601Z",
     "shell.execute_reply": "2023-01-22T13:32:45.769982Z",
     "shell.execute_reply.started": "2023-01-22T13:32:38.410528Z"
    },
    "tags": []
   },
   "outputs": [
    {
     "data": {
      "application/vnd.jupyter.widget-view+json": {
       "model_id": "ef4a8912dbfc4ff4aa3682107abe7f5f",
       "version_major": 2,
       "version_minor": 0
      },
      "text/plain": [
       "VBox()"
      ]
     },
     "metadata": {},
     "output_type": "display_data"
    },
    {
     "data": {
      "application/vnd.jupyter.widget-view+json": {
       "model_id": "",
       "version_major": 2,
       "version_minor": 0
      },
      "text/plain": [
       "FloatProgress(value=0.0, bar_style='info', description='Progress:', layout=Layout(height='25px', width='50%'),…"
      ]
     },
     "metadata": {},
     "output_type": "display_data"
    }
   ],
   "source": [
    "#Liczba postów na przestrzeni czasu\n",
    "dfPosts = spark.read.parquet('s3://stackexchangebeer1/parquet/posts.parquet')\n",
    "df = dfPosts.groupBy('CreationDate').agg(f.count(\"CreationDate\").alias(\"NumberOfPosts\"))"
   ]
  },
  {
   "cell_type": "code",
   "execution_count": 4,
   "id": "d369056b-4c71-4076-b513-7fc08b4fac68",
   "metadata": {
    "execution": {
     "iopub.execute_input": "2023-01-22T13:00:35.909760Z",
     "iopub.status.busy": "2023-01-22T13:00:35.909525Z",
     "iopub.status.idle": "2023-01-22T13:00:49.569528Z",
     "shell.execute_reply": "2023-01-22T13:00:49.568881Z",
     "shell.execute_reply.started": "2023-01-22T13:00:35.909735Z"
    },
    "tags": []
   },
   "outputs": [
    {
     "data": {
      "application/vnd.jupyter.widget-view+json": {
       "model_id": "",
       "version_major": 2,
       "version_minor": 0
      },
      "text/plain": [
       "FloatProgress(value=0.0, bar_style='info', description='Progress:', layout=Layout(height='25px', width='50%'),…"
      ]
     },
     "metadata": {},
     "output_type": "display_data"
    },
    {
     "data": {
      "application/vnd.jupyter.widget-view+json": {
       "model_id": "2cd853d1586243038d80194517b168b2",
       "version_major": 2,
       "version_minor": 0
      },
      "text/plain": [
       "VBox(children=(HBox(children=(HTML(value='Type:'), Button(description='Table', layout=Layout(width='70px'), st…"
      ]
     },
     "metadata": {},
     "output_type": "display_data"
    },
    {
     "data": {
      "application/vnd.jupyter.widget-view+json": {
       "model_id": "13c3bbb6edf54482bf9c663684dff0b9",
       "version_major": 2,
       "version_minor": 0
      },
      "text/plain": [
       "Output()"
      ]
     },
     "metadata": {},
     "output_type": "display_data"
    }
   ],
   "source": [
    "%%display\n",
    "df"
   ]
  },
  {
   "cell_type": "code",
   "execution_count": 11,
   "id": "1b9ef383-f7f5-43ba-ad04-be3d68366617",
   "metadata": {
    "execution": {
     "iopub.execute_input": "2023-01-22T13:45:01.577955Z",
     "iopub.status.busy": "2023-01-22T13:45:01.577724Z",
     "iopub.status.idle": "2023-01-22T13:45:02.359200Z",
     "shell.execute_reply": "2023-01-22T13:45:02.358507Z",
     "shell.execute_reply.started": "2023-01-22T13:45:01.577930Z"
    },
    "tags": []
   },
   "outputs": [
    {
     "data": {
      "application/vnd.jupyter.widget-view+json": {
       "model_id": "9278ea92ae6247fd906923bda74c1b54",
       "version_major": 2,
       "version_minor": 0
      },
      "text/plain": [
       "VBox()"
      ]
     },
     "metadata": {},
     "output_type": "display_data"
    },
    {
     "data": {
      "application/vnd.jupyter.widget-view+json": {
       "model_id": "",
       "version_major": 2,
       "version_minor": 0
      },
      "text/plain": [
       "FloatProgress(value=0.0, bar_style='info', description='Progress:', layout=Layout(height='25px', width='50%'),…"
      ]
     },
     "metadata": {},
     "output_type": "display_data"
    },
    {
     "name": "stdout",
     "output_type": "stream",
     "text": [
      "+-----------------------------------------------------------------+----------------------------------------------+-----------+-----+\n",
      "|Title                                                            |Tags                                          |AnswerCount|Score|\n",
      "+-----------------------------------------------------------------+----------------------------------------------+-----------+-----+\n",
      "|Do different beer glass shapes really make a difference in taste?|glassware taste aroma                         |5          |68   |\n",
      "|Do cans change the taste of beer?                                |storage cans                                  |9          |46   |\n",
      "|Where can I find open APIs about beer?                           |breweries                                     |3          |45   |\n",
      "|How can I tell whether a beer will improve with age?             |aging bottle-conditioning cellaring freshness |8          |43   |\n",
      "|What is the difference between an ale and a lager?               |brewing ale lager                             |6          |41   |\n",
      "+-----------------------------------------------------------------+----------------------------------------------+-----------+-----+\n",
      "only showing top 5 rows"
     ]
    }
   ],
   "source": [
    "#Porównanie najwyżej i najniżej ocenianych pytań\n",
    "dfPost1 = dfPosts.select(\"AnswerCount\",\"Tags\",\"Title\",\"Score\")\n",
    "dfPostNoNull = poster.dropna(\"any\")\n",
    "df = dfPostNoNull.select(\"Title\",\"Tags\",\"AnswerCount\",\"Score\").sort(f.col(\"Score\").desc()).show(5,truncate=False)"
   ]
  },
  {
   "cell_type": "code",
   "execution_count": 12,
   "id": "f246bf08-2c9d-4fed-b81b-73f3602315dd",
   "metadata": {
    "execution": {
     "iopub.execute_input": "2023-01-22T13:45:59.089268Z",
     "iopub.status.busy": "2023-01-22T13:45:59.088989Z",
     "iopub.status.idle": "2023-01-22T13:45:59.862647Z",
     "shell.execute_reply": "2023-01-22T13:45:59.862058Z",
     "shell.execute_reply.started": "2023-01-22T13:45:59.089240Z"
    }
   },
   "outputs": [
    {
     "data": {
      "application/vnd.jupyter.widget-view+json": {
       "model_id": "7bf6545b655e40968487ec14cbefec49",
       "version_major": 2,
       "version_minor": 0
      },
      "text/plain": [
       "VBox()"
      ]
     },
     "metadata": {},
     "output_type": "display_data"
    },
    {
     "data": {
      "application/vnd.jupyter.widget-view+json": {
       "model_id": "",
       "version_major": 2,
       "version_minor": 0
      },
      "text/plain": [
       "FloatProgress(value=0.0, bar_style='info', description='Progress:', layout=Layout(height='25px', width='50%'),…"
      ]
     },
     "metadata": {},
     "output_type": "display_data"
    },
    {
     "name": "stdout",
     "output_type": "stream",
     "text": [
      "+------------------------------------------------+---------------------------------------------------+-----------+-----+\n",
      "|Title                                           |Tags                                               |AnswerCount|Score|\n",
      "+------------------------------------------------+---------------------------------------------------+-----------+-----+\n",
      "|Why are breweries against freezing pint glasses?|temperature glassware                              |4          |-7   |\n",
      "|What is your favorite beer & food pairing?      |pairing                                            |3          |-3   |\n",
      "|Beer recommendations for a noob                 |taste recommendations breweries flavor craft-beers |3          |-3   |\n",
      "|Does a Sober Scottish man really exists?        |drinking craft-beers scotch                        |1          |-3   |\n",
      "|Cheapest Gin in the UK?                         |spirits gin online                                 |4          |-2   |\n",
      "+------------------------------------------------+---------------------------------------------------+-----------+-----+\n",
      "only showing top 5 rows"
     ]
    }
   ],
   "source": [
    "#Porównanie najwyżej i najniżej ocenianych pytań\n",
    "dfPostNoNull.createOrReplaceTempView(\"DfPosts\")\n",
    "spark.sql(\"select Title,Tags,AnswerCount,Score from DfPosts ORDER BY Score asc\").show(5,truncate=False)"
   ]
  },
  {
   "cell_type": "code",
   "execution_count": 21,
   "id": "c212bec0-3c8a-496f-aee0-cd3ce5967969",
   "metadata": {
    "execution": {
     "iopub.execute_input": "2023-01-22T14:05:53.533084Z",
     "iopub.status.busy": "2023-01-22T14:05:53.532777Z",
     "iopub.status.idle": "2023-01-22T14:05:54.322968Z",
     "shell.execute_reply": "2023-01-22T14:05:54.322341Z",
     "shell.execute_reply.started": "2023-01-22T14:05:53.533060Z"
    },
    "tags": []
   },
   "outputs": [
    {
     "data": {
      "application/vnd.jupyter.widget-view+json": {
       "model_id": "64acc53be3344300807b9070fc3ecec8",
       "version_major": 2,
       "version_minor": 0
      },
      "text/plain": [
       "VBox()"
      ]
     },
     "metadata": {},
     "output_type": "display_data"
    },
    {
     "data": {
      "application/vnd.jupyter.widget-view+json": {
       "model_id": "",
       "version_major": 2,
       "version_minor": 0
      },
      "text/plain": [
       "FloatProgress(value=0.0, bar_style='info', description='Progress:', layout=Layout(height='25px', width='50%'),…"
      ]
     },
     "metadata": {},
     "output_type": "display_data"
    },
    {
     "name": "stdout",
     "output_type": "stream",
     "text": [
      "+---------------+-----+\n",
      "|        TagName|Views|\n",
      "+---------------+-----+\n",
      "|           wine|  137|\n",
      "|          taste|  120|\n",
      "|        history|   85|\n",
      "|recommendations|   78|\n",
      "|        brewing|   69|\n",
      "|        storage|   64|\n",
      "|specialty-beers|   60|\n",
      "|         health|   59|\n",
      "|      breweries|   56|\n",
      "|        whiskey|   55|\n",
      "+---------------+-----+"
     ]
    }
   ],
   "source": [
    "#Top N tagów które wygenerowały najwięcej wyświetleń\n",
    "dfTags = spark.read.parquet('s3://stackexchangebeer1/parquet/tags.parquet')\n",
    "dfTags1 = dfTags.select(\"TagName\",\"Count\")\n",
    "dfTags1.createOrReplaceTempView(\"DfTags\")\n",
    "df = spark.sql(\"select TagName, Count as Views from DfTags ORDER BY Count desc limit 10\")\n"
   ]
  },
  {
   "cell_type": "code",
   "execution_count": 23,
   "id": "aaacf19c-6d31-452f-9253-c29c94cb7b01",
   "metadata": {
    "execution": {
     "iopub.execute_input": "2023-01-22T14:07:54.507960Z",
     "iopub.status.busy": "2023-01-22T14:07:54.507685Z",
     "iopub.status.idle": "2023-01-22T14:08:05.963928Z",
     "shell.execute_reply": "2023-01-22T14:08:05.963295Z",
     "shell.execute_reply.started": "2023-01-22T14:07:54.507922Z"
    },
    "tags": []
   },
   "outputs": [
    {
     "data": {
      "application/vnd.jupyter.widget-view+json": {
       "model_id": "",
       "version_major": 2,
       "version_minor": 0
      },
      "text/plain": [
       "FloatProgress(value=0.0, bar_style='info', description='Progress:', layout=Layout(height='25px', width='50%'),…"
      ]
     },
     "metadata": {},
     "output_type": "display_data"
    },
    {
     "data": {
      "application/vnd.jupyter.widget-view+json": {
       "model_id": "7c9b9c5b6cd34b9aa439dd7dcd003d3a",
       "version_major": 2,
       "version_minor": 0
      },
      "text/plain": [
       "VBox(children=(HBox(children=(HTML(value='Type:'), Button(description='Table', layout=Layout(width='70px'), st…"
      ]
     },
     "metadata": {},
     "output_type": "display_data"
    },
    {
     "data": {
      "application/vnd.jupyter.widget-view+json": {
       "model_id": "33cb6f004a564de0aa42fa4560c27933",
       "version_major": 2,
       "version_minor": 0
      },
      "text/plain": [
       "Output()"
      ]
     },
     "metadata": {},
     "output_type": "display_data"
    }
   ],
   "source": [
    "%%display\n",
    "df"
   ]
  },
  {
   "cell_type": "code",
   "execution_count": 14,
   "id": "32790bd8-9576-4378-9612-99cecdb7f8fd",
   "metadata": {
    "execution": {
     "iopub.execute_input": "2023-01-22T13:55:33.708786Z",
     "iopub.status.busy": "2023-01-22T13:55:33.708539Z",
     "iopub.status.idle": "2023-01-22T13:55:33.768733Z",
     "shell.execute_reply": "2023-01-22T13:55:33.768110Z",
     "shell.execute_reply.started": "2023-01-22T13:55:33.708758Z"
    }
   },
   "outputs": [
    {
     "data": {
      "application/vnd.jupyter.widget-view+json": {
       "model_id": "7271afc36af64e7b99be069aca0de074",
       "version_major": 2,
       "version_minor": 0
      },
      "text/plain": [
       "VBox()"
      ]
     },
     "metadata": {},
     "output_type": "display_data"
    },
    {
     "data": {
      "application/vnd.jupyter.widget-view+json": {
       "model_id": "",
       "version_major": 2,
       "version_minor": 0
      },
      "text/plain": [
       "FloatProgress(value=0.0, bar_style='info', description='Progress:', layout=Layout(height='25px', width='50%'),…"
      ]
     },
     "metadata": {},
     "output_type": "display_data"
    },
    {
     "name": "stdout",
     "output_type": "stream",
     "text": [
      "root\n",
      " |-- Count: integer (nullable = true)\n",
      " |-- PostId: integer (nullable = true)\n",
      " |-- Id: integer (nullable = true)\n",
      " |-- TagName: string (nullable = true)\n",
      " |-- WikiPostId: integer (nullable = true)"
     ]
    }
   ],
   "source": [
    "dfTags.printSchema()"
   ]
  },
  {
   "cell_type": "code",
   "execution_count": 27,
   "id": "0d2adf6f-398f-4516-a65d-89f60e6c5066",
   "metadata": {
    "execution": {
     "iopub.execute_input": "2023-01-22T17:53:20.915581Z",
     "iopub.status.busy": "2023-01-22T17:53:20.915338Z",
     "iopub.status.idle": "2023-01-22T17:53:20.972917Z",
     "shell.execute_reply": "2023-01-22T17:53:20.972206Z",
     "shell.execute_reply.started": "2023-01-22T17:53:20.915555Z"
    },
    "tags": []
   },
   "outputs": [
    {
     "data": {
      "application/vnd.jupyter.widget-view+json": {
       "model_id": "73f3c4049c2246eca521eed3099c8388",
       "version_major": 2,
       "version_minor": 0
      },
      "text/plain": [
       "VBox()"
      ]
     },
     "metadata": {},
     "output_type": "display_data"
    },
    {
     "data": {
      "application/vnd.jupyter.widget-view+json": {
       "model_id": "",
       "version_major": 2,
       "version_minor": 0
      },
      "text/plain": [
       "FloatProgress(value=0.0, bar_style='info', description='Progress:', layout=Layout(height='25px', width='50%'),…"
      ]
     },
     "metadata": {},
     "output_type": "display_data"
    }
   ],
   "source": [
    "#najczęściej występujące słowa w tytułach\n",
    "\n",
    "#funkcja usuwająca niepotrzebne znaki oraz zmniejszająca wszystkie litery\n",
    "from pyspark.sql.functions import regexp_replace, trim, col, lower\n",
    "\n",
    "def remove_chars(column):\n",
    "    return trim(lower(regexp_replace(column, '([^\\s\\w_]|_)+', ''))).alias('Title')"
   ]
  },
  {
   "cell_type": "code",
   "execution_count": 28,
   "id": "48293b06-063a-4c0a-a458-3b75983494cf",
   "metadata": {
    "execution": {
     "iopub.execute_input": "2023-01-22T17:53:26.620455Z",
     "iopub.status.busy": "2023-01-22T17:53:26.620200Z",
     "iopub.status.idle": "2023-01-22T17:53:26.877083Z",
     "shell.execute_reply": "2023-01-22T17:53:26.876495Z",
     "shell.execute_reply.started": "2023-01-22T17:53:26.620428Z"
    },
    "tags": []
   },
   "outputs": [
    {
     "data": {
      "application/vnd.jupyter.widget-view+json": {
       "model_id": "67bc9015318f4e298871c7558cf87ea4",
       "version_major": 2,
       "version_minor": 0
      },
      "text/plain": [
       "VBox()"
      ]
     },
     "metadata": {},
     "output_type": "display_data"
    },
    {
     "data": {
      "application/vnd.jupyter.widget-view+json": {
       "model_id": "",
       "version_major": 2,
       "version_minor": 0
      },
      "text/plain": [
       "FloatProgress(value=0.0, bar_style='info', description='Progress:', layout=Layout(height='25px', width='50%'),…"
      ]
     },
     "metadata": {},
     "output_type": "display_data"
    }
   ],
   "source": [
    "#aplikacja funkcji do DataFrame'u składjącego się z kolumny Title\n",
    "df = dfPosts.select(\"Title\").select(remove_chars(col('Title')))"
   ]
  },
  {
   "cell_type": "code",
   "execution_count": 29,
   "id": "24924faf-c6e7-4329-b303-60254157c135",
   "metadata": {
    "execution": {
     "iopub.execute_input": "2023-01-22T17:53:30.515970Z",
     "iopub.status.busy": "2023-01-22T17:53:30.515744Z",
     "iopub.status.idle": "2023-01-22T17:53:39.819457Z",
     "shell.execute_reply": "2023-01-22T17:53:39.818569Z",
     "shell.execute_reply.started": "2023-01-22T17:53:30.515945Z"
    },
    "tags": []
   },
   "outputs": [
    {
     "data": {
      "application/vnd.jupyter.widget-view+json": {
       "model_id": "a9c9485df1f94838b1a55dc1520e3471",
       "version_major": 2,
       "version_minor": 0
      },
      "text/plain": [
       "VBox()"
      ]
     },
     "metadata": {},
     "output_type": "display_data"
    },
    {
     "data": {
      "application/vnd.jupyter.widget-view+json": {
       "model_id": "",
       "version_major": 2,
       "version_minor": 0
      },
      "text/plain": [
       "FloatProgress(value=0.0, bar_style='info', description='Progress:', layout=Layout(height='25px', width='50%'),…"
      ]
     },
     "metadata": {},
     "output_type": "display_data"
    },
    {
     "name": "stdout",
     "output_type": "stream",
     "text": [
      "+-----+-----+\n",
      "| word|count|\n",
      "+-----+-----+\n",
      "| beer|  372|\n",
      "|  the|  330|\n",
      "|    a|  309|\n",
      "| what|  255|\n",
      "|   in|  247|\n",
      "|   to|  245|\n",
      "|   is|  243|\n",
      "|   of|  231|\n",
      "|  how|  147|\n",
      "|  are|  142|\n",
      "|  and|  142|\n",
      "| wine|  128|\n",
      "|  for|  125|\n",
      "|  why|  111|\n",
      "|   do|  105|\n",
      "|  can|  104|\n",
      "|beers|  100|\n",
      "|    i|   90|\n",
      "| with|   82|\n",
      "|there|   82|\n",
      "+-----+-----+\n",
      "only showing top 20 rows"
     ]
    }
   ],
   "source": [
    "#podzielenie słów oraz ich podliczenie\n",
    "from pyspark.sql import functions as f \n",
    "\n",
    "df.withColumn('word', f.explode(f.split(f.col('Title'), ' ')))\\\n",
    "    .groupBy('word')\\\n",
    "    .count()\\\n",
    "    .sort('count', ascending=False)\\\n",
    "    .show()"
   ]
  },
  {
   "cell_type": "code",
   "execution_count": null,
   "id": "d9611702-36ee-419d-8029-8fdd9b8324c4",
   "metadata": {},
   "outputs": [],
   "source": []
  }
 ],
 "metadata": {
  "kernelspec": {
   "display_name": "PySpark",
   "language": "python",
   "name": "pysparkkernel"
  },
  "language_info": {
   "codemirror_mode": {
    "name": "python",
    "version": 3
   },
   "file_extension": ".py",
   "mimetype": "text/x-python",
   "name": "pyspark",
   "pygments_lexer": "python3"
  }
 },
 "nbformat": 4,
 "nbformat_minor": 5
}
