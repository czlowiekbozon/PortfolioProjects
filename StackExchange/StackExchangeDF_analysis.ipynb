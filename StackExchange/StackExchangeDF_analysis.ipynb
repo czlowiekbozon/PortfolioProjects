{
 "cells": [
  {
   "cell_type": "code",
   "execution_count": 1,
   "id": "69413892-7593-4b3a-971e-9bef5ff16f21",
   "metadata": {
    "execution": {
     "iopub.execute_input": "2023-01-28T12:11:42.619203Z",
     "iopub.status.busy": "2023-01-28T12:11:42.618979Z",
     "iopub.status.idle": "2023-01-28T12:12:13.469035Z",
     "shell.execute_reply": "2023-01-28T12:12:13.468476Z",
     "shell.execute_reply.started": "2023-01-28T12:11:42.619179Z"
    },
    "tags": []
   },
   "outputs": [
    {
     "data": {
      "application/vnd.jupyter.widget-view+json": {
       "model_id": "f5d6543bfbdb45d6a2db9aa4a02ad0e5",
       "version_major": 2,
       "version_minor": 0
      },
      "text/plain": [
       "VBox()"
      ]
     },
     "metadata": {},
     "output_type": "display_data"
    },
    {
     "name": "stdout",
     "output_type": "stream",
     "text": [
      "Starting Spark application\n"
     ]
    },
    {
     "data": {
      "text/html": [
       "<table>\n",
       "<tr><th>ID</th><th>YARN Application ID</th><th>Kind</th><th>State</th><th>Spark UI</th><th>Driver log</th><th>User</th><th>Current session?</th></tr><tr><td>1</td><td>application_1674897189649_0002</td><td>pyspark</td><td>idle</td><td><a target=\"_blank\" href=\"http://ip-172-31-37-90.ec2.internal:20888/proxy/application_1674897189649_0002/\" class=\"emr-proxy-link\" emr-resource=\"j-2K065FKRGEJ68\n",
       "\" application-id=\"application_1674897189649_0002\">Link</a></td><td><a target=\"_blank\" href=\"http://ip-172-31-42-57.ec2.internal:8042/node/containerlogs/container_1674897189649_0002_01_000001/livy\" >Link</a></td><td>None</td><td>✔</td></tr></table>"
      ],
      "text/plain": [
       "<IPython.core.display.HTML object>"
      ]
     },
     "metadata": {},
     "output_type": "display_data"
    },
    {
     "data": {
      "application/vnd.jupyter.widget-view+json": {
       "model_id": "",
       "version_major": 2,
       "version_minor": 0
      },
      "text/plain": [
       "FloatProgress(value=0.0, bar_style='info', description='Progress:', layout=Layout(height='25px', width='50%'),…"
      ]
     },
     "metadata": {},
     "output_type": "display_data"
    },
    {
     "name": "stdout",
     "output_type": "stream",
     "text": [
      "SparkSession available as 'spark'.\n"
     ]
    },
    {
     "data": {
      "application/vnd.jupyter.widget-view+json": {
       "model_id": "",
       "version_major": 2,
       "version_minor": 0
      },
      "text/plain": [
       "FloatProgress(value=0.0, bar_style='info', description='Progress:', layout=Layout(height='25px', width='50%'),…"
      ]
     },
     "metadata": {},
     "output_type": "display_data"
    }
   ],
   "source": [
    "#uruchomienie sesji SPARKA\n",
    "from pyspark.sql import SparkSession\n",
    "from pyspark.sql import functions as f\n",
    "from pyspark.sql import functions\n",
    "from pyspark.sql.types import *\n",
    "spark = SparkSession.builder.getOrCreate()"
   ]
  },
  {
   "cell_type": "code",
   "execution_count": 2,
   "id": "97687e39-e28e-4c6c-be63-9d32613eb1b0",
   "metadata": {
    "execution": {
     "iopub.execute_input": "2023-01-27T10:52:13.999451Z",
     "iopub.status.busy": "2023-01-27T10:52:13.999215Z",
     "iopub.status.idle": "2023-01-27T10:52:14.059229Z",
     "shell.execute_reply": "2023-01-27T10:52:14.058554Z",
     "shell.execute_reply.started": "2023-01-27T10:52:13.999428Z"
    },
    "tags": []
   },
   "outputs": [
    {
     "data": {
      "application/vnd.jupyter.widget-view+json": {
       "model_id": "f73604f97c9c4e4d813a91fc3a1a3f8d",
       "version_major": 2,
       "version_minor": 0
      },
      "text/plain": [
       "VBox()"
      ]
     },
     "metadata": {},
     "output_type": "display_data"
    },
    {
     "data": {
      "application/vnd.jupyter.widget-view+json": {
       "model_id": "",
       "version_major": 2,
       "version_minor": 0
      },
      "text/plain": [
       "FloatProgress(value=0.0, bar_style='info', description='Progress:', layout=Layout(height='25px', width='50%'),…"
      ]
     },
     "metadata": {},
     "output_type": "display_data"
    }
   ],
   "source": [
    "Liczba postów na przestrzeni czasu\n",
    "dfPosts = spark.read.parquet('s3://stackexchangebeer1/parquet/posts.parquet')\n",
    "df = dfPosts.groupBy('CreationDate').agg(f.count(\"CreationDate\").alias(\"NumberOfPosts\"))"
   ]
  },
  {
   "cell_type": "code",
   "execution_count": 4,
   "id": "d369056b-4c71-4076-b513-7fc08b4fac68",
   "metadata": {
    "execution": {
     "iopub.execute_input": "2023-01-22T13:00:35.909760Z",
     "iopub.status.busy": "2023-01-22T13:00:35.909525Z",
     "iopub.status.idle": "2023-01-22T13:00:49.569528Z",
     "shell.execute_reply": "2023-01-22T13:00:49.568881Z",
     "shell.execute_reply.started": "2023-01-22T13:00:35.909735Z"
    },
    "tags": []
   },
   "outputs": [
    {
     "data": {
      "application/vnd.jupyter.widget-view+json": {
       "model_id": "",
       "version_major": 2,
       "version_minor": 0
      },
      "text/plain": [
       "FloatProgress(value=0.0, bar_style='info', description='Progress:', layout=Layout(height='25px', width='50%'),…"
      ]
     },
     "metadata": {},
     "output_type": "display_data"
    },
    {
     "data": {
      "application/vnd.jupyter.widget-view+json": {
       "model_id": "2cd853d1586243038d80194517b168b2",
       "version_major": 2,
       "version_minor": 0
      },
      "text/plain": [
       "VBox(children=(HBox(children=(HTML(value='Type:'), Button(description='Table', layout=Layout(width='70px'), st…"
      ]
     },
     "metadata": {},
     "output_type": "display_data"
    },
    {
     "data": {
      "application/vnd.jupyter.widget-view+json": {
       "model_id": "13c3bbb6edf54482bf9c663684dff0b9",
       "version_major": 2,
       "version_minor": 0
      },
      "text/plain": [
       "Output()"
      ]
     },
     "metadata": {},
     "output_type": "display_data"
    }
   ],
   "source": [
    "%%display\n",
    "df"
   ]
  },
  {
   "cell_type": "code",
   "execution_count": 11,
   "id": "1b9ef383-f7f5-43ba-ad04-be3d68366617",
   "metadata": {
    "execution": {
     "iopub.execute_input": "2023-01-22T13:45:01.577955Z",
     "iopub.status.busy": "2023-01-22T13:45:01.577724Z",
     "iopub.status.idle": "2023-01-22T13:45:02.359200Z",
     "shell.execute_reply": "2023-01-22T13:45:02.358507Z",
     "shell.execute_reply.started": "2023-01-22T13:45:01.577930Z"
    },
    "tags": []
   },
   "outputs": [
    {
     "data": {
      "application/vnd.jupyter.widget-view+json": {
       "model_id": "9278ea92ae6247fd906923bda74c1b54",
       "version_major": 2,
       "version_minor": 0
      },
      "text/plain": [
       "VBox()"
      ]
     },
     "metadata": {},
     "output_type": "display_data"
    },
    {
     "data": {
      "application/vnd.jupyter.widget-view+json": {
       "model_id": "",
       "version_major": 2,
       "version_minor": 0
      },
      "text/plain": [
       "FloatProgress(value=0.0, bar_style='info', description='Progress:', layout=Layout(height='25px', width='50%'),…"
      ]
     },
     "metadata": {},
     "output_type": "display_data"
    },
    {
     "name": "stdout",
     "output_type": "stream",
     "text": [
      "+-----------------------------------------------------------------+----------------------------------------------+-----------+-----+\n",
      "|Title                                                            |Tags                                          |AnswerCount|Score|\n",
      "+-----------------------------------------------------------------+----------------------------------------------+-----------+-----+\n",
      "|Do different beer glass shapes really make a difference in taste?|glassware taste aroma                         |5          |68   |\n",
      "|Do cans change the taste of beer?                                |storage cans                                  |9          |46   |\n",
      "|Where can I find open APIs about beer?                           |breweries                                     |3          |45   |\n",
      "|How can I tell whether a beer will improve with age?             |aging bottle-conditioning cellaring freshness |8          |43   |\n",
      "|What is the difference between an ale and a lager?               |brewing ale lager                             |6          |41   |\n",
      "+-----------------------------------------------------------------+----------------------------------------------+-----------+-----+\n",
      "only showing top 5 rows"
     ]
    }
   ],
   "source": [
    "#Porównanie najwyżej i najniżej ocenianych pytań\n",
    "dfPost1 = dfPosts.select(\"AnswerCount\",\"Tags\",\"Title\",\"Score\")\n",
    "dfPostNoNull = poster.dropna(\"any\")\n",
    "df = dfPostNoNull.select(\"Title\",\"Tags\",\"AnswerCount\",\"Score\").sort(f.col(\"Score\").desc()).show(5,truncate=False)"
   ]
  },
  {
   "cell_type": "code",
   "execution_count": 12,
   "id": "f246bf08-2c9d-4fed-b81b-73f3602315dd",
   "metadata": {
    "execution": {
     "iopub.execute_input": "2023-01-22T13:45:59.089268Z",
     "iopub.status.busy": "2023-01-22T13:45:59.088989Z",
     "iopub.status.idle": "2023-01-22T13:45:59.862647Z",
     "shell.execute_reply": "2023-01-22T13:45:59.862058Z",
     "shell.execute_reply.started": "2023-01-22T13:45:59.089240Z"
    }
   },
   "outputs": [
    {
     "data": {
      "application/vnd.jupyter.widget-view+json": {
       "model_id": "7bf6545b655e40968487ec14cbefec49",
       "version_major": 2,
       "version_minor": 0
      },
      "text/plain": [
       "VBox()"
      ]
     },
     "metadata": {},
     "output_type": "display_data"
    },
    {
     "data": {
      "application/vnd.jupyter.widget-view+json": {
       "model_id": "",
       "version_major": 2,
       "version_minor": 0
      },
      "text/plain": [
       "FloatProgress(value=0.0, bar_style='info', description='Progress:', layout=Layout(height='25px', width='50%'),…"
      ]
     },
     "metadata": {},
     "output_type": "display_data"
    },
    {
     "name": "stdout",
     "output_type": "stream",
     "text": [
      "+------------------------------------------------+---------------------------------------------------+-----------+-----+\n",
      "|Title                                           |Tags                                               |AnswerCount|Score|\n",
      "+------------------------------------------------+---------------------------------------------------+-----------+-----+\n",
      "|Why are breweries against freezing pint glasses?|temperature glassware                              |4          |-7   |\n",
      "|What is your favorite beer & food pairing?      |pairing                                            |3          |-3   |\n",
      "|Beer recommendations for a noob                 |taste recommendations breweries flavor craft-beers |3          |-3   |\n",
      "|Does a Sober Scottish man really exists?        |drinking craft-beers scotch                        |1          |-3   |\n",
      "|Cheapest Gin in the UK?                         |spirits gin online                                 |4          |-2   |\n",
      "+------------------------------------------------+---------------------------------------------------+-----------+-----+\n",
      "only showing top 5 rows"
     ]
    }
   ],
   "source": [
    "#Porównanie najwyżej i najniżej ocenianych pytań\n",
    "dfPostNoNull.createOrReplaceTempView(\"DfPosts\")\n",
    "spark.sql(\"select Title,Tags,AnswerCount,Score from DfPosts ORDER BY Score asc\").show(5,truncate=False)"
   ]
  },
  {
   "cell_type": "code",
   "execution_count": 9,
   "id": "c212bec0-3c8a-496f-aee0-cd3ce5967969",
   "metadata": {
    "execution": {
     "iopub.execute_input": "2023-01-27T11:05:10.902403Z",
     "iopub.status.busy": "2023-01-27T11:05:10.902091Z",
     "iopub.status.idle": "2023-01-27T11:05:20.323213Z",
     "shell.execute_reply": "2023-01-27T11:05:20.322607Z",
     "shell.execute_reply.started": "2023-01-27T11:05:10.902367Z"
    },
    "tags": []
   },
   "outputs": [
    {
     "data": {
      "application/vnd.jupyter.widget-view+json": {
       "model_id": "c2e983b578b044e488589247278c962b",
       "version_major": 2,
       "version_minor": 0
      },
      "text/plain": [
       "VBox()"
      ]
     },
     "metadata": {},
     "output_type": "display_data"
    },
    {
     "data": {
      "application/vnd.jupyter.widget-view+json": {
       "model_id": "",
       "version_major": 2,
       "version_minor": 0
      },
      "text/plain": [
       "FloatProgress(value=0.0, bar_style='info', description='Progress:', layout=Layout(height='25px', width='50%'),…"
      ]
     },
     "metadata": {},
     "output_type": "display_data"
    },
    {
     "name": "stdout",
     "output_type": "stream",
     "text": [
      "+---------------+-----+\n",
      "|        TagName|Views|\n",
      "+---------------+-----+\n",
      "|           wine|  137|\n",
      "|          taste|  120|\n",
      "|        history|   85|\n",
      "|recommendations|   78|\n",
      "|        brewing|   69|\n",
      "+---------------+-----+"
     ]
    }
   ],
   "source": [
    "#Top N tagów które wygenerowały najwięcej wyświetleń\n",
    "dfTags = spark.read.parquet('s3://stackexchangebeer1/parquet/tags.parquet')\n",
    "dfTags1 = dfTags.select(\"TagName\",\"Count\")\n",
    "dfTags1.createOrReplaceTempView(\"DfTags\")\n",
    "df = spark.sql(\"select TagName, Count as Views from DfTags ORDER BY Count desc limit 5\")\n",
    "df.show()"
   ]
  },
  {
   "cell_type": "code",
   "execution_count": 8,
   "id": "aaacf19c-6d31-452f-9253-c29c94cb7b01",
   "metadata": {
    "execution": {
     "iopub.execute_input": "2023-01-27T11:03:22.192760Z",
     "iopub.status.busy": "2023-01-27T11:03:22.192449Z",
     "iopub.status.idle": "2023-01-27T11:03:29.775656Z",
     "shell.execute_reply": "2023-01-27T11:03:29.775046Z",
     "shell.execute_reply.started": "2023-01-27T11:03:22.192731Z"
    },
    "tags": []
   },
   "outputs": [
    {
     "data": {
      "application/vnd.jupyter.widget-view+json": {
       "model_id": "",
       "version_major": 2,
       "version_minor": 0
      },
      "text/plain": [
       "FloatProgress(value=0.0, bar_style='info', description='Progress:', layout=Layout(height='25px', width='50%'),…"
      ]
     },
     "metadata": {},
     "output_type": "display_data"
    },
    {
     "data": {
      "application/vnd.jupyter.widget-view+json": {
       "model_id": "c48768f579994d13ab11676d1469c9ce",
       "version_major": 2,
       "version_minor": 0
      },
      "text/plain": [
       "VBox(children=(HBox(children=(HTML(value='Type:'), Button(description='Table', layout=Layout(width='70px'), st…"
      ]
     },
     "metadata": {},
     "output_type": "display_data"
    },
    {
     "data": {
      "application/vnd.jupyter.widget-view+json": {
       "model_id": "5611eeaed08c4006bb7e2a4f382538f2",
       "version_major": 2,
       "version_minor": 0
      },
      "text/plain": [
       "Output()"
      ]
     },
     "metadata": {},
     "output_type": "display_data"
    }
   ],
   "source": [
    "%%display\n",
    "df"
   ]
  },
  {
   "cell_type": "code",
   "execution_count": 14,
   "id": "32790bd8-9576-4378-9612-99cecdb7f8fd",
   "metadata": {
    "execution": {
     "iopub.execute_input": "2023-01-22T13:55:33.708786Z",
     "iopub.status.busy": "2023-01-22T13:55:33.708539Z",
     "iopub.status.idle": "2023-01-22T13:55:33.768733Z",
     "shell.execute_reply": "2023-01-22T13:55:33.768110Z",
     "shell.execute_reply.started": "2023-01-22T13:55:33.708758Z"
    }
   },
   "outputs": [
    {
     "data": {
      "application/vnd.jupyter.widget-view+json": {
       "model_id": "7271afc36af64e7b99be069aca0de074",
       "version_major": 2,
       "version_minor": 0
      },
      "text/plain": [
       "VBox()"
      ]
     },
     "metadata": {},
     "output_type": "display_data"
    },
    {
     "data": {
      "application/vnd.jupyter.widget-view+json": {
       "model_id": "",
       "version_major": 2,
       "version_minor": 0
      },
      "text/plain": [
       "FloatProgress(value=0.0, bar_style='info', description='Progress:', layout=Layout(height='25px', width='50%'),…"
      ]
     },
     "metadata": {},
     "output_type": "display_data"
    },
    {
     "name": "stdout",
     "output_type": "stream",
     "text": [
      "root\n",
      " |-- Count: integer (nullable = true)\n",
      " |-- PostId: integer (nullable = true)\n",
      " |-- Id: integer (nullable = true)\n",
      " |-- TagName: string (nullable = true)\n",
      " |-- WikiPostId: integer (nullable = true)"
     ]
    }
   ],
   "source": [
    "dfTags.printSchema()"
   ]
  },
  {
   "cell_type": "code",
   "execution_count": 27,
   "id": "0d2adf6f-398f-4516-a65d-89f60e6c5066",
   "metadata": {
    "execution": {
     "iopub.execute_input": "2023-01-22T17:53:20.915581Z",
     "iopub.status.busy": "2023-01-22T17:53:20.915338Z",
     "iopub.status.idle": "2023-01-22T17:53:20.972917Z",
     "shell.execute_reply": "2023-01-22T17:53:20.972206Z",
     "shell.execute_reply.started": "2023-01-22T17:53:20.915555Z"
    },
    "tags": []
   },
   "outputs": [
    {
     "data": {
      "application/vnd.jupyter.widget-view+json": {
       "model_id": "73f3c4049c2246eca521eed3099c8388",
       "version_major": 2,
       "version_minor": 0
      },
      "text/plain": [
       "VBox()"
      ]
     },
     "metadata": {},
     "output_type": "display_data"
    },
    {
     "data": {
      "application/vnd.jupyter.widget-view+json": {
       "model_id": "",
       "version_major": 2,
       "version_minor": 0
      },
      "text/plain": [
       "FloatProgress(value=0.0, bar_style='info', description='Progress:', layout=Layout(height='25px', width='50%'),…"
      ]
     },
     "metadata": {},
     "output_type": "display_data"
    }
   ],
   "source": [
    "#najczęściej występujące słowa w tytułach\n",
    "\n",
    "#funkcja usuwająca niepotrzebne znaki oraz zmniejszająca wszystkie litery\n",
    "from pyspark.sql.functions import regexp_replace, trim, col, lower\n",
    "\n",
    "def remove_chars(column):\n",
    "    return trim(lower(regexp_replace(column, '([^\\s\\w_]|_)+', ''))).alias('Title')"
   ]
  },
  {
   "cell_type": "code",
   "execution_count": 28,
   "id": "48293b06-063a-4c0a-a458-3b75983494cf",
   "metadata": {
    "execution": {
     "iopub.execute_input": "2023-01-22T17:53:26.620455Z",
     "iopub.status.busy": "2023-01-22T17:53:26.620200Z",
     "iopub.status.idle": "2023-01-22T17:53:26.877083Z",
     "shell.execute_reply": "2023-01-22T17:53:26.876495Z",
     "shell.execute_reply.started": "2023-01-22T17:53:26.620428Z"
    },
    "tags": []
   },
   "outputs": [
    {
     "data": {
      "application/vnd.jupyter.widget-view+json": {
       "model_id": "67bc9015318f4e298871c7558cf87ea4",
       "version_major": 2,
       "version_minor": 0
      },
      "text/plain": [
       "VBox()"
      ]
     },
     "metadata": {},
     "output_type": "display_data"
    },
    {
     "data": {
      "application/vnd.jupyter.widget-view+json": {
       "model_id": "",
       "version_major": 2,
       "version_minor": 0
      },
      "text/plain": [
       "FloatProgress(value=0.0, bar_style='info', description='Progress:', layout=Layout(height='25px', width='50%'),…"
      ]
     },
     "metadata": {},
     "output_type": "display_data"
    }
   ],
   "source": [
    "#aplikacja funkcji do DataFrame'u składjącego się z kolumny Title\n",
    "df = dfPosts.select(\"Title\").select(remove_chars(col('Title')))"
   ]
  },
  {
   "cell_type": "code",
   "execution_count": null,
   "id": "0bc87466-e10b-4b94-b2ba-e9f5fe85f5c5",
   "metadata": {},
   "outputs": [],
   "source": [
    "df1 = df.na.drop(\"all\")"
   ]
  },
  {
   "cell_type": "code",
   "execution_count": 29,
   "id": "24924faf-c6e7-4329-b303-60254157c135",
   "metadata": {
    "execution": {
     "iopub.execute_input": "2023-01-22T17:53:30.515970Z",
     "iopub.status.busy": "2023-01-22T17:53:30.515744Z",
     "iopub.status.idle": "2023-01-22T17:53:39.819457Z",
     "shell.execute_reply": "2023-01-22T17:53:39.818569Z",
     "shell.execute_reply.started": "2023-01-22T17:53:30.515945Z"
    },
    "tags": []
   },
   "outputs": [
    {
     "data": {
      "application/vnd.jupyter.widget-view+json": {
       "model_id": "a9c9485df1f94838b1a55dc1520e3471",
       "version_major": 2,
       "version_minor": 0
      },
      "text/plain": [
       "VBox()"
      ]
     },
     "metadata": {},
     "output_type": "display_data"
    },
    {
     "data": {
      "application/vnd.jupyter.widget-view+json": {
       "model_id": "",
       "version_major": 2,
       "version_minor": 0
      },
      "text/plain": [
       "FloatProgress(value=0.0, bar_style='info', description='Progress:', layout=Layout(height='25px', width='50%'),…"
      ]
     },
     "metadata": {},
     "output_type": "display_data"
    },
    {
     "name": "stdout",
     "output_type": "stream",
     "text": [
      "+-----+-----+\n",
      "| word|count|\n",
      "+-----+-----+\n",
      "| beer|  372|\n",
      "|  the|  330|\n",
      "|    a|  309|\n",
      "| what|  255|\n",
      "|   in|  247|\n",
      "|   to|  245|\n",
      "|   is|  243|\n",
      "|   of|  231|\n",
      "|  how|  147|\n",
      "|  are|  142|\n",
      "|  and|  142|\n",
      "| wine|  128|\n",
      "|  for|  125|\n",
      "|  why|  111|\n",
      "|   do|  105|\n",
      "|  can|  104|\n",
      "|beers|  100|\n",
      "|    i|   90|\n",
      "| with|   82|\n",
      "|there|   82|\n",
      "+-----+-----+\n",
      "only showing top 20 rows"
     ]
    }
   ],
   "source": [
    "#podzielenie słów oraz ich podliczenie\n",
    "from pyspark.sql import functions as f \n",
    "\n",
    "df.withColumn('word', f.explode(f.split(f.col('Title'), ' ')))\\\n",
    "    .groupBy('word')\\\n",
    "    .count()\\\n",
    "    .sort('count', ascending=False)\\\n",
    "    .show()"
   ]
  },
  {
   "cell_type": "code",
   "execution_count": 9,
   "id": "d9611702-36ee-419d-8029-8fdd9b8324c4",
   "metadata": {
    "execution": {
     "iopub.execute_input": "2023-01-25T14:55:13.426790Z",
     "iopub.status.busy": "2023-01-25T14:55:13.426543Z",
     "iopub.status.idle": "2023-01-25T14:55:14.195373Z",
     "shell.execute_reply": "2023-01-25T14:55:14.194743Z",
     "shell.execute_reply.started": "2023-01-25T14:55:13.426765Z"
    }
   },
   "outputs": [
    {
     "data": {
      "application/vnd.jupyter.widget-view+json": {
       "model_id": "b15094427d6b4ce0a9e0b79ea59b1d9b",
       "version_major": 2,
       "version_minor": 0
      },
      "text/plain": [
       "VBox()"
      ]
     },
     "metadata": {},
     "output_type": "display_data"
    },
    {
     "data": {
      "application/vnd.jupyter.widget-view+json": {
       "model_id": "",
       "version_major": 2,
       "version_minor": 0
      },
      "text/plain": [
       "FloatProgress(value=0.0, bar_style='info', description='Progress:', layout=Layout(height='25px', width='50%'),…"
      ]
     },
     "metadata": {},
     "output_type": "display_data"
    }
   ],
   "source": [
    "stopwords = ['i','me','my','myself','we','our','ours','ourselves','you',\"you're\",\"you've\",\"you'll\",\"you'd\",'your','yours','yourself','yourselves','he','him',\\\n",
    " 'his','himself','she',\"she's\",'her','hers','herself','it',\"it's\",'its','itself','they','them','their','theirs','themselves','what','which','who','whom','this','that',\\\n",
    " \"that'll\",'these','those','am','is','are','was','were','be','been','being','have','has','had','having','do','does','did','doing','a','an','the','and','but','if','or','because',\\\n",
    " 'as','until','while','of','at','by','for','with','about','against','between','into','through','during','before','after','above','below','to','from','up','down','in','out','on',\\\n",
    " 'off','over','under','again','further','then','once','here','there','when','where','why','how','all','any','both','each','few','more','most','other','some','such','no','nor','not',\\\n",
    " 'only','own','same','so','than','too','very','s','t','can','will','just','don',\"don't\",'should',\"should've\",'now','d','ll','m','o','re','ve','y','ain','aren',\"aren't\",'couldn',\\\n",
    " \"couldn't\", 'didn',\"didn't\",'doesn',\"doesn't\",'hadn',\"hadn't\",'hasn',\"hasn't\",'haven',\"haven't\",'isn',\"isn't\",'ma','mightn',\"mightn't\",'mustn',\"mustn't\",'needn', \\\n",
    " \"needn't\",'shan', \"shan't\",'shouldn',\"shouldn't\",'wasn',\"wasn't\",'weren',\"weren't\",'won',\"won't\",'wouldn',\"wouldn't\", ' ']\n",
    "\n",
    "df2.filter(~df2['word'].isin(stopwords)).show(5)"
   ]
  },
  {
   "cell_type": "code",
   "execution_count": 18,
   "id": "618aa343-5aee-4ca8-8e85-c2373419cbda",
   "metadata": {
    "execution": {
     "iopub.execute_input": "2023-01-25T15:02:34.839067Z",
     "iopub.status.busy": "2023-01-25T15:02:34.838822Z",
     "iopub.status.idle": "2023-01-25T15:03:18.240513Z",
     "shell.execute_reply": "2023-01-25T15:03:18.239885Z",
     "shell.execute_reply.started": "2023-01-25T15:02:34.839039Z"
    },
    "tags": []
   },
   "outputs": [
    {
     "data": {
      "application/vnd.jupyter.widget-view+json": {
       "model_id": "ddbc58fba3184054bb7e27e58f5dc4af",
       "version_major": 2,
       "version_minor": 0
      },
      "text/plain": [
       "VBox()"
      ]
     },
     "metadata": {},
     "output_type": "display_data"
    },
    {
     "data": {
      "application/vnd.jupyter.widget-view+json": {
       "model_id": "",
       "version_major": 2,
       "version_minor": 0
      },
      "text/plain": [
       "FloatProgress(value=0.0, bar_style='info', description='Progress:', layout=Layout(height='25px', width='50%'),…"
      ]
     },
     "metadata": {},
     "output_type": "display_data"
    }
   ],
   "source": [
    "#zaimportowanie tabeli Posts oraz Users\n",
    "dfPosts = spark.read.parquet('s3://stackexchangebeer1/parquet/posts.parquet')\n",
    "dfUsers = spark.read.parquet('s3://stackexchangebeer1/parquet/users.parquet')"
   ]
  },
  {
   "cell_type": "code",
   "execution_count": 20,
   "id": "43ba8ab0-5aec-4208-9b5f-ced4030d8e2c",
   "metadata": {
    "execution": {
     "iopub.execute_input": "2023-01-25T15:05:30.251419Z",
     "iopub.status.busy": "2023-01-25T15:05:30.251089Z",
     "iopub.status.idle": "2023-01-25T15:05:41.643435Z",
     "shell.execute_reply": "2023-01-25T15:05:41.630631Z",
     "shell.execute_reply.started": "2023-01-25T15:05:30.251374Z"
    },
    "tags": []
   },
   "outputs": [
    {
     "data": {
      "application/vnd.jupyter.widget-view+json": {
       "model_id": "959caaa8caca445fb4054b861aa09ecf",
       "version_major": 2,
       "version_minor": 0
      },
      "text/plain": [
       "VBox()"
      ]
     },
     "metadata": {},
     "output_type": "display_data"
    },
    {
     "data": {
      "application/vnd.jupyter.widget-view+json": {
       "model_id": "",
       "version_major": 2,
       "version_minor": 0
      },
      "text/plain": [
       "FloatProgress(value=0.0, bar_style='info', description='Progress:', layout=Layout(height='25px', width='50%'),…"
      ]
     },
     "metadata": {},
     "output_type": "display_data"
    },
    {
     "name": "stdout",
     "output_type": "stream",
     "text": [
      "Udzial uzytkownikow ktorzy nigdy nic nie zapostowali wynosi 86.35%"
     ]
    }
   ],
   "source": [
    "#procent użytkowników którzy nigdy nic nie zapostowali\n",
    "\n",
    "#liczba uczestników która stworzyła kiedykolwiek post\n",
    "dfUsers1 = dfUsers.select(\"Id\")\n",
    "dfPosts1 = dfPosts.select(\"OwnerUserId\")\n",
    "num_of_user_create_post = dfUsers1.join(dfPosts1, dfUsers1.Id == dfPosts1.OwnerUserId, \"inner\").distinct().count()\n",
    "\n",
    "#całkowita liczby użytkowników\n",
    "num_of_users = dfUsers.count()\n",
    "\n",
    "#% użytkowników bez stworzenia posta\n",
    "percent_of_users_without_post = 100 - round((num_of_user_create_post / num_of_users),4)*100\n",
    "print(f'Udzial uzytkownikow ktorzy nigdy nic nie zapostowali wynosi {percent_of_users_without_post}%')"
   ]
  },
  {
   "cell_type": "code",
   "execution_count": 4,
   "id": "dfad29f5-b88a-4312-9f28-bbc9e4783290",
   "metadata": {
    "execution": {
     "iopub.execute_input": "2023-01-27T10:54:31.906968Z",
     "iopub.status.busy": "2023-01-27T10:54:31.906739Z",
     "iopub.status.idle": "2023-01-27T10:54:43.250080Z",
     "shell.execute_reply": "2023-01-27T10:54:43.249520Z",
     "shell.execute_reply.started": "2023-01-27T10:54:31.906944Z"
    },
    "tags": []
   },
   "outputs": [
    {
     "data": {
      "application/vnd.jupyter.widget-view+json": {
       "model_id": "03b61579c0da4ce5b7ab59d1901664be",
       "version_major": 2,
       "version_minor": 0
      },
      "text/plain": [
       "VBox()"
      ]
     },
     "metadata": {},
     "output_type": "display_data"
    },
    {
     "data": {
      "application/vnd.jupyter.widget-view+json": {
       "model_id": "",
       "version_major": 2,
       "version_minor": 0
      },
      "text/plain": [
       "FloatProgress(value=0.0, bar_style='info', description='Progress:', layout=Layout(height='25px', width='50%'),…"
      ]
     },
     "metadata": {},
     "output_type": "display_data"
    }
   ],
   "source": [
    "#porównanie punktacji odpowiedzi zaakceptowanych vs pozostał\n",
    "\n",
    "dfComments = spark.read.parquet('s3://stackexchangebeer1/parquet/comments.parquet')\n",
    "dfVotes = spark.read.parquet('s3://stackexchangebeer1/parquet/votes.parquet')\n",
    "\n",
    "dfVotes1 = dfVotes.select(\"PostId\", \"VoteTypeId\")\n",
    "dfComments1 = dfComments.select(\"PostId\", \"Score\")\n",
    "\n",
    "df = dfVotes1.join(dfComments1, dfVotes1.PostId == dfComments1.PostId, \"inner\")\n",
    "\n",
    "df.createOrReplaceTempView(\"dfPostsComments\")"
   ]
  },
  {
   "cell_type": "code",
   "execution_count": 5,
   "id": "ddb130bd-556e-4a14-889b-10aa8f8daa87",
   "metadata": {
    "execution": {
     "iopub.execute_input": "2023-01-27T10:57:40.045227Z",
     "iopub.status.busy": "2023-01-27T10:57:40.044995Z",
     "iopub.status.idle": "2023-01-27T10:57:53.367568Z",
     "shell.execute_reply": "2023-01-27T10:57:53.366871Z",
     "shell.execute_reply.started": "2023-01-27T10:57:40.045204Z"
    }
   },
   "outputs": [
    {
     "data": {
      "application/vnd.jupyter.widget-view+json": {
       "model_id": "97f7ed18bc354ecb89a71e35ae2a04d2",
       "version_major": 2,
       "version_minor": 0
      },
      "text/plain": [
       "VBox()"
      ]
     },
     "metadata": {},
     "output_type": "display_data"
    },
    {
     "data": {
      "application/vnd.jupyter.widget-view+json": {
       "model_id": "",
       "version_major": 2,
       "version_minor": 0
      },
      "text/plain": [
       "FloatProgress(value=0.0, bar_style='info', description='Progress:', layout=Layout(height='25px', width='50%'),…"
      ]
     },
     "metadata": {},
     "output_type": "display_data"
    },
    {
     "name": "stdout",
     "output_type": "stream",
     "text": [
      "+--------+--------+--------+--------+\n",
      "|MaxScore|MinScore|AvgScore|StdScore|\n",
      "+--------+--------+--------+--------+\n",
      "|      12|       0|    0.45|    1.08|\n",
      "+--------+--------+--------+--------+"
     ]
    }
   ],
   "source": [
    "spark.sql(\"select max(Score) as MaxScore , min(Score) as MinScore , round(avg(Score),2) as AvgScore, \\\n",
    "          round(stddev(Score),2) as StdScore from dfPostsComments where VoteTypeId = 1\").show()"
   ]
  },
  {
   "cell_type": "code",
   "execution_count": 6,
   "id": "35cde4c7-cf64-49c2-ae3a-5699e85f84b8",
   "metadata": {
    "execution": {
     "iopub.execute_input": "2023-01-27T10:59:58.129833Z",
     "iopub.status.busy": "2023-01-27T10:59:58.129599Z",
     "iopub.status.idle": "2023-01-27T11:00:07.432518Z",
     "shell.execute_reply": "2023-01-27T11:00:07.431665Z",
     "shell.execute_reply.started": "2023-01-27T10:59:58.129809Z"
    }
   },
   "outputs": [
    {
     "data": {
      "application/vnd.jupyter.widget-view+json": {
       "model_id": "6834520521e1451d93f3d6aa2d088cca",
       "version_major": 2,
       "version_minor": 0
      },
      "text/plain": [
       "VBox()"
      ]
     },
     "metadata": {},
     "output_type": "display_data"
    },
    {
     "data": {
      "application/vnd.jupyter.widget-view+json": {
       "model_id": "",
       "version_major": 2,
       "version_minor": 0
      },
      "text/plain": [
       "FloatProgress(value=0.0, bar_style='info', description='Progress:', layout=Layout(height='25px', width='50%'),…"
      ]
     },
     "metadata": {},
     "output_type": "display_data"
    },
    {
     "name": "stdout",
     "output_type": "stream",
     "text": [
      "+--------+--------+--------+--------+\n",
      "|MaxScore|MinScore|AvgScore|StdScore|\n",
      "+--------+--------+--------+--------+\n",
      "|      19|       0|    0.65|    1.41|\n",
      "+--------+--------+--------+--------+"
     ]
    }
   ],
   "source": [
    "spark.sql(\"select max(Score) as MaxScore , min(Score) as MinScore , round(avg(Score),2) as AvgScore, \\\n",
    "          round(stddev(Score),2) as StdScore from dfPostsComments where VoteTypeId != 1\").show()"
   ]
  },
  {
   "cell_type": "code",
   "execution_count": null,
   "id": "7e5b5cb5-4b03-42f8-9549-8de683a28e03",
   "metadata": {},
   "outputs": [],
   "source": [
    "#wykresy dla top 5 tagów\n",
    "sc.install_pypi_package(\"matplotlib==3.1.1\", \"https://pypi.org/simple\") \n",
    "sc.install_pypi_package(\"pandas==0.25.1\")"
   ]
  },
  {
   "cell_type": "code",
   "execution_count": null,
   "id": "668e60b6-4480-4931-97fd-6d0da8c8017b",
   "metadata": {},
   "outputs": [],
   "source": [
    "#zaimportowanie tabeli Posts oraz jej wyczyszczenie i uporządkowanie\n",
    "from pyspark.sql import functions as f\n",
    "dfPosts = spark.read.parquet('s3://stackexchangebeer1/parquet/posts1.parquet')\n",
    "dfPosts1 = dfPosts.select(\"CreationDate\", \"Tags\")\n",
    "df2 = dfPosts1.withColumn('Tags',f.regexp_replace(f.regexp_replace('Tags', '<', ''),'>', ' '))\n",
    "df3 = df2.withColumn(\"Tags\",f.expr(\"substring(Tags, 1, length(Tags)-1)\"))\n",
    "df4 = df3.withColumn('Tags', f.explode(f.split(f.col('Tags'), ' ')))\n",
    "df4.show(10)"
   ]
  },
  {
   "cell_type": "code",
   "execution_count": null,
   "id": "a008c057-a94a-49fb-b29c-eb42dcb51b04",
   "metadata": {},
   "outputs": [],
   "source": [
    "df_brewing = df4.filter(df4.Tags == 'brewing')\n",
    "tag_brewing = df_brewing.groupBy('CreationDate').agg(f.count('CreationDate').alias('brewing'))\n",
    "\n",
    "df_history = df4.filter(df4.Tags == 'history')\n",
    "tag_history = df_history.groupBy('CreationDate').agg(f.count('CreationDate').alias('history'))\n",
    "\n",
    "df_reccomendations = df4.filter(df4.Tags == 'reccomendations')\n",
    "reccomendations_wine = df_reccomendations.groupBy('CreationDate').agg(f.count('CreationDate').alias('reccomendations'))\n",
    "\n",
    "df_taste = df4.filter(df4.Tags == 'taste')\n",
    "tag_taste = df_taste.groupBy('CreationDate').agg(f.count('CreationDate').alias('taste'))\n",
    "\n",
    "df_wine = df4.filter(df4.Tags == 'wine')\n",
    "tag_wine = df_wine.groupBy('CreationDate').agg(f.count('CreationDate').alias('wine'))\n",
    "\n"
   ]
  },
  {
   "cell_type": "code",
   "execution_count": null,
   "id": "aa41ce63-6f03-49dd-9d95-89b54fc7e4a3",
   "metadata": {},
   "outputs": [],
   "source": [
    "%%display\n",
    "tag_twine"
   ]
  },
  {
   "cell_type": "code",
   "execution_count": null,
   "id": "41106022-33be-4556-9c67-157dabac99f3",
   "metadata": {},
   "outputs": [],
   "source": [
    "import matplotlib.pyplot as plt\n",
    "import pandas\n",
    "tag_wine_pand = tag_wine.withColumn(\"wine\", tag_wine[\"wine\"].cast('int'))\n",
    "df = tag_wine_pand.toPandas()\n",
    "plt.clf()\n",
    "plt.bar(df.CreationDate,df.wine)\n",
    "plt.xlabel('CreationDate')\n",
    "plt.ylabel('wine')\n",
    "plt.show()\n",
    "%matplot plt"
   ]
  },
  {
   "cell_type": "code",
   "execution_count": null,
   "id": "e9be7628-cbed-4946-ab88-b88dda242205",
   "metadata": {},
   "outputs": [],
   "source": [
    "import matplotlib.pyplot as plt\n",
    "import pandas\n",
    "tag_taste_pand = tag_taste.withColumn(\"taste\", tag_taste[\"taste\"].cast('int'))\n",
    "df = tag_taste_pand.toPandas()\n",
    "plt.clf()\n",
    "plt.bar(df.CreationDate,df.taste)\n",
    "plt.xlabel('CreationDate')\n",
    "plt.ylabel('taste')\n",
    "plt.show()\n",
    "%matplot plt"
   ]
  },
  {
   "cell_type": "code",
   "execution_count": null,
   "id": "cca5bda7-0933-4587-82bd-b69143b9c6d0",
   "metadata": {},
   "outputs": [],
   "source": [
    "import matplotlib.pyplot as plt\n",
    "import pandas\n",
    "tag_recommendations_pand = tag_recommendations.withColumn(\"recommendations\", tag_recommendations[\"recommendations\"].cast('int'))\n",
    "df = tag_recommendations_pand.toPandas()\n",
    "plt.clf()\n",
    "plt.bar(df.CreationDate,df.recommendations)\n",
    "plt.xlabel('CreationDate')\n",
    "plt.ylabel('reccomendations')\n",
    "plt.show()\n",
    "%matplot plt"
   ]
  },
  {
   "cell_type": "code",
   "execution_count": null,
   "id": "0f8043f3-1ca2-40c5-94fd-93162e7b6bca",
   "metadata": {},
   "outputs": [],
   "source": [
    "import matplotlib.pyplot as plt\n",
    "import pandas\n",
    "tag_history_pand = tag_history.withColumn(\"history\", tag_history[\"history\"].cast('int'))\n",
    "df = tag_history_pand.toPandas()\n",
    "plt.clf()\n",
    "plt.bar(df.CreationDate,df.history)\n",
    "plt.xlabel('CreationDate')\n",
    "plt.ylabel('history')\n",
    "plt.show()\n",
    "%matplot plt"
   ]
  },
  {
   "cell_type": "code",
   "execution_count": null,
   "id": "cdc86983-932f-4c66-80cd-b8ebd07f1a5d",
   "metadata": {},
   "outputs": [],
   "source": [
    "import matplotlib.pyplot as plt\n",
    "tag_brewing_pand = tag_brewing.withColumn(\"brewing\", tag_brewing[\"brewing\"].cast('int'))\n",
    "plt.clf()\n",
    "df = tag_brewing_pand.toPandas()\n",
    "plt.bar(df.CreationDate,df.brewing)\n",
    "plt.xlabel('CreationDate')\n",
    "plt.ylabel('brewing')\n",
    "plt.figure(figsize=(10,6))\n",
    "plt.show()\n",
    "%matplot plt"
   ]
  },
  {
   "cell_type": "code",
   "execution_count": null,
   "id": "2a729d37-2859-4ec1-8f4b-c920c62c45d2",
   "metadata": {},
   "outputs": [],
   "source": [
    "#średni czas pojawienia się zaakceptowanej odpowiedzi\n",
    "dfPosts = spark.read.parquet('s3://stackexchangebeer1/parquet/posts.parquet')\n",
    "dfVotes = spark.read.parquet('s3://stackexchangebeer1/parquet/votes.parquet')\n",
    "dfComments = spark.read.parquet('s3://stackexchangebeer1/parquet/comments.parquet')\n",
    "\n",
    "#wybranie odpowiednich kolumn z tabel i zmiana nazwy kolumn\n",
    "dfComments1 = dfComments.select(\"PostId\", \"Date\")\n",
    "dfComments2 = dfComments1.withColumnRenamed(\"Date\",\"CommentDate\")\n",
    "dfPosts1 = dfPosts.select('Id', 'Date')\n",
    "dfVotes1 = dfVotes.select('PostId', 'VoteTypeId')\n",
    "\n",
    "#połączenie funkcją join tabel Posts oraz Votes\n",
    "dfmerge = dfPosts1.join(dfVotes2, dfPosts1.Id == dfVotes2.PostId, 'inner')\n",
    "\n",
    "#połączenie funkcją join tabli Comments z wcześniej połączoną tabelą Posts oraz Votes\n",
    "df = dfmerge.join(dfComments2, dfmerge.PostId == dfComments2.PostId, 'inner')"
   ]
  },
  {
   "cell_type": "code",
   "execution_count": null,
   "id": "134aaa60-4970-48f1-ade6-2c210a080a78",
   "metadata": {},
   "outputs": [],
   "source": [
    "from pyspark.sql import functions as f\n",
    "\n",
    "#przefiltrowanie zaakceptowanych odpowiedzi\n",
    "df_answer_time = df.filter(df.VoteTypeId == 1)\n",
    "\n",
    "#obliczenie czasu pojawienia się zaakceptowanej odpowiedzi w sekundach i dniach\n",
    "df_time = df_answer_time.withColumn(\"diffinsec\", f.col(\"CommentDate\").cast(\"long\") - f.col(\"Date\").cast(\"long\"))\n",
    "df_time = df_time.withColumn(\"diffindays\", f.col(\"diffinsec\")/(3600*24))\n",
    "\n",
    "df_time.createOrReplaceTempView(\"DF\")\n",
    "df = spark.sql(\"select round(avg(diffindays),2) as avg_time_days from DF\")\n",
    "df.show()"
   ]
  },
  {
   "cell_type": "code",
   "execution_count": null,
   "id": "e1632073-bfd4-45be-8ac2-5366d54f88ca",
   "metadata": {},
   "outputs": [],
   "source": [
    "#najdłużej istniejący użytkownicy na forum StackExchange\n",
    "dfComments = spark.read.parquet('s3://stackexchangebeer1/parquet/comments.parquet')\n",
    "dfUsers = spark.read.parquet('s3://stackexchangebeer1/parquet/users.parquet')\n",
    "\n",
    "#wybranie odpowiednich kolumn do analizy\n",
    "dfUsers1 = dfUsers.select(\"Id\", \"CreationDate\",\"DisplayName\")\n",
    "dfComments1 = dfComments.select(\"UserId\", \"Date\")\n",
    "dfComments2 = dfComments1.withColumnRenamed(\"Date\",\"CommentDate\")"
   ]
  },
  {
   "cell_type": "code",
   "execution_count": null,
   "id": "3c28370f-dc83-42da-8ba5-c8a60f009f0b",
   "metadata": {},
   "outputs": [],
   "source": [
    "#połączenie kolumn Comments oraz Users\n",
    "df_merge = dfUsers1.join(dfComments2, dfUsers1.Id == dfComments2.UserId, 'inner')\n",
    "\n",
    "#policzenie różnicy czasu stworzenia konta użytkownika do jego ostatniego komentarza\n",
    "df_time = df_merge.withColumn(\"diffinsec\", f.col(\"CommentDate\").cast(\"long\") - f.col(\"CreationDate\").cast(\"long\"))\n",
    "df_time = df_time.withColumn(\"diffindays\", f.col(\"diffinsec\")/(3600*24))"
   ]
  },
  {
   "cell_type": "code",
   "execution_count": null,
   "id": "7d169674-50ce-4c54-aa98-ee74c7556962",
   "metadata": {},
   "outputs": [],
   "source": [
    "#usunięcie użytkownika z Id = -1 - jest to froum_bot\n",
    "df_life_time = df_time.filter(df_time.Id != -1)\n",
    "\n",
    "#stworzenie TempView i przefiltorawanie wyników po nazwach użytkowników oraz najdłuższym czasie istnienia\n",
    "df_life_time.createOrReplaceTempView(\"time\")\n",
    "df_life = spark.sql(\"select distinct DisplayName, round(max(diffindays),2) as life_time_day from time group by DisplayName order by life_time_day desc limit 10\")\n",
    "df_life.show()"
   ]
  },
  {
   "cell_type": "code",
   "execution_count": null,
   "id": "8f33bd88-3a7f-4e48-ae18-da5dd86d49d6",
   "metadata": {},
   "outputs": [],
   "source": [
    "#wykres najdłużej istniejących użytkowników\n",
    "%%display \n",
    "df_life"
   ]
  },
  {
   "cell_type": "code",
   "execution_count": null,
   "id": "32992ba1-b6d8-49d6-832d-bee103573c9d",
   "metadata": {},
   "outputs": [],
   "source": [
    "#procent zaakecptowanych odpoweiedzi oraz odpowiedzi nieezakceptowanych z najwyższą punktacją\n",
    "\n",
    "#dobranie odpowiednich kolumn do analizy\n",
    "dfComments1 = dfComments.select(\"PostId\", \"Score\")\n",
    "dfVotes1 = dfVotes.select(\"PostId\", \"VoteTypeId\")\n",
    "dfVotes2 = dfVotes1.withColumnRenamed(\"PostId\",\"Id\")\n",
    "\n",
    "#połączenie kolumn\n",
    "dfmerge = dfComments1.join(dfVotes2, dfComments1.PostId == dfVotes2.Id, 'inner')\n",
    "#policzenie wszystkich komenatrzy\n",
    "all_comments = dfmerge.count()"
   ]
  },
  {
   "cell_type": "code",
   "execution_count": null,
   "id": "50a7e5a6-24a2-489e-b6fd-24398219c52d",
   "metadata": {},
   "outputs": [],
   "source": [
    "#obliczenie ilości odpowiedzi z maksymalnym wynikiem które nie został zaakceptowane\n",
    "dfmerge.createOrReplaceTempView(\"df\")\n",
    "df = spark.sql(\"select distinct PostId, max(score) as score from df where VoteTypeId != 1 group by PostId\")\n",
    "df_max_score_not_accepted = df.filter(df.score > 0)\n",
    "max_score = df_max_score_not_accepted.count()"
   ]
  },
  {
   "cell_type": "code",
   "execution_count": null,
   "id": "00be6f74-3462-4663-9c64-5c2771a678a5",
   "metadata": {},
   "outputs": [],
   "source": [
    "#obliczenie ilości zaakceptowanych odpowiedzi\n",
    "df_accepted_answer = spark.sql(\"select  PostId, Score as score from df where VoteTypeId = 1\")\n",
    "accepted = df_accepted_answer.count()"
   ]
  },
  {
   "cell_type": "code",
   "execution_count": null,
   "id": "093b7ce9-f37a-420f-bbe4-609d2e66d26c",
   "metadata": {},
   "outputs": [],
   "source": [
    "x = round((766/27106 *100),2)\n",
    "y =round((838/27106 *100),2)\n",
    "\n",
    "print(f'Ilosc zaakceptowanych komentarzy wzgledem wszysktkich komenatrzy wynosi {y}%, zas komentarze nieezaakceptowane z najwyzsza punktacja stanowia {y}%')"
   ]
  },
  {
   "cell_type": "code",
   "execution_count": null,
   "id": "ca632c9c-5611-4a26-9c48-060a3bb9114d",
   "metadata": {},
   "outputs": [],
   "source": []
  }
 ],
 "metadata": {
  "kernelspec": {
   "display_name": "PySpark",
   "language": "python",
   "name": "pysparkkernel"
  },
  "language_info": {
   "codemirror_mode": {
    "name": "python",
    "version": 3
   },
   "file_extension": ".py",
   "mimetype": "text/x-python",
   "name": "pyspark",
   "pygments_lexer": "python3"
  }
 },
 "nbformat": 4,
 "nbformat_minor": 5
}
