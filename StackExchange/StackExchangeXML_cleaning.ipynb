{
 "cells": [
  {
   "cell_type": "code",
   "execution_count": 1,
   "id": "5c7d3e07-9a28-4c73-800c-3eb05567fb39",
   "metadata": {
    "execution": {
     "iopub.execute_input": "2023-01-21T08:40:58.668904Z",
     "iopub.status.busy": "2023-01-21T08:40:58.668725Z",
     "iopub.status.idle": "2023-01-21T08:41:36.630727Z",
     "shell.execute_reply": "2023-01-21T08:41:36.630087Z",
     "shell.execute_reply.started": "2023-01-21T08:40:58.668876Z"
    },
    "tags": []
   },
   "outputs": [
    {
     "data": {
      "application/vnd.jupyter.widget-view+json": {
       "model_id": "0aac833f570a4139862ff93555946009",
       "version_major": 2,
       "version_minor": 0
      },
      "text/plain": [
       "VBox()"
      ]
     },
     "metadata": {},
     "output_type": "display_data"
    },
    {
     "name": "stdout",
     "output_type": "stream",
     "text": [
      "Starting Spark application\n"
     ]
    },
    {
     "data": {
      "text/html": [
       "<table>\n",
       "<tr><th>ID</th><th>YARN Application ID</th><th>Kind</th><th>State</th><th>Spark UI</th><th>Driver log</th><th>User</th><th>Current session?</th></tr><tr><td>0</td><td>application_1674289536756_0001</td><td>pyspark</td><td>idle</td><td><a target=\"_blank\" href=\"http://ip-172-31-45-77.ec2.internal:20888/proxy/application_1674289536756_0001/\" class=\"emr-proxy-link\" emr-resource=\"j-26XFL5Q5UPK0H\n",
       "\" application-id=\"application_1674289536756_0001\">Link</a></td><td><a target=\"_blank\" href=\"http://ip-172-31-34-245.ec2.internal:8042/node/containerlogs/container_1674289536756_0001_01_000001/livy\" >Link</a></td><td>None</td><td>✔</td></tr></table>"
      ],
      "text/plain": [
       "<IPython.core.display.HTML object>"
      ]
     },
     "metadata": {},
     "output_type": "display_data"
    },
    {
     "data": {
      "application/vnd.jupyter.widget-view+json": {
       "model_id": "",
       "version_major": 2,
       "version_minor": 0
      },
      "text/plain": [
       "FloatProgress(value=0.0, bar_style='info', description='Progress:', layout=Layout(height='25px', width='50%'),…"
      ]
     },
     "metadata": {},
     "output_type": "display_data"
    },
    {
     "name": "stdout",
     "output_type": "stream",
     "text": [
      "SparkSession available as 'spark'.\n"
     ]
    },
    {
     "data": {
      "application/vnd.jupyter.widget-view+json": {
       "model_id": "",
       "version_major": 2,
       "version_minor": 0
      },
      "text/plain": [
       "FloatProgress(value=0.0, bar_style='info', description='Progress:', layout=Layout(height='25px', width='50%'),…"
      ]
     },
     "metadata": {},
     "output_type": "display_data"
    }
   ],
   "source": [
    "#uruchomienie sesji SPARKA\n",
    "from pyspark.sql import SparkSession\n",
    "\n",
    "spark = SparkSession.builder.getOrCreate()"
   ]
  },
  {
   "cell_type": "markdown",
   "id": "85958a4a-72d6-47f5-9691-d4d3403524ba",
   "metadata": {},
   "source": [
    "__PLIK BADGES.XML__"
   ]
  },
  {
   "cell_type": "code",
   "execution_count": 2,
   "id": "c0df0cb7-3f1a-47db-8d0e-07c03ddc7ac8",
   "metadata": {
    "execution": {
     "iopub.execute_input": "2023-01-20T16:44:43.441295Z",
     "iopub.status.busy": "2023-01-20T16:44:43.441072Z",
     "iopub.status.idle": "2023-01-20T16:44:43.505468Z",
     "shell.execute_reply": "2023-01-20T16:44:43.504909Z",
     "shell.execute_reply.started": "2023-01-20T16:44:43.441271Z"
    },
    "tags": []
   },
   "outputs": [
    {
     "data": {
      "application/vnd.jupyter.widget-view+json": {
       "model_id": "a3a70b3704084f91a6a7e08e47ac447b",
       "version_major": 2,
       "version_minor": 0
      },
      "text/plain": [
       "VBox()"
      ]
     },
     "metadata": {},
     "output_type": "display_data"
    },
    {
     "data": {
      "application/vnd.jupyter.widget-view+json": {
       "model_id": "",
       "version_major": 2,
       "version_minor": 0
      },
      "text/plain": [
       "FloatProgress(value=0.0, bar_style='info', description='Progress:', layout=Layout(height='25px', width='50%'),…"
      ]
     },
     "metadata": {},
     "output_type": "display_data"
    }
   ],
   "source": [
    "#ustawienie odpowiednich typów danych dla pliku Badges.xml\n",
    "from pyspark.sql.types import *\n",
    "\n",
    "schemaBadges = StructType([\n",
    "    StructField(\"_Class\", IntegerType(), True),\n",
    "    StructField(\"_Date\", TimestampType(), True),\n",
    "    StructField(\"_Id\", IntegerType(), True),\n",
    "    StructField(\"_Name\", StringType(), True),\n",
    "    StructField(\"_TagBased\", BooleanType(), True),\n",
    "    StructField(\"_UserId\", IntegerType(), True)\n",
    "])"
   ]
  },
  {
   "cell_type": "code",
   "execution_count": 3,
   "id": "538fa1ce-eeec-463e-9b30-6ef23b97f43a",
   "metadata": {
    "execution": {
     "iopub.execute_input": "2023-01-20T16:44:48.945053Z",
     "iopub.status.busy": "2023-01-20T16:44:48.944795Z",
     "iopub.status.idle": "2023-01-20T16:44:54.263801Z",
     "shell.execute_reply": "2023-01-20T16:44:54.263093Z",
     "shell.execute_reply.started": "2023-01-20T16:44:48.945025Z"
    },
    "tags": []
   },
   "outputs": [
    {
     "data": {
      "application/vnd.jupyter.widget-view+json": {
       "model_id": "e9a73778ba914a509949dabdef70243c",
       "version_major": 2,
       "version_minor": 0
      },
      "text/plain": [
       "VBox()"
      ]
     },
     "metadata": {},
     "output_type": "display_data"
    },
    {
     "data": {
      "application/vnd.jupyter.widget-view+json": {
       "model_id": "",
       "version_major": 2,
       "version_minor": 0
      },
      "text/plain": [
       "FloatProgress(value=0.0, bar_style='info', description='Progress:', layout=Layout(height='25px', width='50%'),…"
      ]
     },
     "metadata": {},
     "output_type": "display_data"
    },
    {
     "name": "stdout",
     "output_type": "stream",
     "text": [
      "root\n",
      " |-- _Class: integer (nullable = true)\n",
      " |-- _Date: timestamp (nullable = true)\n",
      " |-- _Id: integer (nullable = true)\n",
      " |-- _Name: string (nullable = true)\n",
      " |-- _TagBased: boolean (nullable = true)\n",
      " |-- _UserId: integer (nullable = true)"
     ]
    }
   ],
   "source": [
    "#wczytanie pliku Badges.xml z pomocą modułu spark-xml do DataFrame'u\n",
    "dfBadges = spark.read.format('xml').option('rootTag', 'badges').option('rowTag', 'row').load('s3://stackexchangebeer1/raw_data/Badges.xml',schema=schemaBadges)\n",
    "dfBadges.printSchema()"
   ]
  },
  {
   "cell_type": "code",
   "execution_count": 4,
   "id": "65de4dd9-a7de-4288-b31e-a210856a7636",
   "metadata": {
    "execution": {
     "iopub.execute_input": "2023-01-20T16:45:03.166529Z",
     "iopub.status.busy": "2023-01-20T16:45:03.166279Z",
     "iopub.status.idle": "2023-01-20T16:45:12.511496Z",
     "shell.execute_reply": "2023-01-20T16:45:12.510619Z",
     "shell.execute_reply.started": "2023-01-20T16:45:03.166506Z"
    },
    "tags": []
   },
   "outputs": [
    {
     "data": {
      "application/vnd.jupyter.widget-view+json": {
       "model_id": "ab0e98f89b2745f6b75eb78867000e18",
       "version_major": 2,
       "version_minor": 0
      },
      "text/plain": [
       "VBox()"
      ]
     },
     "metadata": {},
     "output_type": "display_data"
    },
    {
     "data": {
      "application/vnd.jupyter.widget-view+json": {
       "model_id": "",
       "version_major": 2,
       "version_minor": 0
      },
      "text/plain": [
       "FloatProgress(value=0.0, bar_style='info', description='Progress:', layout=Layout(height='25px', width='50%'),…"
      ]
     },
     "metadata": {},
     "output_type": "display_data"
    },
    {
     "name": "stdout",
     "output_type": "stream",
     "text": [
      "+------+--------------------+---+--------------+---------+-------+\n",
      "|_Class|               _Date|_Id|         _Name|_TagBased|_UserId|\n",
      "+------+--------------------+---+--------------+---------+-------+\n",
      "|     3|2014-01-21 20:52:...|  1|Autobiographer|    false|      1|\n",
      "|     3|2014-01-21 20:52:...|  2|Autobiographer|    false|      2|\n",
      "|     3|2014-01-21 20:52:...|  3|Autobiographer|    false|      6|\n",
      "|     3|2014-01-21 20:52:...|  4|Autobiographer|    false|      7|\n",
      "|     3|2014-01-21 20:52:...|  5|Autobiographer|    false|      9|\n",
      "+------+--------------------+---+--------------+---------+-------+\n",
      "only showing top 5 rows"
     ]
    }
   ],
   "source": [
    "dfBadges.show(5)"
   ]
  },
  {
   "cell_type": "code",
   "execution_count": 5,
   "id": "3b3771cf-0029-4189-9cbb-238a4c23dda5",
   "metadata": {
    "execution": {
     "iopub.execute_input": "2023-01-20T16:45:15.599580Z",
     "iopub.status.busy": "2023-01-20T16:45:15.599345Z",
     "iopub.status.idle": "2023-01-20T16:45:16.386651Z",
     "shell.execute_reply": "2023-01-20T16:45:16.385938Z",
     "shell.execute_reply.started": "2023-01-20T16:45:15.599557Z"
    }
   },
   "outputs": [
    {
     "data": {
      "application/vnd.jupyter.widget-view+json": {
       "model_id": "45b40a0eff514245ac127949c9d42d5a",
       "version_major": 2,
       "version_minor": 0
      },
      "text/plain": [
       "VBox()"
      ]
     },
     "metadata": {},
     "output_type": "display_data"
    },
    {
     "data": {
      "application/vnd.jupyter.widget-view+json": {
       "model_id": "",
       "version_major": 2,
       "version_minor": 0
      },
      "text/plain": [
       "FloatProgress(value=0.0, bar_style='info', description='Progress:', layout=Layout(height='25px', width='50%'),…"
      ]
     },
     "metadata": {},
     "output_type": "display_data"
    },
    {
     "name": "stdout",
     "output_type": "stream",
     "text": [
      "+-----+--------------------+---+--------------+--------+------+\n",
      "|Class|                Date| Id|          Name|TagBased|UserId|\n",
      "+-----+--------------------+---+--------------+--------+------+\n",
      "|    3|2014-01-21 20:52:...|  1|Autobiographer|   false|     1|\n",
      "|    3|2014-01-21 20:52:...|  2|Autobiographer|   false|     2|\n",
      "|    3|2014-01-21 20:52:...|  3|Autobiographer|   false|     6|\n",
      "|    3|2014-01-21 20:52:...|  4|Autobiographer|   false|     7|\n",
      "|    3|2014-01-21 20:52:...|  5|Autobiographer|   false|     9|\n",
      "+-----+--------------------+---+--------------+--------+------+\n",
      "only showing top 5 rows"
     ]
    }
   ],
   "source": [
    "#zmiana nazwy kolumn\n",
    "dfBadges1 = dfBadges.withColumnRenamed(\"_Class\",\"Class\")\\\n",
    "                    .withColumnRenamed(\"_Date\",\"Date\")\\\n",
    "                    .withColumnRenamed(\"_Id\",\"Id\")\\\n",
    "                    .withColumnRenamed(\"_Name\",\"Name\")\\\n",
    "                    .withColumnRenamed(\"_TagBased\",\"TagBased\")\\\n",
    "                    .withColumnRenamed(\"_UserId\",\"UserId\")\n",
    "dfBadges1.show(5)"
   ]
  },
  {
   "cell_type": "code",
   "execution_count": 7,
   "id": "0bd1322d-960a-4491-909e-eb9c07973a4f",
   "metadata": {
    "execution": {
     "iopub.execute_input": "2023-01-20T16:45:56.669871Z",
     "iopub.status.busy": "2023-01-20T16:45:56.669650Z",
     "iopub.status.idle": "2023-01-20T16:45:57.449309Z",
     "shell.execute_reply": "2023-01-20T16:45:57.448551Z",
     "shell.execute_reply.started": "2023-01-20T16:45:56.669848Z"
    },
    "tags": []
   },
   "outputs": [
    {
     "data": {
      "application/vnd.jupyter.widget-view+json": {
       "model_id": "d2075a1a48b34a9fa826b2e1247ad4f4",
       "version_major": 2,
       "version_minor": 0
      },
      "text/plain": [
       "VBox()"
      ]
     },
     "metadata": {},
     "output_type": "display_data"
    },
    {
     "data": {
      "application/vnd.jupyter.widget-view+json": {
       "model_id": "",
       "version_major": 2,
       "version_minor": 0
      },
      "text/plain": [
       "FloatProgress(value=0.0, bar_style='info', description='Progress:', layout=Layout(height='25px', width='50%'),…"
      ]
     },
     "metadata": {},
     "output_type": "display_data"
    },
    {
     "name": "stdout",
     "output_type": "stream",
     "text": [
      "+-----+---+--------------+--------+------+----------+-----------+\n",
      "|Class| Id|          Name|TagBased|UserId|     Date1|       Time|\n",
      "+-----+---+--------------+--------+------+----------+-----------+\n",
      "|    3|  1|Autobiographer|   false|     1|2014-01-21|20:52:16.97|\n",
      "|    3|  2|Autobiographer|   false|     2|2014-01-21|20:52:16.97|\n",
      "|    3|  3|Autobiographer|   false|     6|2014-01-21|20:52:16.97|\n",
      "|    3|  4|Autobiographer|   false|     7|2014-01-21|20:52:16.97|\n",
      "|    3|  5|Autobiographer|   false|     9|2014-01-21|20:52:16.97|\n",
      "+-----+---+--------------+--------+------+----------+-----------+\n",
      "only showing top 5 rows\n",
      "\n",
      "<bound method DataFrame.printSchema of DataFrame[Class: int, Id: int, Name: string, TagBased: boolean, UserId: int, Date1: string, Time: string]>"
     ]
    }
   ],
   "source": [
    "#rozbicie pierwotnej kolumny Date na datę oraz czas\n",
    "from pyspark.sql.functions import split\n",
    "\n",
    "dfBadges2 = dfBadges1.select(\"Class\", \"Date\", \"Id\", \"Name\", \"TagBased\", \"UserId\").withColumn('Date1',split(dfBadges1.Date, ' ')[0])\\\n",
    "                                                                                 .withColumn('Time',split(dfBadges1.Date,' ')[1])\\\n",
    "                                                                                 .drop(dfBadges1.Date)\n",
    "dfBadges2.show(5)\n",
    "dfBadges2.printSchema"
   ]
  },
  {
   "cell_type": "code",
   "execution_count": 8,
   "id": "8e27d100-334a-45b8-b3b9-7aaae10bb20c",
   "metadata": {
    "execution": {
     "iopub.execute_input": "2023-01-20T16:46:03.105874Z",
     "iopub.status.busy": "2023-01-20T16:46:03.105639Z",
     "iopub.status.idle": "2023-01-20T16:46:03.880374Z",
     "shell.execute_reply": "2023-01-20T16:46:03.879775Z",
     "shell.execute_reply.started": "2023-01-20T16:46:03.105849Z"
    },
    "tags": []
   },
   "outputs": [
    {
     "data": {
      "application/vnd.jupyter.widget-view+json": {
       "model_id": "24164b1bfce74d6ea21a69275d045bf1",
       "version_major": 2,
       "version_minor": 0
      },
      "text/plain": [
       "VBox()"
      ]
     },
     "metadata": {},
     "output_type": "display_data"
    },
    {
     "data": {
      "application/vnd.jupyter.widget-view+json": {
       "model_id": "",
       "version_major": 2,
       "version_minor": 0
      },
      "text/plain": [
       "FloatProgress(value=0.0, bar_style='info', description='Progress:', layout=Layout(height='25px', width='50%'),…"
      ]
     },
     "metadata": {},
     "output_type": "display_data"
    },
    {
     "name": "stdout",
     "output_type": "stream",
     "text": [
      "+-----+---+--------------+--------+------+----------+-----------+\n",
      "|Class| Id|          Name|TagBased|UserId|     Date1|       Time|\n",
      "+-----+---+--------------+--------+------+----------+-----------+\n",
      "|    3|  1|Autobiographer|   false|     1|2014-01-21|20:52:16.97|\n",
      "|    3|  2|Autobiographer|   false|     2|2014-01-21|20:52:16.97|\n",
      "|    3|  3|Autobiographer|   false|     6|2014-01-21|20:52:16.97|\n",
      "|    3|  4|Autobiographer|   false|     7|2014-01-21|20:52:16.97|\n",
      "+-----+---+--------------+--------+------+----------+-----------+\n",
      "only showing top 4 rows"
     ]
    }
   ],
   "source": [
    "#ustawienie odpowiedniego Data Type dla nowej kolumny Date, ze względu na brak typu: time w Sparku, dane w kolumnie Time pozostały jako string\n",
    "dfBadges3 = dfBadges2.withColumn(\"Date1\", dfBadges2.Date1.cast(DateType()))\n",
    "dfBadges3.show(4)"
   ]
  },
  {
   "cell_type": "code",
   "execution_count": 9,
   "id": "3a331da2-ca15-42df-8c05-22186738fc62",
   "metadata": {
    "execution": {
     "iopub.execute_input": "2023-01-20T16:46:06.952431Z",
     "iopub.status.busy": "2023-01-20T16:46:06.952200Z",
     "iopub.status.idle": "2023-01-20T16:46:07.737723Z",
     "shell.execute_reply": "2023-01-20T16:46:07.737024Z",
     "shell.execute_reply.started": "2023-01-20T16:46:06.952405Z"
    },
    "tags": []
   },
   "outputs": [
    {
     "data": {
      "application/vnd.jupyter.widget-view+json": {
       "model_id": "f00178c6082d4bd0b027e68945380b4c",
       "version_major": 2,
       "version_minor": 0
      },
      "text/plain": [
       "VBox()"
      ]
     },
     "metadata": {},
     "output_type": "display_data"
    },
    {
     "data": {
      "application/vnd.jupyter.widget-view+json": {
       "model_id": "",
       "version_major": 2,
       "version_minor": 0
      },
      "text/plain": [
       "FloatProgress(value=0.0, bar_style='info', description='Progress:', layout=Layout(height='25px', width='50%'),…"
      ]
     },
     "metadata": {},
     "output_type": "display_data"
    },
    {
     "name": "stdout",
     "output_type": "stream",
     "text": [
      "+-----+---+--------------+--------+------+----------+-----------+\n",
      "|Class| Id|          Name|TagBased|UserId|      Date|       Time|\n",
      "+-----+---+--------------+--------+------+----------+-----------+\n",
      "|    3|  1|Autobiographer|   false|     1|2014-01-21|20:52:16.97|\n",
      "|    3|  2|Autobiographer|   false|     2|2014-01-21|20:52:16.97|\n",
      "|    3|  3|Autobiographer|   false|     6|2014-01-21|20:52:16.97|\n",
      "|    3|  4|Autobiographer|   false|     7|2014-01-21|20:52:16.97|\n",
      "|    3|  5|Autobiographer|   false|     9|2014-01-21|20:52:16.97|\n",
      "+-----+---+--------------+--------+------+----------+-----------+\n",
      "only showing top 5 rows\n",
      "\n",
      "root\n",
      " |-- Class: integer (nullable = true)\n",
      " |-- Id: integer (nullable = true)\n",
      " |-- Name: string (nullable = true)\n",
      " |-- TagBased: boolean (nullable = true)\n",
      " |-- UserId: integer (nullable = true)\n",
      " |-- Date: date (nullable = true)\n",
      " |-- Time: string (nullable = true)"
     ]
    }
   ],
   "source": [
    "dfBadges4 = dfBadges3.withColumnRenamed(\"Date1\", \"Date\")\n",
    "dfBadges4.show(5)\n",
    "dfBadges4.printSchema()"
   ]
  },
  {
   "cell_type": "code",
   "execution_count": 10,
   "id": "a3098244-8b11-453f-9d58-8eecd0b6e38b",
   "metadata": {
    "execution": {
     "iopub.execute_input": "2023-01-20T16:46:11.852639Z",
     "iopub.status.busy": "2023-01-20T16:46:11.852404Z",
     "iopub.status.idle": "2023-01-20T16:46:17.172485Z",
     "shell.execute_reply": "2023-01-20T16:46:17.171710Z",
     "shell.execute_reply.started": "2023-01-20T16:46:11.852614Z"
    },
    "tags": []
   },
   "outputs": [
    {
     "data": {
      "application/vnd.jupyter.widget-view+json": {
       "model_id": "310171459f9644618bbd24ee841a2ea1",
       "version_major": 2,
       "version_minor": 0
      },
      "text/plain": [
       "VBox()"
      ]
     },
     "metadata": {},
     "output_type": "display_data"
    },
    {
     "data": {
      "application/vnd.jupyter.widget-view+json": {
       "model_id": "",
       "version_major": 2,
       "version_minor": 0
      },
      "text/plain": [
       "FloatProgress(value=0.0, bar_style='info', description='Progress:', layout=Layout(height='25px', width='50%'),…"
      ]
     },
     "metadata": {},
     "output_type": "display_data"
    }
   ],
   "source": [
    "#zapisanie DataFrame'u w formacie parquet w S3\n",
    "dfBadges4.write.parquet('s3://stackexchangebeer1/parquet/badges.parquet')"
   ]
  },
  {
   "cell_type": "markdown",
   "id": "4dc61e26-f07b-43b5-b9eb-198d40bd27d6",
   "metadata": {},
   "source": [
    "__PLIK VOTES.XML__"
   ]
  },
  {
   "cell_type": "code",
   "execution_count": 11,
   "id": "2c675d61-0d84-452c-97cf-dff663f7e7d1",
   "metadata": {
    "execution": {
     "iopub.execute_input": "2023-01-20T16:46:22.617361Z",
     "iopub.status.busy": "2023-01-20T16:46:22.617136Z",
     "iopub.status.idle": "2023-01-20T16:46:22.683459Z",
     "shell.execute_reply": "2023-01-20T16:46:22.682698Z",
     "shell.execute_reply.started": "2023-01-20T16:46:22.617336Z"
    },
    "tags": []
   },
   "outputs": [
    {
     "data": {
      "application/vnd.jupyter.widget-view+json": {
       "model_id": "7a174cf1ea1849c08a596104ee4e9351",
       "version_major": 2,
       "version_minor": 0
      },
      "text/plain": [
       "VBox()"
      ]
     },
     "metadata": {},
     "output_type": "display_data"
    },
    {
     "data": {
      "application/vnd.jupyter.widget-view+json": {
       "model_id": "",
       "version_major": 2,
       "version_minor": 0
      },
      "text/plain": [
       "FloatProgress(value=0.0, bar_style='info', description='Progress:', layout=Layout(height='25px', width='50%'),…"
      ]
     },
     "metadata": {},
     "output_type": "display_data"
    }
   ],
   "source": [
    "#ustawienie odpowiednich typów danych dla pliku Votes.xml\n",
    "\n",
    "schemaVotes = StructType([\n",
    "    StructField(\"_BountyAmount\", IntegerType(), True),\n",
    "    StructField(\"_CreationDate\", TimestampType(), True),\n",
    "    StructField(\"_Id\", IntegerType(), True),\n",
    "    StructField(\"_PostId\", StringType(), True),\n",
    "    StructField(\"_UserId\", BooleanType(), True),\n",
    "    StructField(\"_VoteTypeId\", IntegerType(), True)])"
   ]
  },
  {
   "cell_type": "code",
   "execution_count": 12,
   "id": "fb04ec57-c3c6-47e3-85a0-644b2ad0e990",
   "metadata": {
    "execution": {
     "iopub.execute_input": "2023-01-20T16:46:29.986123Z",
     "iopub.status.busy": "2023-01-20T16:46:29.985766Z",
     "iopub.status.idle": "2023-01-20T16:46:30.772945Z",
     "shell.execute_reply": "2023-01-20T16:46:30.772298Z",
     "shell.execute_reply.started": "2023-01-20T16:46:29.986079Z"
    },
    "tags": []
   },
   "outputs": [
    {
     "data": {
      "application/vnd.jupyter.widget-view+json": {
       "model_id": "aff958c311f4444cafa7aea7159a8c91",
       "version_major": 2,
       "version_minor": 0
      },
      "text/plain": [
       "VBox()"
      ]
     },
     "metadata": {},
     "output_type": "display_data"
    },
    {
     "data": {
      "application/vnd.jupyter.widget-view+json": {
       "model_id": "",
       "version_major": 2,
       "version_minor": 0
      },
      "text/plain": [
       "FloatProgress(value=0.0, bar_style='info', description='Progress:', layout=Layout(height='25px', width='50%'),…"
      ]
     },
     "metadata": {},
     "output_type": "display_data"
    },
    {
     "name": "stdout",
     "output_type": "stream",
     "text": [
      "root\n",
      " |-- _BountyAmount: integer (nullable = true)\n",
      " |-- _CreationDate: timestamp (nullable = true)\n",
      " |-- _Id: integer (nullable = true)\n",
      " |-- _PostId: string (nullable = true)\n",
      " |-- _UserId: boolean (nullable = true)\n",
      " |-- _VoteTypeId: integer (nullable = true)\n",
      "\n",
      "+-------------+-------------------+---+-------+-------+-----------+\n",
      "|_BountyAmount|      _CreationDate|_Id|_PostId|_UserId|_VoteTypeId|\n",
      "+-------------+-------------------+---+-------+-------+-----------+\n",
      "|         null|2014-01-21 00:00:00|  1|      1|   null|          2|\n",
      "|         null|2014-01-21 00:00:00|  2|      1|   null|          2|\n",
      "|         null|2014-01-21 00:00:00|  3|      4|   null|          2|\n",
      "|         null|2014-01-21 00:00:00|  4|      1|   null|          2|\n",
      "|         null|2014-01-21 00:00:00|  5|      4|   null|          2|\n",
      "|         null|2014-01-21 00:00:00|  6|      3|   null|          2|\n",
      "|         null|2014-01-21 00:00:00|  7|      4|   null|          2|\n",
      "|         null|2014-01-21 00:00:00|  8|      1|   null|          2|\n",
      "|         null|2014-01-21 00:00:00|  9|      8|   null|          2|\n",
      "|         null|2014-01-21 00:00:00| 10|      6|   null|          2|\n",
      "|         null|2014-01-21 00:00:00| 11|      3|   null|          2|\n",
      "|         null|2014-01-21 00:00:00| 12|     15|   null|          2|\n",
      "|         null|2014-01-21 00:00:00| 13|     14|   null|          2|\n",
      "|         null|2014-01-21 00:00:00| 14|      8|   null|          2|\n",
      "|         null|2014-01-21 00:00:00| 15|      8|   null|          2|\n",
      "|         null|2014-01-21 00:00:00| 16|      8|   null|          2|\n",
      "|         null|2014-01-21 00:00:00| 17|     18|   null|          2|\n",
      "|         null|2014-01-21 00:00:00| 18|     22|   null|          2|\n",
      "|         null|2014-01-21 00:00:00| 19|     19|   null|          2|\n",
      "|         null|2014-01-21 00:00:00| 20|      5|   null|          2|\n",
      "+-------------+-------------------+---+-------+-------+-----------+\n",
      "only showing top 20 rows"
     ]
    }
   ],
   "source": [
    "#wczytanie pliku Badges.xml z pomocą modułu spark-xml do DataFrame'u\n",
    "dfVotes = spark.read.format('xml').option('rootTag', 'votes').option('rowTag', 'row').load('s3://stackexchangebeer1/raw_data/Votes.xml',schema=schemaVotes)\n",
    "dfVotes.printSchema()\n",
    "dfVotes.show()"
   ]
  },
  {
   "cell_type": "code",
   "execution_count": 17,
   "id": "c106c1de-cedb-410a-b479-758bc172df55",
   "metadata": {
    "execution": {
     "iopub.execute_input": "2023-01-20T16:54:54.906574Z",
     "iopub.status.busy": "2023-01-20T16:54:54.906217Z",
     "iopub.status.idle": "2023-01-20T16:54:55.192250Z",
     "shell.execute_reply": "2023-01-20T16:54:55.191388Z",
     "shell.execute_reply.started": "2023-01-20T16:54:54.906532Z"
    },
    "tags": []
   },
   "outputs": [
    {
     "data": {
      "application/vnd.jupyter.widget-view+json": {
       "model_id": "6db3c3a15b624ac8a44e20b6c089d419",
       "version_major": 2,
       "version_minor": 0
      },
      "text/plain": [
       "VBox()"
      ]
     },
     "metadata": {},
     "output_type": "display_data"
    },
    {
     "data": {
      "application/vnd.jupyter.widget-view+json": {
       "model_id": "",
       "version_major": 2,
       "version_minor": 0
      },
      "text/plain": [
       "FloatProgress(value=0.0, bar_style='info', description='Progress:', layout=Layout(height='25px', width='50%'),…"
      ]
     },
     "metadata": {},
     "output_type": "display_data"
    },
    {
     "name": "stdout",
     "output_type": "stream",
     "text": [
      "root\n",
      " |-- BountyAmount: integer (nullable = true)\n",
      " |-- Date: timestamp (nullable = true)\n",
      " |-- Id: integer (nullable = true)\n",
      " |-- PostId: string (nullable = true)\n",
      " |-- UserId: boolean (nullable = true)\n",
      " |-- VoteTypeId: integer (nullable = true)"
     ]
    }
   ],
   "source": [
    "#nadanie odpowiednich nazw kolumnom\n",
    "dfVotes1 = dfVotes.withColumnRenamed(\"_BountyAmount\",\"BountyAmount\")\\\n",
    "                    .withColumnRenamed(\"_CreationDate\",\"Date\")\\\n",
    "                    .withColumnRenamed(\"_Id\",\"Id\")\\\n",
    "                    .withColumnRenamed(\"_PostId\",\"PostId\")\\\n",
    "                    .withColumnRenamed(\"_UserId\",\"UserId\")\\\n",
    "                    .withColumnRenamed(\"_VoteTypeId\",\"VoteTypeId\")\n",
    "dfVotes1.printSchema()"
   ]
  },
  {
   "cell_type": "code",
   "execution_count": 33,
   "id": "3e40f69b-861f-45b7-9b10-8832237b29e1",
   "metadata": {
    "execution": {
     "iopub.execute_input": "2023-01-20T17:13:46.702344Z",
     "iopub.status.busy": "2023-01-20T17:13:46.702086Z",
     "iopub.status.idle": "2023-01-20T17:13:47.480275Z",
     "shell.execute_reply": "2023-01-20T17:13:47.479629Z",
     "shell.execute_reply.started": "2023-01-20T17:13:46.702320Z"
    },
    "tags": []
   },
   "outputs": [
    {
     "data": {
      "application/vnd.jupyter.widget-view+json": {
       "model_id": "ba9413fd9cc64025ab3d1bb309f1bdf6",
       "version_major": 2,
       "version_minor": 0
      },
      "text/plain": [
       "VBox()"
      ]
     },
     "metadata": {},
     "output_type": "display_data"
    },
    {
     "data": {
      "application/vnd.jupyter.widget-view+json": {
       "model_id": "",
       "version_major": 2,
       "version_minor": 0
      },
      "text/plain": [
       "FloatProgress(value=0.0, bar_style='info', description='Progress:', layout=Layout(height='25px', width='50%'),…"
      ]
     },
     "metadata": {},
     "output_type": "display_data"
    },
    {
     "name": "stdout",
     "output_type": "stream",
     "text": [
      "+------------+---+------+------+----------+----------+--------+\n",
      "|BountyAmount| Id|PostId|UserId|VoteTypeId|CreateDate|    Time|\n",
      "+------------+---+------+------+----------+----------+--------+\n",
      "|        null|  1|     1|  null|         2|2014-01-21|00:00:00|\n",
      "|        null|  2|     1|  null|         2|2014-01-21|00:00:00|\n",
      "|        null|  3|     4|  null|         2|2014-01-21|00:00:00|\n",
      "|        null|  4|     1|  null|         2|2014-01-21|00:00:00|\n",
      "|        null|  5|     4|  null|         2|2014-01-21|00:00:00|\n",
      "+------------+---+------+------+----------+----------+--------+\n",
      "only showing top 5 rows\n",
      "\n",
      "root\n",
      " |-- BountyAmount: integer (nullable = true)\n",
      " |-- Id: integer (nullable = true)\n",
      " |-- PostId: string (nullable = true)\n",
      " |-- UserId: boolean (nullable = true)\n",
      " |-- VoteTypeId: integer (nullable = true)\n",
      " |-- CreateDate: string (nullable = true)\n",
      " |-- Time: string (nullable = true)"
     ]
    }
   ],
   "source": [
    "#rozbicie kolumny Date na 2 kolumny z datą oraz czasem utworzenia\n",
    "dfVotes2 = dfVotes1.select(\"BountyAmount\", \"Date\", \"Id\", \"PostId\", \"UserId\", \"VoteTypeId\").withColumn('CreateDate',split(dfVotes1.Date, ' ')[0])\\\n",
    "                                                                                                  .withColumn('Time',split(dfVotes1.Date, ' ')[1])\\\n",
    "                                                                                                  .drop(dfVotes1.Date)\n",
    "dfVotes2.show(5)\n",
    "dfVotes2.printSchema()"
   ]
  },
  {
   "cell_type": "code",
   "execution_count": 49,
   "id": "8175b7ec-6711-4b8e-a727-4b23892c3897",
   "metadata": {
    "execution": {
     "iopub.execute_input": "2023-01-20T17:25:10.917740Z",
     "iopub.status.busy": "2023-01-20T17:25:10.917434Z",
     "iopub.status.idle": "2023-01-20T17:25:11.702372Z",
     "shell.execute_reply": "2023-01-20T17:25:11.701510Z",
     "shell.execute_reply.started": "2023-01-20T17:25:10.917713Z"
    },
    "tags": []
   },
   "outputs": [
    {
     "data": {
      "application/vnd.jupyter.widget-view+json": {
       "model_id": "48790066c16445d883b6cac9d194af06",
       "version_major": 2,
       "version_minor": 0
      },
      "text/plain": [
       "VBox()"
      ]
     },
     "metadata": {},
     "output_type": "display_data"
    },
    {
     "data": {
      "application/vnd.jupyter.widget-view+json": {
       "model_id": "",
       "version_major": 2,
       "version_minor": 0
      },
      "text/plain": [
       "FloatProgress(value=0.0, bar_style='info', description='Progress:', layout=Layout(height='25px', width='50%'),…"
      ]
     },
     "metadata": {},
     "output_type": "display_data"
    },
    {
     "name": "stdout",
     "output_type": "stream",
     "text": [
      "Votes DF rows count 20453"
     ]
    }
   ],
   "source": [
    "#sprawdzenie ilości wierszy występujących w tabeli\n",
    "rowscount = dfVotes2.count()\n",
    "print(f'Votes DF rows count {rowscount}')"
   ]
  },
  {
   "cell_type": "code",
   "execution_count": 46,
   "id": "b5e5044b-8901-4ff0-94d0-dc8e5ac96c18",
   "metadata": {
    "execution": {
     "iopub.execute_input": "2023-01-20T17:24:15.525302Z",
     "iopub.status.busy": "2023-01-20T17:24:15.525055Z",
     "iopub.status.idle": "2023-01-20T17:24:16.322387Z",
     "shell.execute_reply": "2023-01-20T17:24:16.321526Z",
     "shell.execute_reply.started": "2023-01-20T17:24:15.525276Z"
    },
    "tags": []
   },
   "outputs": [
    {
     "data": {
      "application/vnd.jupyter.widget-view+json": {
       "model_id": "62dc335117ca4d01b0fe7250fff11f94",
       "version_major": 2,
       "version_minor": 0
      },
      "text/plain": [
       "VBox()"
      ]
     },
     "metadata": {},
     "output_type": "display_data"
    },
    {
     "data": {
      "application/vnd.jupyter.widget-view+json": {
       "model_id": "",
       "version_major": 2,
       "version_minor": 0
      },
      "text/plain": [
       "FloatProgress(value=0.0, bar_style='info', description='Progress:', layout=Layout(height='25px', width='50%'),…"
      ]
     },
     "metadata": {},
     "output_type": "display_data"
    },
    {
     "name": "stdout",
     "output_type": "stream",
     "text": [
      "+------------+-----+\n",
      "|BountyAmount|count|\n",
      "+------------+-----+\n",
      "|         100|   11|\n",
      "|         200|    1|\n",
      "|          50|   16|\n",
      "|          25|    1|\n",
      "|        null|20424|\n",
      "+------------+-----+"
     ]
    }
   ],
   "source": [
    "#sprawdzenie kolumny BountyAmount\n",
    "dfVotes2.groupBy(\"BountyAmount\").count().show()"
   ]
  },
  {
   "cell_type": "code",
   "execution_count": 47,
   "id": "b0f1aea4-8514-4477-a08a-9eecdb8dff91",
   "metadata": {
    "execution": {
     "iopub.execute_input": "2023-01-20T17:24:19.113282Z",
     "iopub.status.busy": "2023-01-20T17:24:19.113020Z",
     "iopub.status.idle": "2023-01-20T17:24:19.881789Z",
     "shell.execute_reply": "2023-01-20T17:24:19.880961Z",
     "shell.execute_reply.started": "2023-01-20T17:24:19.113254Z"
    }
   },
   "outputs": [
    {
     "data": {
      "application/vnd.jupyter.widget-view+json": {
       "model_id": "cba787bea8114cfda9b9b105a62db8a0",
       "version_major": 2,
       "version_minor": 0
      },
      "text/plain": [
       "VBox()"
      ]
     },
     "metadata": {},
     "output_type": "display_data"
    },
    {
     "data": {
      "application/vnd.jupyter.widget-view+json": {
       "model_id": "",
       "version_major": 2,
       "version_minor": 0
      },
      "text/plain": [
       "FloatProgress(value=0.0, bar_style='info', description='Progress:', layout=Layout(height='25px', width='50%'),…"
      ]
     },
     "metadata": {},
     "output_type": "display_data"
    },
    {
     "name": "stdout",
     "output_type": "stream",
     "text": [
      "+------+-----+\n",
      "|UserId|count|\n",
      "+------+-----+\n",
      "|  null|20453|\n",
      "+------+-----+"
     ]
    }
   ],
   "source": [
    "#sprawdzenie kolumny UserId / w kolumnie wystepują tylko wartości null (kolumnę można usunąć)\n",
    "dfVotes2.groupBy(\"UserId\").count().show()"
   ]
  },
  {
   "cell_type": "code",
   "execution_count": 48,
   "id": "a338f580-bd65-482a-b21e-eb68dc227e1e",
   "metadata": {
    "execution": {
     "iopub.execute_input": "2023-01-20T17:24:22.368980Z",
     "iopub.status.busy": "2023-01-20T17:24:22.368667Z",
     "iopub.status.idle": "2023-01-20T17:24:24.666867Z",
     "shell.execute_reply": "2023-01-20T17:24:24.657568Z",
     "shell.execute_reply.started": "2023-01-20T17:24:22.368949Z"
    }
   },
   "outputs": [
    {
     "data": {
      "application/vnd.jupyter.widget-view+json": {
       "model_id": "bd5ffa9bc2674333ace07943452595f1",
       "version_major": 2,
       "version_minor": 0
      },
      "text/plain": [
       "VBox()"
      ]
     },
     "metadata": {},
     "output_type": "display_data"
    },
    {
     "data": {
      "application/vnd.jupyter.widget-view+json": {
       "model_id": "",
       "version_major": 2,
       "version_minor": 0
      },
      "text/plain": [
       "FloatProgress(value=0.0, bar_style='info', description='Progress:', layout=Layout(height='25px', width='50%'),…"
      ]
     },
     "metadata": {},
     "output_type": "display_data"
    },
    {
     "name": "stdout",
     "output_type": "stream",
     "text": [
      "+--------+-----+\n",
      "|    Time|count|\n",
      "+--------+-----+\n",
      "|00:00:00|20453|\n",
      "+--------+-----+"
     ]
    }
   ],
   "source": [
    "#sprawdzenie kolumny Time / w kolumnie wystepują tylko 00:00:00 (kolumnę można usunąć)\n",
    "dfVotes2.groupBy(\"Time\").count().show()"
   ]
  },
  {
   "cell_type": "code",
   "execution_count": null,
   "id": "1435be27-430b-4645-9a79-b215bb59d2a4",
   "metadata": {},
   "outputs": [],
   "source": [
    "#usunięcie z tabeli dwóch kolumn Time oraz UserId "
   ]
  },
  {
   "cell_type": "code",
   "execution_count": 59,
   "id": "2cb56852-ab8d-411b-8075-ffdcb2947f81",
   "metadata": {
    "execution": {
     "iopub.execute_input": "2023-01-20T17:41:33.837172Z",
     "iopub.status.busy": "2023-01-20T17:41:33.836925Z",
     "iopub.status.idle": "2023-01-20T17:41:43.150109Z",
     "shell.execute_reply": "2023-01-20T17:41:43.149225Z",
     "shell.execute_reply.started": "2023-01-20T17:41:33.837146Z"
    },
    "tags": []
   },
   "outputs": [
    {
     "data": {
      "application/vnd.jupyter.widget-view+json": {
       "model_id": "97b48e81b13d4d5e81463332cb102032",
       "version_major": 2,
       "version_minor": 0
      },
      "text/plain": [
       "VBox()"
      ]
     },
     "metadata": {},
     "output_type": "display_data"
    },
    {
     "data": {
      "application/vnd.jupyter.widget-view+json": {
       "model_id": "",
       "version_major": 2,
       "version_minor": 0
      },
      "text/plain": [
       "FloatProgress(value=0.0, bar_style='info', description='Progress:', layout=Layout(height='25px', width='50%'),…"
      ]
     },
     "metadata": {},
     "output_type": "display_data"
    },
    {
     "name": "stdout",
     "output_type": "stream",
     "text": [
      "+------------+---+------+----------+----------+\n",
      "|BountyAmount| Id|PostId|VoteTypeId|CreateDate|\n",
      "+------------+---+------+----------+----------+\n",
      "|        null|  1|     1|         2|2014-01-21|\n",
      "|        null|  2|     1|         2|2014-01-21|\n",
      "|        null|  3|     4|         2|2014-01-21|\n",
      "|        null|  4|     1|         2|2014-01-21|\n",
      "|        null|  5|     4|         2|2014-01-21|\n",
      "|        null|  6|     3|         2|2014-01-21|\n",
      "|        null|  7|     4|         2|2014-01-21|\n",
      "|        null|  8|     1|         2|2014-01-21|\n",
      "|        null|  9|     8|         2|2014-01-21|\n",
      "|        null| 10|     6|         2|2014-01-21|\n",
      "|        null| 11|     3|         2|2014-01-21|\n",
      "|        null| 12|    15|         2|2014-01-21|\n",
      "|        null| 13|    14|         2|2014-01-21|\n",
      "|        null| 14|     8|         2|2014-01-21|\n",
      "|        null| 15|     8|         2|2014-01-21|\n",
      "|        null| 16|     8|         2|2014-01-21|\n",
      "|        null| 17|    18|         2|2014-01-21|\n",
      "|        null| 18|    22|         2|2014-01-21|\n",
      "|        null| 19|    19|         2|2014-01-21|\n",
      "|        null| 20|     5|         2|2014-01-21|\n",
      "+------------+---+------+----------+----------+\n",
      "only showing top 20 rows\n",
      "\n",
      "root\n",
      " |-- BountyAmount: integer (nullable = true)\n",
      " |-- Id: integer (nullable = true)\n",
      " |-- PostId: string (nullable = true)\n",
      " |-- VoteTypeId: integer (nullable = true)\n",
      " |-- CreateDate: string (nullable = true)"
     ]
    }
   ],
   "source": [
    "dfVotes3 = dfVotes2.drop(dfVotes2[\"Time\"]).drop(dfVotes2[\"UserId\"])\n",
    "dfVotes3.show()\n",
    "dfVotes3.printSchema()"
   ]
  },
  {
   "cell_type": "code",
   "execution_count": 65,
   "id": "46657d7e-10b5-4e9e-a283-f9f347e48e67",
   "metadata": {
    "execution": {
     "iopub.execute_input": "2023-01-20T17:49:50.947636Z",
     "iopub.status.busy": "2023-01-20T17:49:50.947396Z",
     "iopub.status.idle": "2023-01-20T17:49:51.012606Z",
     "shell.execute_reply": "2023-01-20T17:49:51.011759Z",
     "shell.execute_reply.started": "2023-01-20T17:49:50.947611Z"
    },
    "tags": []
   },
   "outputs": [
    {
     "data": {
      "application/vnd.jupyter.widget-view+json": {
       "model_id": "722098ba017d46548ba49be0d241ea8d",
       "version_major": 2,
       "version_minor": 0
      },
      "text/plain": [
       "VBox()"
      ]
     },
     "metadata": {},
     "output_type": "display_data"
    },
    {
     "data": {
      "application/vnd.jupyter.widget-view+json": {
       "model_id": "",
       "version_major": 2,
       "version_minor": 0
      },
      "text/plain": [
       "FloatProgress(value=0.0, bar_style='info', description='Progress:', layout=Layout(height='25px', width='50%'),…"
      ]
     },
     "metadata": {},
     "output_type": "display_data"
    },
    {
     "name": "stdout",
     "output_type": "stream",
     "text": [
      "root\n",
      " |-- BountyAmount: integer (nullable = true)\n",
      " |-- Id: integer (nullable = true)\n",
      " |-- PostId: string (nullable = true)\n",
      " |-- VoteTypeId: integer (nullable = true)\n",
      " |-- CreateDate: date (nullable = true)"
     ]
    }
   ],
   "source": [
    "#zmiana typu danych kolumny CreateDate na DateType\n",
    "dfVotes4 = dfVotes3.withColumn(\"CreateDate\", dfVotes2[\"CreateDate\"].cast(DateType()))\n",
    "dfVotes4.printSchema()"
   ]
  },
  {
   "cell_type": "code",
   "execution_count": 66,
   "id": "f7025286-c620-4cbb-a0f9-82fbfaf97cfc",
   "metadata": {
    "execution": {
     "iopub.execute_input": "2023-01-20T17:50:52.642721Z",
     "iopub.status.busy": "2023-01-20T17:50:52.642398Z",
     "iopub.status.idle": "2023-01-20T17:51:05.983089Z",
     "shell.execute_reply": "2023-01-20T17:51:05.982267Z",
     "shell.execute_reply.started": "2023-01-20T17:50:52.642671Z"
    },
    "tags": []
   },
   "outputs": [
    {
     "data": {
      "application/vnd.jupyter.widget-view+json": {
       "model_id": "7d74757f7a334b95844dd3aef7279fd7",
       "version_major": 2,
       "version_minor": 0
      },
      "text/plain": [
       "VBox()"
      ]
     },
     "metadata": {},
     "output_type": "display_data"
    },
    {
     "data": {
      "application/vnd.jupyter.widget-view+json": {
       "model_id": "",
       "version_major": 2,
       "version_minor": 0
      },
      "text/plain": [
       "FloatProgress(value=0.0, bar_style='info', description='Progress:', layout=Layout(height='25px', width='50%'),…"
      ]
     },
     "metadata": {},
     "output_type": "display_data"
    }
   ],
   "source": [
    "#zapisanie tabeli dfVotes3 w formacie parquet\n",
    "dfVotes4.write.parquet('s3://stackexchangebeer1/parquet/votes.parquet')"
   ]
  },
  {
   "cell_type": "markdown",
   "id": "517203a3-d93d-438c-bc33-8fa0d4608ae8",
   "metadata": {},
   "source": [
    "__PLIK POSTLINKS.XML__"
   ]
  },
  {
   "cell_type": "code",
   "execution_count": 56,
   "id": "db3a725e-36f7-4e84-b600-b29e814ab11b",
   "metadata": {
    "execution": {
     "iopub.execute_input": "2023-01-20T17:35:47.453269Z",
     "iopub.status.busy": "2023-01-20T17:35:47.453021Z",
     "iopub.status.idle": "2023-01-20T17:35:47.518976Z",
     "shell.execute_reply": "2023-01-20T17:35:47.518115Z",
     "shell.execute_reply.started": "2023-01-20T17:35:47.453242Z"
    },
    "tags": []
   },
   "outputs": [
    {
     "data": {
      "application/vnd.jupyter.widget-view+json": {
       "model_id": "8e3f79b1ea7044858ae1f9a10dd829ec",
       "version_major": 2,
       "version_minor": 0
      },
      "text/plain": [
       "VBox()"
      ]
     },
     "metadata": {},
     "output_type": "display_data"
    },
    {
     "data": {
      "application/vnd.jupyter.widget-view+json": {
       "model_id": "",
       "version_major": 2,
       "version_minor": 0
      },
      "text/plain": [
       "FloatProgress(value=0.0, bar_style='info', description='Progress:', layout=Layout(height='25px', width='50%'),…"
      ]
     },
     "metadata": {},
     "output_type": "display_data"
    }
   ],
   "source": [
    "#ustawienie odpowiednich typów danych dla pliku PostLinks.xml\n",
    "\n",
    "schemaPostLinks = StructType([\n",
    "    StructField(\"_CreationDate\", TimestampType(), True),\n",
    "    StructField(\"_Id\", IntegerType(), True),\n",
    "    StructField(\"_LinkTypeId\", IntegerType(), True),\n",
    "    StructField(\"_PostId\", IntegerType(), True),\n",
    "    StructField(\"_RelatedPostId\", IntegerType(), True)])"
   ]
  },
  {
   "cell_type": "code",
   "execution_count": 57,
   "id": "1c23c9a8-51c5-4e2b-9fd0-94cc8b8fd503",
   "metadata": {
    "execution": {
     "iopub.execute_input": "2023-01-20T17:36:16.269574Z",
     "iopub.status.busy": "2023-01-20T17:36:16.269315Z",
     "iopub.status.idle": "2023-01-20T17:36:25.586287Z",
     "shell.execute_reply": "2023-01-20T17:36:25.585618Z",
     "shell.execute_reply.started": "2023-01-20T17:36:16.269548Z"
    },
    "tags": []
   },
   "outputs": [
    {
     "data": {
      "application/vnd.jupyter.widget-view+json": {
       "model_id": "60a8a5a52eb64e66a532fa71d53390ec",
       "version_major": 2,
       "version_minor": 0
      },
      "text/plain": [
       "VBox()"
      ]
     },
     "metadata": {},
     "output_type": "display_data"
    },
    {
     "data": {
      "application/vnd.jupyter.widget-view+json": {
       "model_id": "",
       "version_major": 2,
       "version_minor": 0
      },
      "text/plain": [
       "FloatProgress(value=0.0, bar_style='info', description='Progress:', layout=Layout(height='25px', width='50%'),…"
      ]
     },
     "metadata": {},
     "output_type": "display_data"
    },
    {
     "name": "stdout",
     "output_type": "stream",
     "text": [
      "root\n",
      " |-- _CreationDate: timestamp (nullable = true)\n",
      " |-- _Id: integer (nullable = true)\n",
      " |-- _LinkTypeId: integer (nullable = true)\n",
      " |-- _PostId: integer (nullable = true)\n",
      " |-- _RelatedPostId: integer (nullable = true)\n",
      "\n",
      "+--------------------+---+-----------+-------+--------------+\n",
      "|       _CreationDate|_Id|_LinkTypeId|_PostId|_RelatedPostId|\n",
      "+--------------------+---+-----------+-------+--------------+\n",
      "|2014-01-21 21:04:...| 25|          3|     29|            25|\n",
      "|2014-01-21 21:42:...| 89|          1|     83|            50|\n",
      "|2014-01-21 21:50:...| 95|          1|     86|             2|\n",
      "|2014-01-21 22:07:...|101|          3|     47|            99|\n",
      "|2014-01-21 22:13:...|102|          1|     74|             3|\n",
      "+--------------------+---+-----------+-------+--------------+\n",
      "only showing top 5 rows"
     ]
    }
   ],
   "source": [
    "#wczytanie pliku PostLinks.xml z pomocą modułu spark-xml do DataFrame'u\n",
    "dfPostLinks = spark.read.format('xml').option('rootTag', 'postlinks').option('rowTag', 'row').load('s3://stackexchangebeer1/raw_data/PostLinks.xml',schema=schemaPostLinks)\n",
    "dfPostLinks.printSchema()\n",
    "dfPostLinks.show(5)"
   ]
  },
  {
   "cell_type": "code",
   "execution_count": 58,
   "id": "5ae1e860-a133-457c-ad59-55b7637df047",
   "metadata": {
    "execution": {
     "iopub.execute_input": "2023-01-20T17:39:48.897543Z",
     "iopub.status.busy": "2023-01-20T17:39:48.897287Z",
     "iopub.status.idle": "2023-01-20T17:39:48.961688Z",
     "shell.execute_reply": "2023-01-20T17:39:48.960995Z",
     "shell.execute_reply.started": "2023-01-20T17:39:48.897515Z"
    }
   },
   "outputs": [
    {
     "data": {
      "application/vnd.jupyter.widget-view+json": {
       "model_id": "a10600db312947319fbc66ea965031c8",
       "version_major": 2,
       "version_minor": 0
      },
      "text/plain": [
       "VBox()"
      ]
     },
     "metadata": {},
     "output_type": "display_data"
    },
    {
     "data": {
      "application/vnd.jupyter.widget-view+json": {
       "model_id": "",
       "version_major": 2,
       "version_minor": 0
      },
      "text/plain": [
       "FloatProgress(value=0.0, bar_style='info', description='Progress:', layout=Layout(height='25px', width='50%'),…"
      ]
     },
     "metadata": {},
     "output_type": "display_data"
    },
    {
     "name": "stdout",
     "output_type": "stream",
     "text": [
      "root\n",
      " |-- Date: timestamp (nullable = true)\n",
      " |-- Id: integer (nullable = true)\n",
      " |-- LinkTypeId: integer (nullable = true)\n",
      " |-- PostId: integer (nullable = true)\n",
      " |-- RelatedPostId: integer (nullable = true)"
     ]
    }
   ],
   "source": [
    "#nadanie odpowiednich nazw kolumnom\n",
    "dfPostLinks1 = dfPostLinks.withColumnRenamed(\"_CreationDate\",\"Date\")\\\n",
    "                    .withColumnRenamed(\"_Id\",\"Id\")\\\n",
    "                    .withColumnRenamed(\"_PostId\",\"PostId\")\\\n",
    "                    .withColumnRenamed(\"_LinkTypeId\",\"LinkTypeId\")\\\n",
    "                    .withColumnRenamed(\"_RelatedPostId\",\"RelatedPostId\")\n",
    "dfPostLinks1.printSchema()"
   ]
  },
  {
   "cell_type": "code",
   "execution_count": 64,
   "id": "ce7972b0-2a8b-4fb6-995e-5ab93a47310f",
   "metadata": {
    "execution": {
     "iopub.execute_input": "2023-01-20T17:49:11.607429Z",
     "iopub.status.busy": "2023-01-20T17:49:11.607192Z",
     "iopub.status.idle": "2023-01-20T17:49:11.877894Z",
     "shell.execute_reply": "2023-01-20T17:49:11.877117Z",
     "shell.execute_reply.started": "2023-01-20T17:49:11.607405Z"
    },
    "tags": []
   },
   "outputs": [
    {
     "data": {
      "application/vnd.jupyter.widget-view+json": {
       "model_id": "1eefbe61f57f4273804ea5e7e904eefa",
       "version_major": 2,
       "version_minor": 0
      },
      "text/plain": [
       "VBox()"
      ]
     },
     "metadata": {},
     "output_type": "display_data"
    },
    {
     "data": {
      "application/vnd.jupyter.widget-view+json": {
       "model_id": "",
       "version_major": 2,
       "version_minor": 0
      },
      "text/plain": [
       "FloatProgress(value=0.0, bar_style='info', description='Progress:', layout=Layout(height='25px', width='50%'),…"
      ]
     },
     "metadata": {},
     "output_type": "display_data"
    },
    {
     "name": "stdout",
     "output_type": "stream",
     "text": [
      "root\n",
      " |-- Id: integer (nullable = true)\n",
      " |-- LinkTypeId: integer (nullable = true)\n",
      " |-- PostId: integer (nullable = true)\n",
      " |-- RelatedPostId: integer (nullable = true)\n",
      " |-- CreationDate: string (nullable = true)\n",
      " |-- Time: string (nullable = true)"
     ]
    }
   ],
   "source": [
    "#rozbicie kolumny CreationDate na 2 kolumny z datą oraz czasem utworzenia\n",
    "dfPostLinks2 = dfPostLinks1.select(\"Date\", \"Id\", \"LinkTypeId\", \"PostId\", \"RelatedPostId\").withColumn('CreationDate',split(dfPostLinks1[\"Date\"], ' ')[0])\\\n",
    "                                                                                                  .withColumn('Time',split(dfPostLinks1[\"Date\"], ' ')[1])\\\n",
    "                                                                                                  .drop(dfPostLinks1[\"Date\"])\n",
    "dfPostLinks2.printSchema()"
   ]
  },
  {
   "cell_type": "code",
   "execution_count": 67,
   "id": "c6bd0c83-9322-4c24-a702-45673caec740",
   "metadata": {
    "execution": {
     "iopub.execute_input": "2023-01-20T17:52:16.265242Z",
     "iopub.status.busy": "2023-01-20T17:52:16.264978Z",
     "iopub.status.idle": "2023-01-20T17:52:16.320463Z",
     "shell.execute_reply": "2023-01-20T17:52:16.319794Z",
     "shell.execute_reply.started": "2023-01-20T17:52:16.265201Z"
    }
   },
   "outputs": [
    {
     "data": {
      "application/vnd.jupyter.widget-view+json": {
       "model_id": "894e914226464317bda4b93684492655",
       "version_major": 2,
       "version_minor": 0
      },
      "text/plain": [
       "VBox()"
      ]
     },
     "metadata": {},
     "output_type": "display_data"
    },
    {
     "data": {
      "application/vnd.jupyter.widget-view+json": {
       "model_id": "",
       "version_major": 2,
       "version_minor": 0
      },
      "text/plain": [
       "FloatProgress(value=0.0, bar_style='info', description='Progress:', layout=Layout(height='25px', width='50%'),…"
      ]
     },
     "metadata": {},
     "output_type": "display_data"
    },
    {
     "name": "stdout",
     "output_type": "stream",
     "text": [
      "root\n",
      " |-- Id: integer (nullable = true)\n",
      " |-- LinkTypeId: integer (nullable = true)\n",
      " |-- PostId: integer (nullable = true)\n",
      " |-- RelatedPostId: integer (nullable = true)\n",
      " |-- CreationDate: date (nullable = true)\n",
      " |-- Time: string (nullable = true)"
     ]
    }
   ],
   "source": [
    "#zmiana typu danych kolumny CreationDate na DateType\n",
    "dfPostLinks3= dfPostLinks2.withColumn(\"CreationDate\", dfPostLinks2[\"CreationDate\"].cast(DateType()))\n",
    "dfPostLinks3.printSchema()"
   ]
  },
  {
   "cell_type": "code",
   "execution_count": 68,
   "id": "cbfb5d22-7bbb-40d0-8937-134c2a41487b",
   "metadata": {
    "execution": {
     "iopub.execute_input": "2023-01-20T17:52:59.949667Z",
     "iopub.status.busy": "2023-01-20T17:52:59.949412Z",
     "iopub.status.idle": "2023-01-20T17:53:11.264654Z",
     "shell.execute_reply": "2023-01-20T17:53:11.263992Z",
     "shell.execute_reply.started": "2023-01-20T17:52:59.949640Z"
    }
   },
   "outputs": [
    {
     "data": {
      "application/vnd.jupyter.widget-view+json": {
       "model_id": "7f06ab03632344d0a2a621fdef56668e",
       "version_major": 2,
       "version_minor": 0
      },
      "text/plain": [
       "VBox()"
      ]
     },
     "metadata": {},
     "output_type": "display_data"
    },
    {
     "data": {
      "application/vnd.jupyter.widget-view+json": {
       "model_id": "",
       "version_major": 2,
       "version_minor": 0
      },
      "text/plain": [
       "FloatProgress(value=0.0, bar_style='info', description='Progress:', layout=Layout(height='25px', width='50%'),…"
      ]
     },
     "metadata": {},
     "output_type": "display_data"
    }
   ],
   "source": [
    "#zapisanie tabeli dfPostLinks3 w formacie parquet\n",
    "dfPostLinks3.write.parquet('s3://stackexchangebeer1/parquet/postlinks.parquet')"
   ]
  },
  {
   "cell_type": "markdown",
   "id": "143a427b-f55b-4d79-9d72-debb2b35d932",
   "metadata": {},
   "source": [
    "__PLIK TAGS.XML__"
   ]
  },
  {
   "cell_type": "code",
   "execution_count": 70,
   "id": "b1887ac1-ae58-4d07-8cd0-c3f6239d394b",
   "metadata": {
    "execution": {
     "iopub.execute_input": "2023-01-20T18:12:16.653731Z",
     "iopub.status.busy": "2023-01-20T18:12:16.653464Z",
     "iopub.status.idle": "2023-01-20T18:12:16.712182Z",
     "shell.execute_reply": "2023-01-20T18:12:16.711622Z",
     "shell.execute_reply.started": "2023-01-20T18:12:16.653704Z"
    }
   },
   "outputs": [
    {
     "data": {
      "application/vnd.jupyter.widget-view+json": {
       "model_id": "ba29725e0c2b4b54b387b120e1501b91",
       "version_major": 2,
       "version_minor": 0
      },
      "text/plain": [
       "VBox()"
      ]
     },
     "metadata": {},
     "output_type": "display_data"
    },
    {
     "data": {
      "application/vnd.jupyter.widget-view+json": {
       "model_id": "",
       "version_major": 2,
       "version_minor": 0
      },
      "text/plain": [
       "FloatProgress(value=0.0, bar_style='info', description='Progress:', layout=Layout(height='25px', width='50%'),…"
      ]
     },
     "metadata": {},
     "output_type": "display_data"
    }
   ],
   "source": [
    "#ustawienie odpowiednich typów danych dla pliku Tags.xml\n",
    "from pyspark.sql.types import *\n",
    "\n",
    "schemaTags = StructType([\n",
    "    StructField(\"_Count\", IntegerType(), True),\n",
    "    StructField(\"_ExcerptPostId\", IntegerType(), True),\n",
    "    StructField(\"_Id\", IntegerType(), True),\n",
    "    StructField(\"_TagName\", StringType(), True),\n",
    "    StructField(\"_WikiPostId\", IntegerType(), True),])"
   ]
  },
  {
   "cell_type": "code",
   "execution_count": 76,
   "id": "989ea0f3-c32d-4195-b584-5fa26f4fc39b",
   "metadata": {
    "execution": {
     "iopub.execute_input": "2023-01-20T18:15:40.906978Z",
     "iopub.status.busy": "2023-01-20T18:15:40.906714Z",
     "iopub.status.idle": "2023-01-20T18:15:50.214626Z",
     "shell.execute_reply": "2023-01-20T18:15:50.213803Z",
     "shell.execute_reply.started": "2023-01-20T18:15:40.906939Z"
    },
    "tags": []
   },
   "outputs": [
    {
     "data": {
      "application/vnd.jupyter.widget-view+json": {
       "model_id": "9bf3d4d584824e7fa8b9a7fa8ffc5fa1",
       "version_major": 2,
       "version_minor": 0
      },
      "text/plain": [
       "VBox()"
      ]
     },
     "metadata": {},
     "output_type": "display_data"
    },
    {
     "data": {
      "application/vnd.jupyter.widget-view+json": {
       "model_id": "",
       "version_major": 2,
       "version_minor": 0
      },
      "text/plain": [
       "FloatProgress(value=0.0, bar_style='info', description='Progress:', layout=Layout(height='25px', width='50%'),…"
      ]
     },
     "metadata": {},
     "output_type": "display_data"
    },
    {
     "name": "stdout",
     "output_type": "stream",
     "text": [
      "root\n",
      " |-- _Count: integer (nullable = true)\n",
      " |-- _ExcerptPostId: integer (nullable = true)\n",
      " |-- _Id: integer (nullable = true)\n",
      " |-- _TagName: string (nullable = true)\n",
      " |-- _WikiPostId: integer (nullable = true)\n",
      "\n",
      "+------+--------------+---+--------------------+-----------+\n",
      "|_Count|_ExcerptPostId|_Id|            _TagName|_WikiPostId|\n",
      "+------+--------------+---+--------------------+-----------+\n",
      "|    17|          5062|  1|                hops|       5061|\n",
      "|    85|          7872|  2|             history|       7871|\n",
      "|    69|          4880|  4|             brewing|       4879|\n",
      "|    37|          5109|  5|             serving|       5108|\n",
      "|    31|           304|  6|         temperature|        303|\n",
      "|     4|          null|  7|            pilsener|       null|\n",
      "|     4|          null|  9|         inebriation|       null|\n",
      "|    15|          5122| 10|                 ale|       5121|\n",
      "|    16|          5040| 11|               lager|       5039|\n",
      "|    56|          7878| 12|           breweries|       7877|\n",
      "|     3|          null| 14|retail-availiability|       null|\n",
      "|    14|          null| 15|        distribution|       null|\n",
      "|     3|          5142| 16|             mulling|       5141|\n",
      "|    24|           619| 17|                 ipa|        618|\n",
      "|     9|          null| 18|            hangover|       null|\n",
      "|    12|          null| 19|         carbonation|       null|\n",
      "|    40|          7896| 20|            drinking|       7895|\n",
      "|    11|          null| 21|             draught|       null|\n",
      "|    13|          5116| 22|            bottling|       5115|\n",
      "|    64|           615| 23|             storage|        614|\n",
      "+------+--------------+---+--------------------+-----------+\n",
      "only showing top 20 rows"
     ]
    }
   ],
   "source": [
    "#wczytanie pliku Tags.xml z pomocą modułu spark-xml do DataFrame'u\n",
    "dfTags = spark.read.format('xml').option('rootTag', 'tags').option('rowTag', 'row').load('s3://stackexchangebeer1/raw_data/Tags.xml',schema=schemaTags)\n",
    "dfTags.printSchema()\n",
    "dfTags.show()"
   ]
  },
  {
   "cell_type": "code",
   "execution_count": 77,
   "id": "da99ff42-158d-46fb-b58b-4e89c701d177",
   "metadata": {
    "execution": {
     "iopub.execute_input": "2023-01-20T18:15:56.427325Z",
     "iopub.status.busy": "2023-01-20T18:15:56.427077Z",
     "iopub.status.idle": "2023-01-20T18:15:56.493442Z",
     "shell.execute_reply": "2023-01-20T18:15:56.492706Z",
     "shell.execute_reply.started": "2023-01-20T18:15:56.427299Z"
    },
    "tags": []
   },
   "outputs": [
    {
     "data": {
      "application/vnd.jupyter.widget-view+json": {
       "model_id": "12254e89e93045b2af445481c864fdd3",
       "version_major": 2,
       "version_minor": 0
      },
      "text/plain": [
       "VBox()"
      ]
     },
     "metadata": {},
     "output_type": "display_data"
    },
    {
     "data": {
      "application/vnd.jupyter.widget-view+json": {
       "model_id": "",
       "version_major": 2,
       "version_minor": 0
      },
      "text/plain": [
       "FloatProgress(value=0.0, bar_style='info', description='Progress:', layout=Layout(height='25px', width='50%'),…"
      ]
     },
     "metadata": {},
     "output_type": "display_data"
    },
    {
     "name": "stdout",
     "output_type": "stream",
     "text": [
      "root\n",
      " |-- Count: integer (nullable = true)\n",
      " |-- PostId: integer (nullable = true)\n",
      " |-- Id: integer (nullable = true)\n",
      " |-- TagName: string (nullable = true)\n",
      " |-- WikiPostId: integer (nullable = true)"
     ]
    }
   ],
   "source": [
    "#nadanie odpowiednich nazw kolumnom\n",
    "dfTags1 = dfTags.withColumnRenamed(\"_Count\",\"Count\")\\\n",
    "                    .withColumnRenamed(\"_ExcerptPostId\",\"PostId\")\\\n",
    "                    .withColumnRenamed(\"_Id\",\"Id\")\\\n",
    "                    .withColumnRenamed(\"_TagName\",\"TagName\")\\\n",
    "                    .withColumnRenamed(\"_WikiPostId\",\"WikiPostId\")\n",
    "dfTags1.printSchema()"
   ]
  },
  {
   "cell_type": "code",
   "execution_count": 78,
   "id": "906acb74-f694-4b92-951d-0ee3222a87d6",
   "metadata": {
    "execution": {
     "iopub.execute_input": "2023-01-20T18:16:19.958506Z",
     "iopub.status.busy": "2023-01-20T18:16:19.958268Z",
     "iopub.status.idle": "2023-01-20T18:16:22.243549Z",
     "shell.execute_reply": "2023-01-20T18:16:22.242751Z",
     "shell.execute_reply.started": "2023-01-20T18:16:19.958481Z"
    }
   },
   "outputs": [
    {
     "data": {
      "application/vnd.jupyter.widget-view+json": {
       "model_id": "03451478a5064999bb609e9a71877562",
       "version_major": 2,
       "version_minor": 0
      },
      "text/plain": [
       "VBox()"
      ]
     },
     "metadata": {},
     "output_type": "display_data"
    },
    {
     "data": {
      "application/vnd.jupyter.widget-view+json": {
       "model_id": "",
       "version_major": 2,
       "version_minor": 0
      },
      "text/plain": [
       "FloatProgress(value=0.0, bar_style='info', description='Progress:', layout=Layout(height='25px', width='50%'),…"
      ]
     },
     "metadata": {},
     "output_type": "display_data"
    }
   ],
   "source": [
    "#zapisanie tabeli dfTags1 w formacie parquet\n",
    "dfTags1.write.parquet('s3://stackexchangebeer1/parquet/tags.parquet')"
   ]
  },
  {
   "cell_type": "markdown",
   "id": "6a41d113-cec4-41e4-8476-2495888514b3",
   "metadata": {},
   "source": [
    "__PLIK POSTHISTORY.XML__"
   ]
  },
  {
   "cell_type": "code",
   "execution_count": 11,
   "id": "81b57245-6b83-44e1-9718-db6cc6c683d7",
   "metadata": {
    "execution": {
     "iopub.execute_input": "2023-01-21T09:46:30.571908Z",
     "iopub.status.busy": "2023-01-21T09:46:30.571675Z",
     "iopub.status.idle": "2023-01-21T09:46:30.625866Z",
     "shell.execute_reply": "2023-01-21T09:46:30.625241Z",
     "shell.execute_reply.started": "2023-01-21T09:46:30.571883Z"
    }
   },
   "outputs": [
    {
     "data": {
      "application/vnd.jupyter.widget-view+json": {
       "model_id": "7f9da2b2385a4c588f5f906f62b55942",
       "version_major": 2,
       "version_minor": 0
      },
      "text/plain": [
       "VBox()"
      ]
     },
     "metadata": {},
     "output_type": "display_data"
    },
    {
     "data": {
      "application/vnd.jupyter.widget-view+json": {
       "model_id": "",
       "version_major": 2,
       "version_minor": 0
      },
      "text/plain": [
       "FloatProgress(value=0.0, bar_style='info', description='Progress:', layout=Layout(height='25px', width='50%'),…"
      ]
     },
     "metadata": {},
     "output_type": "display_data"
    }
   ],
   "source": [
    "#ustawienie odpowiednich typów danych dla pliku PostHistory.xml\n",
    "from pyspark.sql.types import *\n",
    "\n",
    "schemaPostHistory = StructType([\n",
    "    StructField(\"_Comment\", StringType(), True),\n",
    "    StructField(\"_ContentLicense\", StringType(), True),\n",
    "    StructField(\"_CreationDate\", TimestampType(), True),\n",
    "    StructField(\"_Id\", IntegerType(), True),\n",
    "    StructField(\"_PostId\", IntegerType(), True),\n",
    "    StructField(\"_RevisionGUID\", StringType(), True),\n",
    "    StructField(\"_Text\", StringType(), True),\n",
    "    StructField(\"_UserDisplayName\", StringType(), True),\n",
    "    StructField(\"_UserId\", IntegerType(), True)\n",
    "])"
   ]
  },
  {
   "cell_type": "code",
   "execution_count": 12,
   "id": "7a624e55-5390-4c17-83c9-5057ac04936e",
   "metadata": {
    "execution": {
     "iopub.execute_input": "2023-01-21T09:46:41.972650Z",
     "iopub.status.busy": "2023-01-21T09:46:41.972373Z",
     "iopub.status.idle": "2023-01-21T09:46:51.295997Z",
     "shell.execute_reply": "2023-01-21T09:46:51.295323Z",
     "shell.execute_reply.started": "2023-01-21T09:46:41.972611Z"
    },
    "tags": []
   },
   "outputs": [
    {
     "data": {
      "application/vnd.jupyter.widget-view+json": {
       "model_id": "7795d8bf56bc4850b99bc0d70b097a10",
       "version_major": 2,
       "version_minor": 0
      },
      "text/plain": [
       "VBox()"
      ]
     },
     "metadata": {},
     "output_type": "display_data"
    },
    {
     "data": {
      "application/vnd.jupyter.widget-view+json": {
       "model_id": "",
       "version_major": 2,
       "version_minor": 0
      },
      "text/plain": [
       "FloatProgress(value=0.0, bar_style='info', description='Progress:', layout=Layout(height='25px', width='50%'),…"
      ]
     },
     "metadata": {},
     "output_type": "display_data"
    },
    {
     "name": "stdout",
     "output_type": "stream",
     "text": [
      "root\n",
      " |-- _Comment: string (nullable = true)\n",
      " |-- _ContentLicense: string (nullable = true)\n",
      " |-- _CreationDate: timestamp (nullable = true)\n",
      " |-- _Id: integer (nullable = true)\n",
      " |-- _PostId: integer (nullable = true)\n",
      " |-- _RevisionGUID: string (nullable = true)\n",
      " |-- _Text: string (nullable = true)\n",
      " |-- _UserDisplayName: string (nullable = true)\n",
      " |-- _UserId: integer (nullable = true)\n",
      "\n",
      "+--------+---------------+--------------------+---+-------+--------------------+--------------------+----------------+-------+\n",
      "|_Comment|_ContentLicense|       _CreationDate|_Id|_PostId|       _RevisionGUID|               _Text|_UserDisplayName|_UserId|\n",
      "+--------+---------------+--------------------+---+-------+--------------------+--------------------+----------------+-------+\n",
      "|    null|   CC BY-SA 3.0|2014-01-21 20:26:...|  1|      1|a17002a0-00b0-417...|I was offered a b...|            null|      7|\n",
      "|    null|   CC BY-SA 3.0|2014-01-21 20:26:...|  2|      1|a17002a0-00b0-417...|What is a citra h...|            null|      7|\n",
      "|    null|   CC BY-SA 3.0|2014-01-21 20:26:...|  3|      1|a17002a0-00b0-417...|              <hops>|            null|      7|\n",
      "|    null|   CC BY-SA 3.0|2014-01-21 20:27:...|  4|      2|128709c5-8789-4d1...|As far as we know...|            null|      7|\n",
      "|    null|   CC BY-SA 3.0|2014-01-21 20:27:...|  5|      2|128709c5-8789-4d1...|When was the firs...|            null|      7|\n",
      "+--------+---------------+--------------------+---+-------+--------------------+--------------------+----------------+-------+\n",
      "only showing top 5 rows"
     ]
    }
   ],
   "source": [
    "#wczytanie pliku PostHistory.xml z pomocą modułu spark-xml do DataFrame'u\n",
    "dfPostHistory = spark.read.format('xml').option('rootTag', 'posthistory').option('rowTag', 'row').load('s3://stackexchangebeer1/raw_data/PostHistory.xml',schema=schemaPostHistory)\n",
    "dfPostHistory.printSchema()\n",
    "dfPostHistory.show(5)"
   ]
  },
  {
   "cell_type": "code",
   "execution_count": 13,
   "id": "e2b3073b-0319-40c9-83c7-a483b9380949",
   "metadata": {
    "execution": {
     "iopub.execute_input": "2023-01-21T09:47:12.547787Z",
     "iopub.status.busy": "2023-01-21T09:47:12.547556Z",
     "iopub.status.idle": "2023-01-21T09:47:12.612209Z",
     "shell.execute_reply": "2023-01-21T09:47:12.611640Z",
     "shell.execute_reply.started": "2023-01-21T09:47:12.547762Z"
    },
    "tags": []
   },
   "outputs": [
    {
     "data": {
      "application/vnd.jupyter.widget-view+json": {
       "model_id": "44a584da326148a0825a0644fb1a824c",
       "version_major": 2,
       "version_minor": 0
      },
      "text/plain": [
       "VBox()"
      ]
     },
     "metadata": {},
     "output_type": "display_data"
    },
    {
     "data": {
      "application/vnd.jupyter.widget-view+json": {
       "model_id": "",
       "version_major": 2,
       "version_minor": 0
      },
      "text/plain": [
       "FloatProgress(value=0.0, bar_style='info', description='Progress:', layout=Layout(height='25px', width='50%'),…"
      ]
     },
     "metadata": {},
     "output_type": "display_data"
    },
    {
     "name": "stdout",
     "output_type": "stream",
     "text": [
      "root\n",
      " |-- _Comment: string (nullable = true)\n",
      " |-- _CreationDate: timestamp (nullable = true)\n",
      " |-- _Id: integer (nullable = true)\n",
      " |-- _PostId: integer (nullable = true)\n",
      " |-- _Text: string (nullable = true)\n",
      " |-- _UserDisplayName: string (nullable = true)\n",
      " |-- _UserId: integer (nullable = true)"
     ]
    }
   ],
   "source": [
    "#usunięcie kolumn RevisonGUID i ContentLicense\n",
    "dfPostHistory1 = dfPostHistory.drop(dfPostHistory[\"_ContentLicense\"]).drop(dfPostHistory[\"_RevisionGUID\"])\n",
    "dfPostHistory1.printSchema()"
   ]
  },
  {
   "cell_type": "code",
   "execution_count": 18,
   "id": "16cac60d-437c-4d87-81d2-eafac0ccc6d7",
   "metadata": {
    "execution": {
     "iopub.execute_input": "2023-01-21T10:11:16.329306Z",
     "iopub.status.busy": "2023-01-21T10:11:16.329059Z",
     "iopub.status.idle": "2023-01-21T10:11:16.595349Z",
     "shell.execute_reply": "2023-01-21T10:11:16.594726Z",
     "shell.execute_reply.started": "2023-01-21T10:11:16.329279Z"
    },
    "tags": []
   },
   "outputs": [
    {
     "data": {
      "application/vnd.jupyter.widget-view+json": {
       "model_id": "76bb932d7f2c47ee8056844dd8949b00",
       "version_major": 2,
       "version_minor": 0
      },
      "text/plain": [
       "VBox()"
      ]
     },
     "metadata": {},
     "output_type": "display_data"
    },
    {
     "data": {
      "application/vnd.jupyter.widget-view+json": {
       "model_id": "",
       "version_major": 2,
       "version_minor": 0
      },
      "text/plain": [
       "FloatProgress(value=0.0, bar_style='info', description='Progress:', layout=Layout(height='25px', width='50%'),…"
      ]
     },
     "metadata": {},
     "output_type": "display_data"
    },
    {
     "name": "stdout",
     "output_type": "stream",
     "text": [
      "root\n",
      " |-- Comment: string (nullable = true)\n",
      " |-- Date: timestamp (nullable = true)\n",
      " |-- Id: integer (nullable = true)\n",
      " |-- PostId: integer (nullable = true)\n",
      " |-- Text: string (nullable = true)\n",
      " |-- UserDisplayName: string (nullable = true)\n",
      " |-- UserId: integer (nullable = true)"
     ]
    }
   ],
   "source": [
    "#nadanie odpowiednich nazw kolumnom\n",
    "dfPostHistory2 = dfPostHistory1.withColumnRenamed(\"_Comment\",\"Comment\")\\\n",
    "                    .withColumnRenamed(\"_CreationDate\",\"Date\")\\\n",
    "                    .withColumnRenamed(\"_Id\",\"Id\")\\\n",
    "                    .withColumnRenamed(\"_PostId\",\"PostId\")\\\n",
    "                    .withColumnRenamed(\"_Text\",\"Text\")\\\n",
    "                    .withColumnRenamed(\"_UserDisplayName\",\"UserDisplayName\")\\\n",
    "                    .withColumnRenamed(\"_UserId\",\"UserId\")\n",
    "dfPostHistory2.printSchema()"
   ]
  },
  {
   "cell_type": "code",
   "execution_count": 23,
   "id": "d3dc17c8-eb32-4e87-ab75-7fde87275ced",
   "metadata": {
    "execution": {
     "iopub.execute_input": "2023-01-21T10:14:40.043984Z",
     "iopub.status.busy": "2023-01-21T10:14:40.043759Z",
     "iopub.status.idle": "2023-01-21T10:14:49.344064Z",
     "shell.execute_reply": "2023-01-21T10:14:49.343338Z",
     "shell.execute_reply.started": "2023-01-21T10:14:40.043960Z"
    },
    "tags": []
   },
   "outputs": [
    {
     "data": {
      "application/vnd.jupyter.widget-view+json": {
       "model_id": "1469c5e1e8dc441d9e7bf73b633a3ab9",
       "version_major": 2,
       "version_minor": 0
      },
      "text/plain": [
       "VBox()"
      ]
     },
     "metadata": {},
     "output_type": "display_data"
    },
    {
     "data": {
      "application/vnd.jupyter.widget-view+json": {
       "model_id": "",
       "version_major": 2,
       "version_minor": 0
      },
      "text/plain": [
       "FloatProgress(value=0.0, bar_style='info', description='Progress:', layout=Layout(height='25px', width='50%'),…"
      ]
     },
     "metadata": {},
     "output_type": "display_data"
    },
    {
     "name": "stdout",
     "output_type": "stream",
     "text": [
      "root\n",
      " |-- Comment: string (nullable = true)\n",
      " |-- Id: integer (nullable = true)\n",
      " |-- PostId: integer (nullable = true)\n",
      " |-- Text: string (nullable = true)\n",
      " |-- UserDisplayName: string (nullable = true)\n",
      " |-- UserId: integer (nullable = true)\n",
      " |-- CreationDate: date (nullable = true)\n",
      " |-- Time: string (nullable = true)\n",
      "\n",
      "+-------+---+------+--------------------+---------------+------+------------+------------+\n",
      "|Comment| Id|PostId|                Text|UserDisplayName|UserId|CreationDate|        Time|\n",
      "+-------+---+------+--------------------+---------------+------+------------+------------+\n",
      "|   null|  1|     1|I was offered a b...|           null|     7|  2014-01-21|20:26:05.383|\n",
      "|   null|  2|     1|What is a citra h...|           null|     7|  2014-01-21|20:26:05.383|\n",
      "|   null|  3|     1|              <hops>|           null|     7|  2014-01-21|20:26:05.383|\n",
      "|   null|  4|     2|As far as we know...|           null|     7|  2014-01-21|20:27:29.797|\n",
      "|   null|  5|     2|When was the firs...|           null|     7|  2014-01-21|20:27:29.797|\n",
      "+-------+---+------+--------------------+---------------+------+------------+------------+\n",
      "only showing top 5 rows"
     ]
    }
   ],
   "source": [
    "from pyspark.sql.functions import split\n",
    "#rozbicie kolumny CreationDate na 2 kolumny z datą oraz czasem utworzenia\n",
    "dfPostHistory3 = dfPostHistory2.select(\"Comment\", \"Date\", \"Id\", \"PostId\", \"Text\", \"UserDisplayName\", \"UserId\").withColumn('CreationDate',split(dfPostHistory2[\"Date\"], ' ')[0])\\\n",
    "                                                                                                  .withColumn('Time',split(dfPostHistory2[\"Date\"], ' ')[1])\\\n",
    "                                                                                                  .drop(dfPostHistory2[\"Date\"])\n",
    "#zmiana typu danych kolumny Date na DateType\n",
    "dfPostHistory4= dfPostHistory3.withColumn(\"CreationDate\", dfPostHistory3[\"CreationDate\"].cast(DateType()))\n",
    "dfPostHistory4.printSchema()\n",
    "dfPostHistory4.show(5)"
   ]
  },
  {
   "cell_type": "code",
   "execution_count": 26,
   "id": "11c3a5bb-436a-46f4-9f79-597270dd1c1e",
   "metadata": {
    "execution": {
     "iopub.execute_input": "2023-01-21T10:20:23.555671Z",
     "iopub.status.busy": "2023-01-21T10:20:23.555417Z",
     "iopub.status.idle": "2023-01-21T10:20:24.325845Z",
     "shell.execute_reply": "2023-01-21T10:20:24.325133Z",
     "shell.execute_reply.started": "2023-01-21T10:20:23.555631Z"
    },
    "tags": []
   },
   "outputs": [
    {
     "data": {
      "application/vnd.jupyter.widget-view+json": {
       "model_id": "26968cbb8af749d79423c70d0cba24a9",
       "version_major": 2,
       "version_minor": 0
      },
      "text/plain": [
       "VBox()"
      ]
     },
     "metadata": {},
     "output_type": "display_data"
    },
    {
     "data": {
      "application/vnd.jupyter.widget-view+json": {
       "model_id": "",
       "version_major": 2,
       "version_minor": 0
      },
      "text/plain": [
       "FloatProgress(value=0.0, bar_style='info', description='Progress:', layout=Layout(height='25px', width='50%'),…"
      ]
     },
     "metadata": {},
     "output_type": "display_data"
    },
    {
     "name": "stdout",
     "output_type": "stream",
     "text": [
      "+---+------------------------------------------------------------------------------------------------------------------------------------------------------------------------------------------------------------------------------------------------------------------------------------------------------------------------------------------------+\n",
      "|Id |Text                                                                                                                                                                                                                                                                                                                                            |\n",
      "+---+------------------------------------------------------------------------------------------------------------------------------------------------------------------------------------------------------------------------------------------------------------------------------------------------------------------------------------------------+\n",
      "|1  |I was offered a beer the other day that was reportedly made with citrate hops. What are citrate hops?                                                                                                                                                                                                                                           |\n",
      "|2  |What is a citra hop, and how does it differ from other hops?                                                                                                                                                                                                                                                                                    |\n",
      "|3  |<hops>                                                                                                                                                                                                                                                                                                                                          |\n",
      "|4  |As far as we know, when did humans first brew beer, and where? Around when would you have been able to get your hands on something resembling a modern lager?                                                                                                                                                                                   |\n",
      "|5  |When was the first beer ever brewed?                                                                                                                                                                                                                                                                                                            |\n",
      "|6  |<history>                                                                                                                                                                                                                                                                                                                                       |\n",
      "|7  |How is low/no alcohol beer made? I'm assuming that the beer is made normally and the alcohol is then removed, is it any more than just boiling it off? I've noticed that no/low alcohol beers' taste improved hugely a few years ago, is this due to a new technique?                                                                           |\n",
      "|8  |How is reduced alcoholic beer made?                                                                                                                                                                                                                                                                                                             |\n",
      "|9  |<brewing>                                                                                                                                                                                                                                                                                                                                       |\n",
      "|10 |Citra is a registered trademark since 2007. Citra Brand hops have fairly high alpha acids and total oil contents with a low percentage of cohumulone content and  imparts interesting citrus and tropical fruit characters to beer.\\r\\n\\r\\n[Info][1]\\r\\n\\r\\n\\r\\n  [1]: http://en.wikipedia.org/wiki/List_of_hop_varieties#Citra_brand_HBC_394_cv|\n",
      "|11 |In general, what's the best way to work out the temperature at which to serve a beer? Room temperature? Cold? Supercold? *Warm?*                                                                                                                                                                                                                |\n",
      "|12 |What temperature should I serve my beer?                                                                                                                                                                                                                                                                                                        |\n",
      "|13 |<serving><temperature>                                                                                                                                                                                                                                                                                                                          |\n",
      "|14 |Currently I am storing my bottels in the crates at a (about) 20 degree angle (bottels are upwards!).\\r\\n\\r\\nDoes the way of storing the bottels affect something (and how)?                                                                                                                                                                     |\n",
      "|15 |What is the best angle to store pilsener beer bottels?                                                                                                                                                                                                                                                                                          |\n",
      "|16 |<pilsener><storing>                                                                                                                                                                                                                                                                                                                             |\n",
      "|17 |Assuming we're comparing equivalent amounts of alcohol, do certain beers get you inebriated quicker or slower? Does the amount of fizz make a difference?                                                                                                                                                                                       |\n",
      "|18 |Will certain types of beer get me drunker quicker?                                                                                                                                                                                                                                                                                              |\n",
      "|19 |<inebriation>                                                                                                                                                                                                                                                                                                                                   |\n",
      "|20 |Apart from coming out of different taps, some ales seem very similar to lagers (although there are clearly a much greater variety of ales). Is there a difference in the way they are made?                                                                                                                                                     |\n",
      "+---+------------------------------------------------------------------------------------------------------------------------------------------------------------------------------------------------------------------------------------------------------------------------------------------------------------------------------------------------+\n",
      "only showing top 20 rows"
     ]
    }
   ],
   "source": [
    "dfPostHistory4.select(\"Id\",\"Text\").show(20,truncate=False)"
   ]
  },
  {
   "cell_type": "code",
   "execution_count": 34,
   "id": "e6ddb3f3-a1f9-4499-904a-360de48af220",
   "metadata": {
    "execution": {
     "iopub.execute_input": "2023-01-21T10:49:21.368579Z",
     "iopub.status.busy": "2023-01-21T10:49:21.368342Z",
     "iopub.status.idle": "2023-01-21T10:49:30.671035Z",
     "shell.execute_reply": "2023-01-21T10:49:30.670053Z",
     "shell.execute_reply.started": "2023-01-21T10:49:21.368553Z"
    },
    "tags": []
   },
   "outputs": [
    {
     "data": {
      "application/vnd.jupyter.widget-view+json": {
       "model_id": "40964c4be8a74fadad4c37c07145458a",
       "version_major": 2,
       "version_minor": 0
      },
      "text/plain": [
       "VBox()"
      ]
     },
     "metadata": {},
     "output_type": "display_data"
    },
    {
     "data": {
      "application/vnd.jupyter.widget-view+json": {
       "model_id": "",
       "version_major": 2,
       "version_minor": 0
      },
      "text/plain": [
       "FloatProgress(value=0.0, bar_style='info', description='Progress:', layout=Layout(height='25px', width='50%'),…"
      ]
     },
     "metadata": {},
     "output_type": "display_data"
    },
    {
     "name": "stdout",
     "output_type": "stream",
     "text": [
      "+-------+---+------+--------------------+---------------+------+------------+------------+\n",
      "|Comment| Id|PostId|                Text|UserDisplayName|UserId|CreationDate|        Time|\n",
      "+-------+---+------+--------------------+---------------+------+------------+------------+\n",
      "|   null|  1|     1|I was offered a b...|           null|     7|  2014-01-21|20:26:05.383|\n",
      "|   null|  2|     1|What is a citra h...|           null|     7|  2014-01-21|20:26:05.383|\n",
      "|   null|  3|     1|              <hops>|           null|     7|  2014-01-21|20:26:05.383|\n",
      "|   null|  4|     2|As far as we know...|           null|     7|  2014-01-21|20:27:29.797|\n",
      "|   null|  5|     2|When was the firs...|           null|     7|  2014-01-21|20:27:29.797|\n",
      "|   null|  6|     2|           <history>|           null|     7|  2014-01-21|20:27:29.797|\n",
      "|   null|  7|     3|How is low/no alc...|           null|     7|  2014-01-21|20:30:17.437|\n",
      "|   null|  8|     3|How is reduced al...|           null|     7|  2014-01-21|20:30:17.437|\n",
      "|   null|  9|     3|           <brewing>|           null|     7|  2014-01-21|20:30:17.437|\n",
      "|   null| 10|     4|Citra is a regist...|           null|    12|  2014-01-21| 20:31:18.54|\n",
      "|   null| 11|     5|In general, what'...|           null|     7|  2014-01-21|20:31:44.693|\n",
      "|   null| 12|     5|What temperature ...|           null|     7|  2014-01-21|20:31:44.693|\n",
      "|   null| 13|     5|<serving><tempera...|           null|     7|  2014-01-21|20:31:44.693|\n",
      "|   null| 14|     6|Currently I am st...|           null|    10|  2014-01-21|20:33:12.797|\n",
      "|   null| 15|     6|What is the best ...|           null|    10|  2014-01-21|20:33:12.797|\n",
      "|   null| 16|     6| <pilsener><storing>|           null|    10|  2014-01-21|20:33:12.797|\n",
      "|   null| 17|     7|Assuming we're co...|           null|     7|  2014-01-21|20:34:59.053|\n",
      "|   null| 18|     7|Will certain type...|           null|     7|  2014-01-21|20:34:59.053|\n",
      "|   null| 19|     7|       <inebriation>|           null|     7|  2014-01-21|20:34:59.053|\n",
      "|   null| 20|     8|Apart from coming...|           null|     7|  2014-01-21|20:37:12.143|\n",
      "+-------+---+------+--------------------+---------------+------+------------+------------+\n",
      "only showing top 20 rows"
     ]
    }
   ],
   "source": [
    "#oczyszczenie kolumny Text ze znaków \\n\\r\n",
    "import pyspark.sql.functions as f\n",
    "dfPostHistory5=dfPostHistory4.withColumn('Text',f.regexp_replace(f.regexp_replace('Text', '\\r', ''),'\\n', '')).show()\n"
   ]
  },
  {
   "cell_type": "code",
   "execution_count": null,
   "id": "ec955ff5-0528-4cea-8aa1-48c5512ec539",
   "metadata": {},
   "outputs": [],
   "source": []
  },
  {
   "cell_type": "code",
   "execution_count": 35,
   "id": "4975554f-80ff-46f4-9ec5-83e5e9305ae1",
   "metadata": {
    "execution": {
     "iopub.execute_input": "2023-01-21T10:50:29.930677Z",
     "iopub.status.busy": "2023-01-21T10:50:29.930408Z",
     "iopub.status.idle": "2023-01-21T10:50:43.258006Z",
     "shell.execute_reply": "2023-01-21T10:50:43.257366Z",
     "shell.execute_reply.started": "2023-01-21T10:50:29.930635Z"
    }
   },
   "outputs": [
    {
     "data": {
      "application/vnd.jupyter.widget-view+json": {
       "model_id": "8b560f74c1f147ff9796702c5da0ee47",
       "version_major": 2,
       "version_minor": 0
      },
      "text/plain": [
       "VBox()"
      ]
     },
     "metadata": {},
     "output_type": "display_data"
    },
    {
     "data": {
      "application/vnd.jupyter.widget-view+json": {
       "model_id": "",
       "version_major": 2,
       "version_minor": 0
      },
      "text/plain": [
       "FloatProgress(value=0.0, bar_style='info', description='Progress:', layout=Layout(height='25px', width='50%'),…"
      ]
     },
     "metadata": {},
     "output_type": "display_data"
    }
   ],
   "source": [
    "#zapisanie tabeli PostHistory w formacie parquet\n",
    "dfPostHistory.write.parquet('s3://stackexchangebeer1/parquet/posthistory.parquet')"
   ]
  },
  {
   "cell_type": "markdown",
   "id": "31f0cc4a-a93a-4513-af43-35aa46a9a5d8",
   "metadata": {},
   "source": [
    "__PLIK COMMENTS.XML__"
   ]
  },
  {
   "cell_type": "code",
   "execution_count": 39,
   "id": "0c92f4fd-bd92-48b7-8a0e-74ef9189b66d",
   "metadata": {
    "execution": {
     "iopub.execute_input": "2023-01-21T11:08:08.802352Z",
     "iopub.status.busy": "2023-01-21T11:08:08.802128Z",
     "iopub.status.idle": "2023-01-21T11:08:08.862544Z",
     "shell.execute_reply": "2023-01-21T11:08:08.861917Z",
     "shell.execute_reply.started": "2023-01-21T11:08:08.802328Z"
    },
    "tags": []
   },
   "outputs": [
    {
     "data": {
      "application/vnd.jupyter.widget-view+json": {
       "model_id": "b3d70567a49147e494ed6d141c5e0d17",
       "version_major": 2,
       "version_minor": 0
      },
      "text/plain": [
       "VBox()"
      ]
     },
     "metadata": {},
     "output_type": "display_data"
    },
    {
     "data": {
      "application/vnd.jupyter.widget-view+json": {
       "model_id": "",
       "version_major": 2,
       "version_minor": 0
      },
      "text/plain": [
       "FloatProgress(value=0.0, bar_style='info', description='Progress:', layout=Layout(height='25px', width='50%'),…"
      ]
     },
     "metadata": {},
     "output_type": "display_data"
    }
   ],
   "source": [
    "#ustawienie odpowiednich typów danych dla pliku Comments.xml\n",
    "from pyspark.sql.types import *\n",
    "\n",
    "schemaComments = StructType([\n",
    "    StructField(\"_ContentLicense\", StringType(), True),\n",
    "    StructField(\"_CreationDate\", TimestampType(), True),\n",
    "    StructField(\"_Id\", IntegerType(), True),\n",
    "    StructField(\"_PostId\", IntegerType(), True),\n",
    "    StructField(\"_Score\", IntegerType(), True),\n",
    "    StructField(\"_Text\", StringType(), True),\n",
    "    StructField(\"_UserDisplayName\", StringType(), True),\n",
    "    StructField(\"_UserId\", IntegerType(), True)\n",
    "])"
   ]
  },
  {
   "cell_type": "code",
   "execution_count": 42,
   "id": "5ec19b14-b4bb-45d2-88db-a4b22e9232fc",
   "metadata": {
    "execution": {
     "iopub.execute_input": "2023-01-21T11:08:39.948697Z",
     "iopub.status.busy": "2023-01-21T11:08:39.948460Z",
     "iopub.status.idle": "2023-01-21T11:08:49.250749Z",
     "shell.execute_reply": "2023-01-21T11:08:49.250073Z",
     "shell.execute_reply.started": "2023-01-21T11:08:39.948670Z"
    },
    "tags": []
   },
   "outputs": [
    {
     "data": {
      "application/vnd.jupyter.widget-view+json": {
       "model_id": "9ba1fa05e6bd4681b6c301065dd01689",
       "version_major": 2,
       "version_minor": 0
      },
      "text/plain": [
       "VBox()"
      ]
     },
     "metadata": {},
     "output_type": "display_data"
    },
    {
     "data": {
      "application/vnd.jupyter.widget-view+json": {
       "model_id": "",
       "version_major": 2,
       "version_minor": 0
      },
      "text/plain": [
       "FloatProgress(value=0.0, bar_style='info', description='Progress:', layout=Layout(height='25px', width='50%'),…"
      ]
     },
     "metadata": {},
     "output_type": "display_data"
    },
    {
     "name": "stdout",
     "output_type": "stream",
     "text": [
      "root\n",
      " |-- _ContentLicense: string (nullable = true)\n",
      " |-- _CreationDate: timestamp (nullable = true)\n",
      " |-- _Id: integer (nullable = true)\n",
      " |-- _PostId: integer (nullable = true)\n",
      " |-- _Score: integer (nullable = true)\n",
      " |-- _Text: string (nullable = true)\n",
      " |-- _UserDisplayName: string (nullable = true)\n",
      " |-- _UserId: integer (nullable = true)\n",
      "\n",
      "+---------------+--------------------+---+-------+------+--------------------+----------------+-------+\n",
      "|_ContentLicense|       _CreationDate|_Id|_PostId|_Score|               _Text|_UserDisplayName|_UserId|\n",
      "+---------------+--------------------+---+-------+------+--------------------+----------------+-------+\n",
      "|   CC BY-SA 3.0|2014-01-21 20:34:...|  1|      5|     0|This is a matter ...|            null|     10|\n",
      "|   CC BY-SA 3.0|2014-01-21 20:52:...|  4|     16|     4|This question app...|            null|     39|\n",
      "|   CC BY-SA 3.0|2014-01-21 20:55:...|  5|     16|     8|Obviously, you sh...|            null|     41|\n",
      "|   CC BY-SA 3.0|2014-01-21 20:57:...|  6|      5|     3|Doesn't this depe...|            null|     43|\n",
      "|   CC BY-SA 3.0|2014-01-21 20:57:...|  7|     19|     4|I retracted my cl...|            null|     20|\n",
      "+---------------+--------------------+---+-------+------+--------------------+----------------+-------+\n",
      "only showing top 5 rows"
     ]
    }
   ],
   "source": [
    "#wczytanie pliku Badges.xml z pomocą modułu spark-xml do DataFrame'u\n",
    "dfComments = spark.read.format('xml').option('rootTag', 'comments').option('rowTag', 'row').load('s3://stackexchangebeer1/raw_data/Comments.xml',schema=schemaComments)\n",
    "dfComments.printSchema()\n",
    "dfComments.show(5)"
   ]
  },
  {
   "cell_type": "code",
   "execution_count": 43,
   "id": "f62019c8-0e98-40f0-8f69-5d9f4fe773bd",
   "metadata": {
    "execution": {
     "iopub.execute_input": "2023-01-21T11:11:37.499714Z",
     "iopub.status.busy": "2023-01-21T11:11:37.499479Z",
     "iopub.status.idle": "2023-01-21T11:11:37.552778Z",
     "shell.execute_reply": "2023-01-21T11:11:37.552244Z",
     "shell.execute_reply.started": "2023-01-21T11:11:37.499687Z"
    }
   },
   "outputs": [
    {
     "data": {
      "application/vnd.jupyter.widget-view+json": {
       "model_id": "dbb07ffd51234bb782ffa3f7d68ad3bd",
       "version_major": 2,
       "version_minor": 0
      },
      "text/plain": [
       "VBox()"
      ]
     },
     "metadata": {},
     "output_type": "display_data"
    },
    {
     "data": {
      "application/vnd.jupyter.widget-view+json": {
       "model_id": "",
       "version_major": 2,
       "version_minor": 0
      },
      "text/plain": [
       "FloatProgress(value=0.0, bar_style='info', description='Progress:', layout=Layout(height='25px', width='50%'),…"
      ]
     },
     "metadata": {},
     "output_type": "display_data"
    }
   ],
   "source": [
    "#usunięcie kolumny ContentLicense\n",
    "dfComments1 = dfComments.drop('_ContentLicense')"
   ]
  },
  {
   "cell_type": "code",
   "execution_count": 45,
   "id": "bfda0a48-b8a5-4078-9c19-1142c3d014b0",
   "metadata": {
    "execution": {
     "iopub.execute_input": "2023-01-21T11:12:58.905989Z",
     "iopub.status.busy": "2023-01-21T11:12:58.905710Z",
     "iopub.status.idle": "2023-01-21T11:12:59.166753Z",
     "shell.execute_reply": "2023-01-21T11:12:59.166128Z",
     "shell.execute_reply.started": "2023-01-21T11:12:58.905961Z"
    },
    "tags": []
   },
   "outputs": [
    {
     "data": {
      "application/vnd.jupyter.widget-view+json": {
       "model_id": "b19c6072e96a4e908e5f4121514404c7",
       "version_major": 2,
       "version_minor": 0
      },
      "text/plain": [
       "VBox()"
      ]
     },
     "metadata": {},
     "output_type": "display_data"
    },
    {
     "data": {
      "application/vnd.jupyter.widget-view+json": {
       "model_id": "",
       "version_major": 2,
       "version_minor": 0
      },
      "text/plain": [
       "FloatProgress(value=0.0, bar_style='info', description='Progress:', layout=Layout(height='25px', width='50%'),…"
      ]
     },
     "metadata": {},
     "output_type": "display_data"
    },
    {
     "name": "stdout",
     "output_type": "stream",
     "text": [
      "root\n",
      " |-- Date: timestamp (nullable = true)\n",
      " |-- Id: integer (nullable = true)\n",
      " |-- PostId: integer (nullable = true)\n",
      " |-- Score: integer (nullable = true)\n",
      " |-- Text: string (nullable = true)\n",
      " |-- UserDisplayName: string (nullable = true)\n",
      " |-- UserId: integer (nullable = true)"
     ]
    }
   ],
   "source": [
    "#nadanie odpowiednich nazw kolumnom\n",
    "dfComments2 = dfComments1.withColumnRenamed(\"_CreationDate\",\"Date\")\\\n",
    "                    .withColumnRenamed(\"_Id\",\"Id\")\\\n",
    "                    .withColumnRenamed(\"_PostId\",\"PostId\")\\\n",
    "                    .withColumnRenamed(\"_Score\",\"Score\")\\\n",
    "                    .withColumnRenamed(\"_Text\",\"Text\")\\\n",
    "                    .withColumnRenamed(\"_UserDisplayName\",\"UserDisplayName\")\\\n",
    "                    .withColumnRenamed(\"_UserId\",\"UserId\")\n",
    "dfComments2.printSchema()"
   ]
  },
  {
   "cell_type": "code",
   "execution_count": 46,
   "id": "1ef6644a-d1f0-4698-9a59-0174ba093cfd",
   "metadata": {
    "execution": {
     "iopub.execute_input": "2023-01-21T11:21:31.607341Z",
     "iopub.status.busy": "2023-01-21T11:21:31.607117Z",
     "iopub.status.idle": "2023-01-21T11:21:40.900009Z",
     "shell.execute_reply": "2023-01-21T11:21:40.899311Z",
     "shell.execute_reply.started": "2023-01-21T11:21:31.607317Z"
    }
   },
   "outputs": [
    {
     "data": {
      "application/vnd.jupyter.widget-view+json": {
       "model_id": "212439e84f9249c9ac93b9eccf1d9b54",
       "version_major": 2,
       "version_minor": 0
      },
      "text/plain": [
       "VBox()"
      ]
     },
     "metadata": {},
     "output_type": "display_data"
    },
    {
     "data": {
      "application/vnd.jupyter.widget-view+json": {
       "model_id": "",
       "version_major": 2,
       "version_minor": 0
      },
      "text/plain": [
       "FloatProgress(value=0.0, bar_style='info', description='Progress:', layout=Layout(height='25px', width='50%'),…"
      ]
     },
     "metadata": {},
     "output_type": "display_data"
    },
    {
     "name": "stdout",
     "output_type": "stream",
     "text": [
      "root\n",
      " |-- Id: integer (nullable = true)\n",
      " |-- PostId: integer (nullable = true)\n",
      " |-- Score: integer (nullable = true)\n",
      " |-- Text: string (nullable = true)\n",
      " |-- UserDisplayName: string (nullable = true)\n",
      " |-- UserId: integer (nullable = true)\n",
      " |-- CreationDate: date (nullable = true)\n",
      " |-- Time: string (nullable = true)\n",
      "\n",
      "+---+------+-----+--------------------+---------------+------+------------+------------+\n",
      "| Id|PostId|Score|                Text|UserDisplayName|UserId|CreationDate|        Time|\n",
      "+---+------+-----+--------------------+---------------+------+------------+------------+\n",
      "|  1|     5|    0|This is a matter ...|           null|    10|  2014-01-21| 20:34:28.74|\n",
      "|  4|    16|    4|This question app...|           null|    39|  2014-01-21| 20:52:14.49|\n",
      "|  5|    16|    8|Obviously, you sh...|           null|    41|  2014-01-21|20:55:44.723|\n",
      "|  6|     5|    3|Doesn't this depe...|           null|    43|  2014-01-21|20:57:44.653|\n",
      "|  7|    19|    4|I retracted my cl...|           null|    20|  2014-01-21|20:57:47.373|\n",
      "+---+------+-----+--------------------+---------------+------+------------+------------+\n",
      "only showing top 5 rows"
     ]
    }
   ],
   "source": [
    "from pyspark.sql.functions import split\n",
    "#rozbicie kolumny CreationDate na 2 kolumny z datą oraz czasem utworzenia\n",
    "dfComments3 = dfComments2.select(\"Date\", \"Id\", \"PostId\", \"Score\", \"Text\", \"UserDisplayName\", \"UserId\").withColumn('CreationDate',split(dfComments2[\"Date\"], ' ')[0])\\\n",
    "                                                                                                  .withColumn('Time',split(dfComments2[\"Date\"], ' ')[1])\\\n",
    "                                                                                                  .drop(dfComments2[\"Date\"])\n",
    "#zmiana typu danych kolumny Date na DateType\n",
    "dfComments4= dfComments3.withColumn(\"CreationDate\", dfComments3[\"CreationDate\"].cast(DateType()))\n",
    "dfComments4.printSchema()\n",
    "dfComments4.show(5)"
   ]
  },
  {
   "cell_type": "code",
   "execution_count": 47,
   "id": "b60b5914-9ffc-486f-8d56-f0b65bad0c2a",
   "metadata": {
    "execution": {
     "iopub.execute_input": "2023-01-21T11:22:18.821273Z",
     "iopub.status.busy": "2023-01-21T11:22:18.821040Z",
     "iopub.status.idle": "2023-01-21T11:22:19.582859Z",
     "shell.execute_reply": "2023-01-21T11:22:19.582198Z",
     "shell.execute_reply.started": "2023-01-21T11:22:18.821248Z"
    }
   },
   "outputs": [
    {
     "data": {
      "application/vnd.jupyter.widget-view+json": {
       "model_id": "bd8f50fa39834dc5aa6cb428aeb1df76",
       "version_major": 2,
       "version_minor": 0
      },
      "text/plain": [
       "VBox()"
      ]
     },
     "metadata": {},
     "output_type": "display_data"
    },
    {
     "data": {
      "application/vnd.jupyter.widget-view+json": {
       "model_id": "",
       "version_major": 2,
       "version_minor": 0
      },
      "text/plain": [
       "FloatProgress(value=0.0, bar_style='info', description='Progress:', layout=Layout(height='25px', width='50%'),…"
      ]
     },
     "metadata": {},
     "output_type": "display_data"
    },
    {
     "name": "stdout",
     "output_type": "stream",
     "text": [
      "+---------------------------------------------------------------------------------------------------------------------------------------------------------------------------------------------------------------------------------------------------------------------------------------------------------------------------------------------------------------------------------------------------------------------------------------------------------------------------------+\n",
      "|Text                                                                                                                                                                                                                                                                                                                                                                                                                                                                             |\n",
      "+---------------------------------------------------------------------------------------------------------------------------------------------------------------------------------------------------------------------------------------------------------------------------------------------------------------------------------------------------------------------------------------------------------------------------------------------------------------------------------+\n",
      "|This is a matter of taste I guess.                                                                                                                                                                                                                                                                                                                                                                                                                                               |\n",
      "|This question appears to be off-topic because it is about biology rather than beer.                                                                                                                                                                                                                                                                                                                                                                                              |\n",
      "|Obviously, you should pee into the empty beer bottles to check this theory.                                                                                                                                                                                                                                                                                                                                                                                                      |\n",
      "|Doesn't this depend on the type of beer as well?                                                                                                                                                                                                                                                                                                                                                                                                                                 |\n",
      "|I retracted my close vote after reading this answer.  Well done.                                                                                                                                                                                                                                                                                                                                                                                                                 |\n",
      "|A good answer here should include *how* various types of glasses work.                                                                                                                                                                                                                                                                                                                                                                                                           |\n",
      "|I feel like this is probably too broad, there are no less than a dozen different types of beer glasses and each of them is intended for a different type of beer. Questions should be more specific.                                                                                                                                                                                                                                                                             |\n",
      "|You could probably also ask \"what\", if there are any, the right kind of glass for each beer would be.                                                                                                                                                                                                                                                                                                                                                                            |\n",
      "|I don't think there has really been a scientific study on the beer glass shapes etc.  HOwever there have beeen some on wine http://www.aromadictionary.com/articles/wineglass_article.html  \\n\\nWhich basically said the shape of a glass can affect the aroma but many shapes can have the same impact.  The major factor in aroma enhancement was the ratio of glass cup diameter to the diamter of it's opening.\\n\\nCheck out the last study on the linked page for more info.|\n",
      "|You might also be interested in our [homebrewing site's response to a similar question](http://homebrew.stackexchange.com/questions/949/what-does-imperial-mean-with-regards-to-beer-style).                                                                                                                                                                                                                                                                                     |\n",
      "|@MonicaCellio Well yes, that's what I'm asking.                                                                                                                                                                                                                                                                                                                                                                                                                                  |\n",
      "|Yeah, I said 'equivalent quantities of alcohol', implying if you drink something with twice the ABV, you drink half as much.                                                                                                                                                                                                                                                                                                                                                     |\n",
      "|I can't believe I have the ignominious honor of asking the first dupe here.  In my (meager) defense, the dupe wasn't there when I stared the question.  <sigh>                                                                                                                                                                                                                                                                                                                   |\n",
      "|didn't see that before, my bad.                                                                                                                                                                                                                                                                                                                                                                                                                                                  |\n",
      "|I really hope you're not actually peeing beer.                                                                                                                                                                                                                                                                                                                                                                                                                                   |\n",
      "|I don't know enough to answer, but will add this observation:  The old legend that \"Cold, Warm, Cold Again\" skunks beer CAN'T be true:  Coors is \"Shipped Cold from the Rockies,\" or some such nonsense, but you can buy it warm in the store.  And in numerous observations, I've found that making it cold again makes it no more gross than it always is.                                                                                                                     |\n",
      "|@TomMedley I think what Monica is getting at is that it should be a specific question for a specific beer. This is too broad.                                                                                                                                                                                                                                                                                                                                                    |\n",
      "|@waxeagle, I'd put this squarely in the middle of the beer/biology interest diagram. Assuming we have sufficient expertise to answer it here, it's relevance to the beer-drinking audience makes me think it's on-topic.                                                                                                                                                                                                                                                         |\n",
      "|@waxeagle Asking for every beer would be a lot of questions. I'm asking for a rough guide, and the answer provided is an excellent one.                                                                                                                                                                                                                                                                                                                                          |\n",
      "|I think the question was why drinking beer *after* wine is a bad idea.                                                                                                                                                                                                                                                                                                                                                                                                           |\n",
      "+---------------------------------------------------------------------------------------------------------------------------------------------------------------------------------------------------------------------------------------------------------------------------------------------------------------------------------------------------------------------------------------------------------------------------------------------------------------------------------+\n",
      "only showing top 20 rows"
     ]
    }
   ],
   "source": [
    "dfComments4.select(\"Text\").show(truncate=False)"
   ]
  },
  {
   "cell_type": "code",
   "execution_count": 51,
   "id": "c27eda6e-8a12-45eb-ac75-27b8c8bfdd43",
   "metadata": {
    "execution": {
     "iopub.execute_input": "2023-01-21T11:24:56.789214Z",
     "iopub.status.busy": "2023-01-21T11:24:56.788999Z",
     "iopub.status.idle": "2023-01-21T11:24:57.045822Z",
     "shell.execute_reply": "2023-01-21T11:24:57.045202Z",
     "shell.execute_reply.started": "2023-01-21T11:24:56.789189Z"
    },
    "tags": []
   },
   "outputs": [
    {
     "data": {
      "application/vnd.jupyter.widget-view+json": {
       "model_id": "0420c85d352d4120b7bb38eb968dcd03",
       "version_major": 2,
       "version_minor": 0
      },
      "text/plain": [
       "VBox()"
      ]
     },
     "metadata": {},
     "output_type": "display_data"
    },
    {
     "data": {
      "application/vnd.jupyter.widget-view+json": {
       "model_id": "",
       "version_major": 2,
       "version_minor": 0
      },
      "text/plain": [
       "FloatProgress(value=0.0, bar_style='info', description='Progress:', layout=Layout(height='25px', width='50%'),…"
      ]
     },
     "metadata": {},
     "output_type": "display_data"
    }
   ],
   "source": [
    "#oczyszczenie kolumny Text ze znaków \\n\\r\n",
    "dfComments5=dfComments4.withColumn('Text',f.regexp_replace(f.regexp_replace('Text', '\\r', ''),'\\n', ''))"
   ]
  },
  {
   "cell_type": "code",
   "execution_count": 52,
   "id": "df19bb7a-9c89-4ae5-b7f8-d681cdab9a52",
   "metadata": {
    "execution": {
     "iopub.execute_input": "2023-01-21T11:25:08.325714Z",
     "iopub.status.busy": "2023-01-21T11:25:08.325478Z",
     "iopub.status.idle": "2023-01-21T11:25:17.623943Z",
     "shell.execute_reply": "2023-01-21T11:25:17.623377Z",
     "shell.execute_reply.started": "2023-01-21T11:25:08.325679Z"
    },
    "tags": []
   },
   "outputs": [
    {
     "data": {
      "application/vnd.jupyter.widget-view+json": {
       "model_id": "f873cccae19843df8ba6e882a5a25d29",
       "version_major": 2,
       "version_minor": 0
      },
      "text/plain": [
       "VBox()"
      ]
     },
     "metadata": {},
     "output_type": "display_data"
    },
    {
     "data": {
      "application/vnd.jupyter.widget-view+json": {
       "model_id": "",
       "version_major": 2,
       "version_minor": 0
      },
      "text/plain": [
       "FloatProgress(value=0.0, bar_style='info', description='Progress:', layout=Layout(height='25px', width='50%'),…"
      ]
     },
     "metadata": {},
     "output_type": "display_data"
    },
    {
     "name": "stdout",
     "output_type": "stream",
     "text": [
      "+-------------------------------------------------------------------------------------------------------------------------------------------------------------------------------------------------------------------------------------------------------------------------------------------------------------------------------------------------------------------------------------------------------------------------------------------------------------------------+\n",
      "|Text                                                                                                                                                                                                                                                                                                                                                                                                                                                                     |\n",
      "+-------------------------------------------------------------------------------------------------------------------------------------------------------------------------------------------------------------------------------------------------------------------------------------------------------------------------------------------------------------------------------------------------------------------------------------------------------------------------+\n",
      "|This is a matter of taste I guess.                                                                                                                                                                                                                                                                                                                                                                                                                                       |\n",
      "|This question appears to be off-topic because it is about biology rather than beer.                                                                                                                                                                                                                                                                                                                                                                                      |\n",
      "|Obviously, you should pee into the empty beer bottles to check this theory.                                                                                                                                                                                                                                                                                                                                                                                              |\n",
      "|Doesn't this depend on the type of beer as well?                                                                                                                                                                                                                                                                                                                                                                                                                         |\n",
      "|I retracted my close vote after reading this answer.  Well done.                                                                                                                                                                                                                                                                                                                                                                                                         |\n",
      "|A good answer here should include *how* various types of glasses work.                                                                                                                                                                                                                                                                                                                                                                                                   |\n",
      "|I feel like this is probably too broad, there are no less than a dozen different types of beer glasses and each of them is intended for a different type of beer. Questions should be more specific.                                                                                                                                                                                                                                                                     |\n",
      "|You could probably also ask \"what\", if there are any, the right kind of glass for each beer would be.                                                                                                                                                                                                                                                                                                                                                                    |\n",
      "|I don't think there has really been a scientific study on the beer glass shapes etc.  HOwever there have beeen some on wine http://www.aromadictionary.com/articles/wineglass_article.html  Which basically said the shape of a glass can affect the aroma but many shapes can have the same impact.  The major factor in aroma enhancement was the ratio of glass cup diameter to the diamter of it's opening.Check out the last study on the linked page for more info.|\n",
      "|You might also be interested in our [homebrewing site's response to a similar question](http://homebrew.stackexchange.com/questions/949/what-does-imperial-mean-with-regards-to-beer-style).                                                                                                                                                                                                                                                                             |\n",
      "|@MonicaCellio Well yes, that's what I'm asking.                                                                                                                                                                                                                                                                                                                                                                                                                          |\n",
      "|Yeah, I said 'equivalent quantities of alcohol', implying if you drink something with twice the ABV, you drink half as much.                                                                                                                                                                                                                                                                                                                                             |\n",
      "|I can't believe I have the ignominious honor of asking the first dupe here.  In my (meager) defense, the dupe wasn't there when I stared the question.  <sigh>                                                                                                                                                                                                                                                                                                           |\n",
      "|didn't see that before, my bad.                                                                                                                                                                                                                                                                                                                                                                                                                                          |\n",
      "|I really hope you're not actually peeing beer.                                                                                                                                                                                                                                                                                                                                                                                                                           |\n",
      "|I don't know enough to answer, but will add this observation:  The old legend that \"Cold, Warm, Cold Again\" skunks beer CAN'T be true:  Coors is \"Shipped Cold from the Rockies,\" or some such nonsense, but you can buy it warm in the store.  And in numerous observations, I've found that making it cold again makes it no more gross than it always is.                                                                                                             |\n",
      "|@TomMedley I think what Monica is getting at is that it should be a specific question for a specific beer. This is too broad.                                                                                                                                                                                                                                                                                                                                            |\n",
      "|@waxeagle, I'd put this squarely in the middle of the beer/biology interest diagram. Assuming we have sufficient expertise to answer it here, it's relevance to the beer-drinking audience makes me think it's on-topic.                                                                                                                                                                                                                                                 |\n",
      "|@waxeagle Asking for every beer would be a lot of questions. I'm asking for a rough guide, and the answer provided is an excellent one.                                                                                                                                                                                                                                                                                                                                  |\n",
      "|I think the question was why drinking beer *after* wine is a bad idea.                                                                                                                                                                                                                                                                                                                                                                                                   |\n",
      "+-------------------------------------------------------------------------------------------------------------------------------------------------------------------------------------------------------------------------------------------------------------------------------------------------------------------------------------------------------------------------------------------------------------------------------------------------------------------------+\n",
      "only showing top 20 rows"
     ]
    }
   ],
   "source": [
    "dfComments5.select(\"Text\").show(truncate=False)"
   ]
  },
  {
   "cell_type": "code",
   "execution_count": 53,
   "id": "43677ded-6f20-4598-a43c-ba1c6230f18b",
   "metadata": {
    "execution": {
     "iopub.execute_input": "2023-01-21T11:26:26.235387Z",
     "iopub.status.busy": "2023-01-21T11:26:26.235009Z",
     "iopub.status.idle": "2023-01-21T11:26:39.562676Z",
     "shell.execute_reply": "2023-01-21T11:26:39.561915Z",
     "shell.execute_reply.started": "2023-01-21T11:26:26.235342Z"
    }
   },
   "outputs": [
    {
     "data": {
      "application/vnd.jupyter.widget-view+json": {
       "model_id": "a2e891740a2d43cb8e05c7b565ca3f2b",
       "version_major": 2,
       "version_minor": 0
      },
      "text/plain": [
       "VBox()"
      ]
     },
     "metadata": {},
     "output_type": "display_data"
    },
    {
     "data": {
      "application/vnd.jupyter.widget-view+json": {
       "model_id": "",
       "version_major": 2,
       "version_minor": 0
      },
      "text/plain": [
       "FloatProgress(value=0.0, bar_style='info', description='Progress:', layout=Layout(height='25px', width='50%'),…"
      ]
     },
     "metadata": {},
     "output_type": "display_data"
    }
   ],
   "source": [
    "#zapisanie tabeli Comments w formacie parquet\n",
    "dfComments5.write.parquet('s3://stackexchangebeer1/parquet/comments.parquet')"
   ]
  },
  {
   "cell_type": "markdown",
   "id": "0fc0dae2-d96f-4c45-8765-20faf18746f5",
   "metadata": {},
   "source": [
    "__PLIK POSTS.XML__"
   ]
  },
  {
   "cell_type": "code",
   "execution_count": 62,
   "id": "2e3ef4a6-bbc8-4aac-87a9-6a4792cee58b",
   "metadata": {
    "execution": {
     "iopub.execute_input": "2023-01-21T13:00:55.651743Z",
     "iopub.status.busy": "2023-01-21T13:00:55.651497Z",
     "iopub.status.idle": "2023-01-21T13:00:55.711283Z",
     "shell.execute_reply": "2023-01-21T13:00:55.710700Z",
     "shell.execute_reply.started": "2023-01-21T13:00:55.651717Z"
    },
    "tags": []
   },
   "outputs": [
    {
     "data": {
      "application/vnd.jupyter.widget-view+json": {
       "model_id": "c23632f7e3804607978cde8f70797a3a",
       "version_major": 2,
       "version_minor": 0
      },
      "text/plain": [
       "VBox()"
      ]
     },
     "metadata": {},
     "output_type": "display_data"
    },
    {
     "data": {
      "application/vnd.jupyter.widget-view+json": {
       "model_id": "",
       "version_major": 2,
       "version_minor": 0
      },
      "text/plain": [
       "FloatProgress(value=0.0, bar_style='info', description='Progress:', layout=Layout(height='25px', width='50%'),…"
      ]
     },
     "metadata": {},
     "output_type": "display_data"
    }
   ],
   "source": [
    "#ustawienie odpowiednich typów danych dla pliku Posts.xml\n",
    "from pyspark.sql.types import *\n",
    "\n",
    "schemaPosts = StructType([\n",
    "    StructField(\"_AcceptedAnswerId\", IntegerType(), True),\n",
    "    StructField(\"_AnswerCount\", IntegerType(), True),\n",
    "    StructField(\"_Body\", StringType(), True),\n",
    "    StructField(\"_ClosedDate\", TimestampType(), True),\n",
    "    StructField(\"_ComentCount\", IntegerType(), True),\n",
    "    StructField(\"_CommunityOwnedDate\", TimestampType(), True),\n",
    "    StructField(\"_ContentLicense\", StringType(), True),\n",
    "    StructField(\"_CreationDate\", TimestampType(), True),\n",
    "    StructField(\"_FavoriteCount\", IntegerType(), True),\n",
    "    StructField(\"_Id\", IntegerType(), True),\n",
    "    StructField(\"_LastActivityDate\", TimestampType(), True),\n",
    "    StructField(\"_LastEditDate\", TimestampType(), True),\n",
    "    StructField(\"_LastEditorDisplayName\", StringType(), True),\n",
    "    StructField(\"_LastEditorUserId\", IntegerType(), True),\n",
    "    StructField(\"_OwnerDisplayName\", StringType(), True),\n",
    "    StructField(\"_OwnerUserId\", IntegerType(), True),\n",
    "    StructField(\"_ParentId\", IntegerType(), True),\n",
    "    StructField(\"_PostTypeId\", IntegerType(), True),\n",
    "    StructField(\"_ScoreId\", IntegerType(), True),\n",
    "    StructField(\"_Tags\", StringType(), True),\n",
    "    StructField(\"_Title\", StringType(), True),\n",
    "    StructField(\"_ViewCount\", IntegerType(), True)\n",
    "])"
   ]
  },
  {
   "cell_type": "code",
   "execution_count": 63,
   "id": "e8237683-0ae7-4f1b-94b7-98ff5476452c",
   "metadata": {
    "execution": {
     "iopub.execute_input": "2023-01-21T13:00:58.229903Z",
     "iopub.status.busy": "2023-01-21T13:00:58.229578Z",
     "iopub.status.idle": "2023-01-21T13:01:07.547838Z",
     "shell.execute_reply": "2023-01-21T13:01:07.547137Z",
     "shell.execute_reply.started": "2023-01-21T13:00:58.229870Z"
    },
    "tags": []
   },
   "outputs": [
    {
     "data": {
      "application/vnd.jupyter.widget-view+json": {
       "model_id": "64ed1d73fadd46e4b4db20a994e99ac9",
       "version_major": 2,
       "version_minor": 0
      },
      "text/plain": [
       "VBox()"
      ]
     },
     "metadata": {},
     "output_type": "display_data"
    },
    {
     "data": {
      "application/vnd.jupyter.widget-view+json": {
       "model_id": "",
       "version_major": 2,
       "version_minor": 0
      },
      "text/plain": [
       "FloatProgress(value=0.0, bar_style='info', description='Progress:', layout=Layout(height='25px', width='50%'),…"
      ]
     },
     "metadata": {},
     "output_type": "display_data"
    },
    {
     "name": "stdout",
     "output_type": "stream",
     "text": [
      "root\n",
      " |-- _AcceptedAnswerId: integer (nullable = true)\n",
      " |-- _AnswerCount: integer (nullable = true)\n",
      " |-- _Body: string (nullable = true)\n",
      " |-- _ClosedDate: timestamp (nullable = true)\n",
      " |-- _ComentCount: integer (nullable = true)\n",
      " |-- _CommunityOwnedDate: timestamp (nullable = true)\n",
      " |-- _ContentLicense: string (nullable = true)\n",
      " |-- _CreationDate: timestamp (nullable = true)\n",
      " |-- _FavoriteCount: integer (nullable = true)\n",
      " |-- _Id: integer (nullable = true)\n",
      " |-- _LastActivityDate: timestamp (nullable = true)\n",
      " |-- _LastEditDate: timestamp (nullable = true)\n",
      " |-- _LastEditorDisplayName: string (nullable = true)\n",
      " |-- _LastEditorUserId: integer (nullable = true)\n",
      " |-- _OwnerDisplayName: string (nullable = true)\n",
      " |-- _OwnerUserId: integer (nullable = true)\n",
      " |-- _ParentId: integer (nullable = true)\n",
      " |-- _PostTypeId: integer (nullable = true)\n",
      " |-- _ScoreId: integer (nullable = true)\n",
      " |-- _Tags: string (nullable = true)\n",
      " |-- _Title: string (nullable = true)\n",
      " |-- _ViewCount: integer (nullable = true)\n",
      "\n",
      "+-----------------+------------+--------------------+-----------+------------+-------------------+---------------+--------------------+--------------+---+--------------------+--------------------+----------------------+-----------------+-----------------+------------+---------+-----------+--------+--------------------+--------------------+----------+\n",
      "|_AcceptedAnswerId|_AnswerCount|               _Body|_ClosedDate|_ComentCount|_CommunityOwnedDate|_ContentLicense|       _CreationDate|_FavoriteCount|_Id|   _LastActivityDate|       _LastEditDate|_LastEditorDisplayName|_LastEditorUserId|_OwnerDisplayName|_OwnerUserId|_ParentId|_PostTypeId|_ScoreId|               _Tags|              _Title|_ViewCount|\n",
      "+-----------------+------------+--------------------+-----------+------------+-------------------+---------------+--------------------+--------------+---+--------------------+--------------------+----------------------+-----------------+-----------------+------------+---------+-----------+--------+--------------------+--------------------+----------+\n",
      "|                4|           1|<p>I was offered ...|       null|        null|               null|   CC BY-SA 3.0|2014-01-21 20:26:...|          null|  1|2014-01-21 22:04:...|2014-01-21 22:04:...|                  null|                8|             null|           7|     null|          1|    null|              <hops>|What is a citra h...|      2441|\n",
      "|              175|           4|<p>As far as we k...|       null|        null|               null|   CC BY-SA 3.0|2014-01-21 20:27:...|          null|  2|2014-01-23 01:55:...|                null|                  null|             null|             null|           7|     null|          1|    null|           <history>|When was the firs...|      3164|\n",
      "|               13|           3|<p>How is low/no ...|       null|        null|               null|   CC BY-SA 3.0|2014-01-21 20:30:...|          null|  3|2015-01-29 14:50:...|                null|                  null|             null|             null|           7|     null|          1|    null|           <brewing>|How is reduced al...|       531|\n",
      "|             null|        null|<p>Citra is a reg...|       null|        null|               null|   CC BY-SA 3.0|2014-01-21 20:31:...|          null|  4|2014-01-21 21:36:...|2014-01-21 21:36:...|                  null|               25|             null|          12|        1|          2|    null|                null|                null|      null|\n",
      "|               19|           4|<p>In general, wh...|       null|        null|               null|   CC BY-SA 3.0|2014-01-21 20:31:...|          null|  5|2017-06-07 11:10:...|2014-01-21 21:21:...|                  null|               43|             null|           7|     null|          1|    null|<serving><tempera...|What temperature ...|      4036|\n",
      "+-----------------+------------+--------------------+-----------+------------+-------------------+---------------+--------------------+--------------+---+--------------------+--------------------+----------------------+-----------------+-----------------+------------+---------+-----------+--------+--------------------+--------------------+----------+\n",
      "only showing top 5 rows"
     ]
    }
   ],
   "source": [
    "#wczytanie pliku Posts.xml z pomocą modułu spark-xml do DataFrame'u\n",
    "dfPosts = spark.read.format('xml').option('rootTag', 'posts').option('rowTag', 'row').load('s3://stackexchangebeer1/raw_data/Posts.xml',schema=schemaPosts)\n",
    "dfPosts.printSchema()\n",
    "dfPosts.show(5)"
   ]
  },
  {
   "cell_type": "code",
   "execution_count": 95,
   "id": "b8906c29-5452-4fe3-b3a9-a659d2681534",
   "metadata": {
    "execution": {
     "iopub.execute_input": "2023-01-21T13:36:47.509266Z",
     "iopub.status.busy": "2023-01-21T13:36:47.508983Z",
     "iopub.status.idle": "2023-01-21T13:36:47.768445Z",
     "shell.execute_reply": "2023-01-21T13:36:47.767628Z",
     "shell.execute_reply.started": "2023-01-21T13:36:47.509238Z"
    },
    "tags": []
   },
   "outputs": [
    {
     "data": {
      "application/vnd.jupyter.widget-view+json": {
       "model_id": "98eccef2ff7347978a793b7a663496b7",
       "version_major": 2,
       "version_minor": 0
      },
      "text/plain": [
       "VBox()"
      ]
     },
     "metadata": {},
     "output_type": "display_data"
    },
    {
     "data": {
      "application/vnd.jupyter.widget-view+json": {
       "model_id": "",
       "version_major": 2,
       "version_minor": 0
      },
      "text/plain": [
       "FloatProgress(value=0.0, bar_style='info', description='Progress:', layout=Layout(height='25px', width='50%'),…"
      ]
     },
     "metadata": {},
     "output_type": "display_data"
    },
    {
     "name": "stdout",
     "output_type": "stream",
     "text": [
      "root\n",
      " |-- AcceptedAnswerId: integer (nullable = true)\n",
      " |-- AnswerCount: integer (nullable = true)\n",
      " |-- Body: string (nullable = true)\n",
      " |-- CloseDate: timestamp (nullable = true)\n",
      " |-- ComentCount: integer (nullable = true)\n",
      " |-- CommunityOwnedDate: timestamp (nullable = true)\n",
      " |-- ContentLicense: string (nullable = true)\n",
      " |-- Date: timestamp (nullable = true)\n",
      " |-- FavoriteCount: integer (nullable = true)\n",
      " |-- Id: integer (nullable = true)\n",
      " |-- LastActivityDate: timestamp (nullable = true)\n",
      " |-- LastEditDate: timestamp (nullable = true)\n",
      " |-- LastEditorDisplayName: string (nullable = true)\n",
      " |-- LastEditorUserId: integer (nullable = true)\n",
      " |-- OwnerDisplayName: string (nullable = true)\n",
      " |-- OwnerUserId: integer (nullable = true)\n",
      " |-- ParentId: integer (nullable = true)\n",
      " |-- PostTypeId: integer (nullable = true)\n",
      " |-- ScoreId: integer (nullable = true)\n",
      " |-- Tags: string (nullable = true)\n",
      " |-- Title: string (nullable = true)\n",
      " |-- ViewCount: integer (nullable = true)"
     ]
    }
   ],
   "source": [
    "#nadanie odpowednich nazw kolumn\n",
    "dfPosts1 = dfPosts.withColumnRenamed(\"_AcceptedAnswerId\", \"AcceptedAnswerId\")\\\n",
    "                    .withColumnRenamed(\"_AnswerCount\", \"AnswerCount\")\\\n",
    "                    .withColumnRenamed(\"_Body\", \"Body\")\\\n",
    "                    .withColumnRenamed(\"_ClosedDate\", \"CloseDate\")\\\n",
    "                    .withColumnRenamed(\"_ComentCount\", \"ComentCount\")\\\n",
    "                    .withColumnRenamed(\"_CommunityOwnedDate\", \"CommunityOwnedDate\")\\\n",
    "                    .withColumnRenamed(\"_ContentLicense\", \"ContentLicense\")\\\n",
    "                    .withColumnRenamed(\"_CreationDate\", \"Date\")\\\n",
    "                    .withColumnRenamed(\"_FavoriteCount\", \"FavoriteCount\")\\\n",
    "                    .withColumnRenamed(\"_Id\", \"Id\")\\\n",
    "                    .withColumnRenamed(\"_LastActivityDate\", \"LastActivityDate\")\\\n",
    "                    .withColumnRenamed(\"_LastEditDate\", \"LastEditDate\")\\\n",
    "                    .withColumnRenamed(\"_LastEditorDisplayName\", \"LastEditorDisplayName\")\\\n",
    "                    .withColumnRenamed(\"_LastEditorUserId\", \"LastEditorUserId\")\\\n",
    "                    .withColumnRenamed(\"_OwnerDisplayName\", \"OwnerDisplayName\")\\\n",
    "                    .withColumnRenamed(\"_OwnerUserId\", \"OwnerUserId\")\\\n",
    "                    .withColumnRenamed(\"_ParentId\", \"ParentId\")\\\n",
    "                    .withColumnRenamed(\"_PostTypeId\", \"PostTypeId\")\\\n",
    "                    .withColumnRenamed(\"_ScoreId\", \"ScoreId\")\\\n",
    "                    .withColumnRenamed(\"_AcceptedAnswerId\", \"AcceptedAnswerId\")\\\n",
    "                    .withColumnRenamed(\"_Tags\", \"Tags\")\\\n",
    "                    .withColumnRenamed(\"_Title\", \"Title\")\\\n",
    "                    .withColumnRenamed(\"_ViewCount\", \"ViewCount\")\n",
    "\n",
    "dfPosts1.printSchema()"
   ]
  },
  {
   "cell_type": "code",
   "execution_count": 96,
   "id": "a46902b1-d276-477e-bfc9-c12c102623ca",
   "metadata": {
    "execution": {
     "iopub.execute_input": "2023-01-21T13:36:50.574138Z",
     "iopub.status.busy": "2023-01-21T13:36:50.573487Z",
     "iopub.status.idle": "2023-01-21T13:36:50.870715Z",
     "shell.execute_reply": "2023-01-21T13:36:50.869975Z",
     "shell.execute_reply.started": "2023-01-21T13:36:50.574091Z"
    },
    "tags": []
   },
   "outputs": [
    {
     "data": {
      "application/vnd.jupyter.widget-view+json": {
       "model_id": "3459cc591207483a9eb4e5045955eec1",
       "version_major": 2,
       "version_minor": 0
      },
      "text/plain": [
       "VBox()"
      ]
     },
     "metadata": {},
     "output_type": "display_data"
    },
    {
     "data": {
      "application/vnd.jupyter.widget-view+json": {
       "model_id": "",
       "version_major": 2,
       "version_minor": 0
      },
      "text/plain": [
       "FloatProgress(value=0.0, bar_style='info', description='Progress:', layout=Layout(height='25px', width='50%'),…"
      ]
     },
     "metadata": {},
     "output_type": "display_data"
    },
    {
     "name": "stdout",
     "output_type": "stream",
     "text": [
      "root\n",
      " |-- AcceptedAnswerId: integer (nullable = true)\n",
      " |-- AnswerCount: integer (nullable = true)\n",
      " |-- Body: string (nullable = true)\n",
      " |-- CloseDate: timestamp (nullable = true)\n",
      " |-- ComentCount: integer (nullable = true)\n",
      " |-- CommunityOwnedDate: timestamp (nullable = true)\n",
      " |-- ContentLicense: string (nullable = true)\n",
      " |-- FavoriteCount: integer (nullable = true)\n",
      " |-- Id: integer (nullable = true)\n",
      " |-- LastActivityDate: timestamp (nullable = true)\n",
      " |-- LastEditDate: timestamp (nullable = true)\n",
      " |-- LastEditorDisplayName: string (nullable = true)\n",
      " |-- LastEditorUserId: integer (nullable = true)\n",
      " |-- OwnerDisplayName: string (nullable = true)\n",
      " |-- OwnerUserId: integer (nullable = true)\n",
      " |-- ParentId: integer (nullable = true)\n",
      " |-- PostTypeId: integer (nullable = true)\n",
      " |-- ScoreId: integer (nullable = true)\n",
      " |-- Tags: string (nullable = true)\n",
      " |-- Title: string (nullable = true)\n",
      " |-- ViewCount: integer (nullable = true)\n",
      " |-- CreationDate: date (nullable = true)\n",
      " |-- Time: string (nullable = true)"
     ]
    }
   ],
   "source": [
    "#rozbicie kolumny CreationDate na 2 kolumny z datą oraz czasem utworzenia\n",
    "dfPosts2 = dfPosts1.withColumn('CreationDate',split(dfPosts1[\"Date\"], ' ')[0])\\\n",
    "                    .withColumn('Time',split(dfPosts1[\"Date\"], ' ')[1])\\\n",
    "                    .drop(dfPosts1[\"Date\"])\n",
    "\n",
    "#zmiana typu danych kolumny Date na DateType\n",
    "dfPosts3= dfPosts2.withColumn(\"CreationDate\", dfPosts2[\"CreationDate\"].cast(DateType()))\n",
    "\n",
    "dfPosts3.printSchema()"
   ]
  },
  {
   "cell_type": "code",
   "execution_count": 97,
   "id": "37a82c23-f3f3-408e-b6af-adb18b8df869",
   "metadata": {
    "execution": {
     "iopub.execute_input": "2023-01-21T13:36:55.075054Z",
     "iopub.status.busy": "2023-01-21T13:36:55.074831Z",
     "iopub.status.idle": "2023-01-21T13:37:04.367484Z",
     "shell.execute_reply": "2023-01-21T13:37:04.366843Z",
     "shell.execute_reply.started": "2023-01-21T13:36:55.075030Z"
    },
    "tags": []
   },
   "outputs": [
    {
     "data": {
      "application/vnd.jupyter.widget-view+json": {
       "model_id": "fac6ab31d7b04762b63502b0657e4a77",
       "version_major": 2,
       "version_minor": 0
      },
      "text/plain": [
       "VBox()"
      ]
     },
     "metadata": {},
     "output_type": "display_data"
    },
    {
     "data": {
      "application/vnd.jupyter.widget-view+json": {
       "model_id": "",
       "version_major": 2,
       "version_minor": 0
      },
      "text/plain": [
       "FloatProgress(value=0.0, bar_style='info', description='Progress:', layout=Layout(height='25px', width='50%'),…"
      ]
     },
     "metadata": {},
     "output_type": "display_data"
    },
    {
     "name": "stdout",
     "output_type": "stream",
     "text": [
      "+----------------------------------------------------------------------------------------------------------------------------------------------------------------------------------------------------------------------------------------------------------------------------------------------------------------------------------------------------------------------------------------------------------------------------------------------------------------------------------------------------------------------------------------------------------------------------------------------------------------------------------------------------------------------------------------------------------------------------------------------------------------------------------------------------------------------------------------------------------------------------------------------------------------------------------------------------------------------------------------------------------------------------------------------------------------------------------------------------------------------------------------------------------------------------------------------------------------------------------------------------------------------------------------------------------------------------------------------------------------------------------+\n",
      "|Body                                                                                                                                                                                                                                                                                                                                                                                                                                                                                                                                                                                                                                                                                                                                                                                                                                                                                                                                                                                                                                                                                                                                                                                                                                                                                                                                                                              |\n",
      "+----------------------------------------------------------------------------------------------------------------------------------------------------------------------------------------------------------------------------------------------------------------------------------------------------------------------------------------------------------------------------------------------------------------------------------------------------------------------------------------------------------------------------------------------------------------------------------------------------------------------------------------------------------------------------------------------------------------------------------------------------------------------------------------------------------------------------------------------------------------------------------------------------------------------------------------------------------------------------------------------------------------------------------------------------------------------------------------------------------------------------------------------------------------------------------------------------------------------------------------------------------------------------------------------------------------------------------------------------------------------------------+\n",
      "|<p>I was offered a beer the other day that was reportedly made with citra hops. What are citra hops? Why should I care that my beer is made with them?</p>\\n                                                                                                                                                                                                                                                                                                                                                                                                                                                                                                                                                                                                                                                                                                                                                                                                                                                                                                                                                                                                                                                                                                                                                                                                                      |\n",
      "|<p>As far as we know, when did humans first brew beer, and where? Around when would you have been able to get your hands on something resembling a modern lager?</p>\\n                                                                                                                                                                                                                                                                                                                                                                                                                                                                                                                                                                                                                                                                                                                                                                                                                                                                                                                                                                                                                                                                                                                                                                                                            |\n",
      "|<p>How is low/no alcohol beer made? I'm assuming that the beer is made normally and the alcohol is then removed, is it any more than just boiling it off? I've noticed that no/low alcohol beers' taste improved hugely a few years ago, is this due to a new technique?</p>\\n                                                                                                                                                                                                                                                                                                                                                                                                                                                                                                                                                                                                                                                                                                                                                                                                                                                                                                                                                                                                                                                                                                    |\n",
      "|<p>Citra is a registered trademark since 2007. Citra Brand hops have fairly high alpha acids and total oil contents with a low percentage of cohumulone content and  imparts interesting citrus and tropical fruit characters to beer.</p>\\n\\n<p>For more information, you can read the <a href=\"http://en.wikipedia.org/wiki/List_of_hop_varieties#Citra_brand_HBC_394_cv\">Wikipedia article</a> on the Citra brand.</p>\\n                                                                                                                                                                                                                                                                                                                                                                                                                                                                                                                                                                                                                                                                                                                                                                                                                                                                                                                                                       |\n",
      "|<p>In general, what's the best way to work out the temperature at which to serve a particular beer? Room temperature? Cold? Supercold? <em>Warm?</em></p>\\n                                                                                                                                                                                                                                                                                                                                                                                                                                                                                                                                                                                                                                                                                                                                                                                                                                                                                                                                                                                                                                                                                                                                                                                                                       |\n",
      "|<p>Currently I am storing my bottles in the crates at a (about) 20 degree angle (bottles are upwards!).</p>\\n\\n<p>Does the way of storing the bottles affect something (and how)?</p>\\n                                                                                                                                                                                                                                                                                                                                                                                                                                                                                                                                                                                                                                                                                                                                                                                                                                                                                                                                                                                                                                                                                                                                                                                           |\n",
      "|<p>Assuming we're comparing equivalent amounts of alcohol, do certain beers get you inebriated more quickly or slowly? Does the amount of fizz make a difference?</p>\\n                                                                                                                                                                                                                                                                                                                                                                                                                                                                                                                                                                                                                                                                                                                                                                                                                                                                                                                                                                                                                                                                                                                                                                                                           |\n",
      "|<p>Apart from coming out of different taps, some ales seem very similar to lagers (although there are clearly a much greater variety of ales). Is there a difference in the way they are made?</p>\\n                                                                                                                                                                                                                                                                                                                                                                                                                                                                                                                                                                                                                                                                                                                                                                                                                                                                                                                                                                                                                                                                                                                                                                              |\n",
      "|<p>It's pretty cold at the moment. Mulled wine being more of a Christmas drink, mulled beer is getting popular. What beers, and what spices should I use to make it?</p>\\n                                                                                                                                                                                                                                                                                                                                                                                                                                                                                                                                                                                                                                                                                                                                                                                                                                                                                                                                                                                                                                                                                                                                                                                                        |\n",
      "|<p>I usually drink <em>strong</em> Belgian Ales, particularly Triples, Quads and Trappists, so I'm no stranger to strong beer.  But I've noticed that I get far, far worse hangovers when drinking IPAs.  </p>\\n\\n<p>Is there anything about IPAs that would make this possible?  The lower quality places like ask.com or Yahoo answers usually say no, that only ABV produces hangovers, though one source did seem to imply that IPAs have special ingredients that make this a possibility. </p>\\n\\n<p>So I want to ask the experts here: do IPAs have ingredients that other strong beers lack, that could exacerbate hangovers? </p>\\n                                                                                                                                                                                                                                                                                                                                                                                                                                                                                                                                                                                                                                                                                                                                      |\n",
      "|<p>Given craft beers, which are typically brewed without many preservatives, what is the average duration a beer must sit inside a barrel before it is ready for serving?</p>\\n\\n<p>If different types of beer require different brewing times, can you provide a list?</p>\\n                                                                                                                                                                                                                                                                                                                                                                                                                                                                                                                                                                                                                                                                                                                                                                                                                                                                                                                                                                                                                                                                                                     |\n",
      "|<p>There are a couple of ways to do that.</p>\\n\\n<p>The two main \"approaches\" are to extract the alcohol afterwards or just don't allow the generation of it.</p>\\n\\n<p>The extracting part can be achieved by filtering and reverse osmosis. Alcohol and water are getting sucked out and the \"beer mass\" gets re-watered. These steps may affect the taste quit a bit. A few brewers (especially in Germany) have developed a \"top secret\" technique to brew a alcohol free beer which tastes the same as \"normal\" beer - but most of these are \"top secret\".</p>\\n\\n<p>Latest science experiements revealed a new way of brewing alcohol free beer, by just stopping the fermentation process. This can be done by lowering the temperature of the liquid containers.</p>\\n\\n<p>Beers brewed with this technique tend to taste more sweet.</p>\\n\\n<p>Both method have their up and downs so a couple brewers combined both: Less fermentation than usual and extracting the extra bits of alcohol.</p>\\n                                                                                                                                                                                                                                                                                                                                                                       |\n",
      "|<p>Beer varies widely, and one of the most noticeable differences when drinking is the carbonation level.  What factors in the composition, brewing process, storage, etc affect the final level of carbonation? </p>\\n                                                                                                                                                                                                                                                                                                                                                                                                                                                                                                                                                                                                                                                                                                                                                                                                                                                                                                                                                                                                                                                                                                                                                           |\n",
      "|<p>Bottled beer is significantly different than the same label beer available on tap.</p>\\n\\n<p>How does bottled beer differ from draught beer? What is done to the bottled beer in order to prolong its shelf life in the bottle?</p>\\n\\n<p>And finally, why does draught beer taste so much better than bottled beer?</p>\\n                                                                                                                                                                                                                                                                                                                                                                                                                                                                                                                                                                                                                                                                                                                                                                                                                                                                                                                                                                                                                                                     |\n",
      "|<p>When going out for some beers, after a while, I seem to pee more than the amount of beer I drink. Is that true, and why is that?</p>\\n\\n<p><img src=\"https://i.stack.imgur.com/rL13S.jpg\" alt=\"enter image description here\"></p>\\n                                                                                                                                                                                                                                                                                                                                                                                                                                                                                                                                                                                                                                                                                                                                                                                                                                                                                                                                                                                                                                                                                                                                            |\n",
      "|<p>Ales and lagers are brewed with different types of yeast.  Ale yeast ferments at the top of the brewing vat at a comfortable room temperature while lager yeast ferments at the bottom of the vat at a lower temperature.  The \"low and slow\" lager fermentation brings out more complex flavors.</p>\\n                                                                                                                                                                                                                                                                                                                                                                                                                                                                                                                                                                                                                                                                                                                                                                                                                                                                                                                                                                                                                                                                        |\n",
      "|<p>Ale yeast strains are best used at temperatures ranging from 10 to 25°C, though some strains will not actively ferment below 12°C (33). Ale yeasts are generally regarded as top-fermenting yeasts since they rise to the surface during fermentation, creating a very thick, rich yeast head. That is why the term \"top-fermenting\" is associated with ale yeasts. Fermentation by ale yeasts at these relatively warmer temperatures produces a beer high in esters, which many regard as a distinctive character of ale beers. </p>\\n\\n<p>Top-fermenting yeasts are used for brewing ales, porters, stouts, Altbier, Kölsch, and wheat beers. *</p>\\n\\n<p>Lager yeast strains are best used at temperatures ranging from 7 to 15°C. At these temperatures, lager yeasts grow less rapidly than ale yeasts, and with less surface foam they tend to settle out to the bottom of the fermenter as fermentation nears completion. This is why they are often referred to as \"bottom\" yeasts. The final flavour of the beer will depend a great deal on the strain of lager yeast and the temperatures at which it was fermented. </p>\\n\\n<p>Some of the lager styles made from bottom-fermenting yeasts are Pilsners, Dortmunders, Märzen, Bocks, and American malt liquors.* </p>\\n\\n<p>(All information from <a href=\"https://www.beeradvocate.com/\">BeerAdvocate</a>.)</p>\\n|\n",
      "|<p>It depends on the beer really.  A good rule of thumb is darker beer should be served at a warmer temperature than lighter beer.</p>\\n\\n<p>For instance if you refrigerate all of your beers and then pull them out of the fridge and drink them instantly you will miss A LOT of the flavor complexity of pretty much every stout and porter you put to your lips.</p>\\n\\n<p>But, if you let the dark stuff warm up for just 15 minutes before you drink it (let it sit at room temp) a bunch of new flavors will appear that you never would have noticed otherwise.</p>\\n\\n<p>This doesn't work so well, in my experience, for lighter beers like pilsner, lager, or hefe-weisen.  They really are meant to be drank cold and letting them get warm changes their flavor profile for the worse.</p>\\n\\n<p>Obviously there will always be personal preferences but, at a minimum I encourage you to try letting your darker beers warm up just a bit and see what a positive difference it makes.</p>\\n\\n<p>Here is a temperature guide from this article: <a href=\"http://www.ratebeer.com/Story.asp?StoryID=479\" rel=\"noreferrer\">Serving Temperature Guide</a>. It categorizes different beers based on temps to serve at.  These are basic rules of thumb and again you'll want to experiment and discover what temps you like your beers at the best.</p>\\n              |\n",
      "|<p>It all depends on the beer really. Lagers are typically brewed longer than ales. Of the few brews I've made so far, I usually let them ferment for 2 weeks in the fermenter, then I bottle them and wait another 2 weeks.</p>\\n                                                                                                                                                                                                                                                                                                                                                                                                                                                                                                                                                                                                                                                                                                                                                                                                                                                                                                                                                                                                                                                                                                                                                |\n",
      "|<p>I frequently hear stories about people drinking their favorite pilsener, and not liking the other brand because \"they'll get a hangover when drinking that brand\".</p>\\n\\n<p>Is there a truth in this?</p>\\n                                                                                                                                                                                                                                                                                                                                                                                                                                                                                                                                                                                                                                                                                                                                                                                                                                                                                                                                                                                                                                                                                                                                                                   |\n",
      "+----------------------------------------------------------------------------------------------------------------------------------------------------------------------------------------------------------------------------------------------------------------------------------------------------------------------------------------------------------------------------------------------------------------------------------------------------------------------------------------------------------------------------------------------------------------------------------------------------------------------------------------------------------------------------------------------------------------------------------------------------------------------------------------------------------------------------------------------------------------------------------------------------------------------------------------------------------------------------------------------------------------------------------------------------------------------------------------------------------------------------------------------------------------------------------------------------------------------------------------------------------------------------------------------------------------------------------------------------------------------------------+\n",
      "only showing top 20 rows"
     ]
    }
   ],
   "source": [
    "dfPosts3.select(\"Body\").show(20,truncate=False)"
   ]
  },
  {
   "cell_type": "code",
   "execution_count": 98,
   "id": "dce8de76-a98e-4bd1-9f6b-59f9875740e6",
   "metadata": {
    "execution": {
     "iopub.execute_input": "2023-01-21T13:37:09.010248Z",
     "iopub.status.busy": "2023-01-21T13:37:09.010011Z",
     "iopub.status.idle": "2023-01-21T13:37:09.774700Z",
     "shell.execute_reply": "2023-01-21T13:37:09.773862Z",
     "shell.execute_reply.started": "2023-01-21T13:37:09.010212Z"
    },
    "tags": []
   },
   "outputs": [
    {
     "data": {
      "application/vnd.jupyter.widget-view+json": {
       "model_id": "3cedf8eb55014ded84c91300cb613967",
       "version_major": 2,
       "version_minor": 0
      },
      "text/plain": [
       "VBox()"
      ]
     },
     "metadata": {},
     "output_type": "display_data"
    },
    {
     "data": {
      "application/vnd.jupyter.widget-view+json": {
       "model_id": "",
       "version_major": 2,
       "version_minor": 0
      },
      "text/plain": [
       "FloatProgress(value=0.0, bar_style='info', description='Progress:', layout=Layout(height='25px', width='50%'),…"
      ]
     },
     "metadata": {},
     "output_type": "display_data"
    },
    {
     "name": "stdout",
     "output_type": "stream",
     "text": [
      "+----------------------------------------------------------------------------------------------------------------------------------------------------------------------------------------------------------------------------------------------------------------------------------------------------------------------------------------------------------------------------------------------------------------------------------------------------------------------------------------------------------------------------------------------------------------------------------------------------+\n",
      "|Body                                                                                                                                                                                                                                                                                                                                                                                                                                                                                                                                                                                                |\n",
      "+----------------------------------------------------------------------------------------------------------------------------------------------------------------------------------------------------------------------------------------------------------------------------------------------------------------------------------------------------------------------------------------------------------------------------------------------------------------------------------------------------------------------------------------------------------------------------------------------------+\n",
      "|I was offered a beer the other day that was reportedly made with citra hops. What are citra hops? Why should I care that my beer is made with them?                                                                                                                                                                                                                                                                                                                                                                                                                                                 |\n",
      "|As far as we know, when did humans first brew beer, and where? Around when would you have been able to get your hands on something resembling a modern lager?                                                                                                                                                                                                                                                                                                                                                                                                                                       |\n",
      "|How is low/no alcohol beer made? I'm assuming that the beer is made normally and the alcohol is then removed, is it any more than just boiling it off? I've noticed that no/low alcohol beers' taste improved hugely a few years ago, is this due to a new technique?                                                                                                                                                                                                                                                                                                                               |\n",
      "|Citra is a registered trademark since 2007. Citra Brand hops have fairly high alpha acids and total oil contents with a low percentage of cohumulone content and  imparts interesting citrus and tropical fruit characters to beer.For more information, you can read the <a href=\"http://en.wikipedia.org/wiki/List_of_hop_varieties#Citra_brand_HBC_394_cv\">Wikipedia article on the Citra brand.                                                                                                                                                                                                 |\n",
      "|In general, what's the best way to work out the temperature at which to serve a particular beer? Room temperature? Cold? Supercold? Warm?                                                                                                                                                                                                                                                                                                                                                                                                                                                           |\n",
      "|Currently I am storing my bottles in the crates at a (about) 20 degree angle (bottles are upwards!).Does the way of storing the bottles affect something (and how)?                                                                                                                                                                                                                                                                                                                                                                                                                                 |\n",
      "|Assuming we're comparing equivalent amounts of alcohol, do certain beers get you inebriated more quickly or slowly? Does the amount of fizz make a difference?                                                                                                                                                                                                                                                                                                                                                                                                                                      |\n",
      "|Apart from coming out of different taps, some ales seem very similar to lagers (although there are clearly a much greater variety of ales). Is there a difference in the way they are made?                                                                                                                                                                                                                                                                                                                                                                                                         |\n",
      "|It's pretty cold at the moment. Mulled wine being more of a Christmas drink, mulled beer is getting popular. What beers, and what spices should I use to make it?                                                                                                                                                                                                                                                                                                                                                                                                                                   |\n",
      "|I usually drink strong Belgian Ales, particularly Triples, Quads and Trappists, so I'm no stranger to strong beer.  But I've noticed that I get far, far worse hangovers when drinking IPAs.  Is there anything about IPAs that would make this possible?  The lower quality places like ask.com or Yahoo answers usually say no, that only ABV produces hangovers, though one source did seem to imply that IPAs have special ingredients that make this a possibility. So I want to ask the experts here: do IPAs have ingredients that other strong beers lack, that could exacerbate hangovers? |\n",
      "+----------------------------------------------------------------------------------------------------------------------------------------------------------------------------------------------------------------------------------------------------------------------------------------------------------------------------------------------------------------------------------------------------------------------------------------------------------------------------------------------------------------------------------------------------------------------------------------------------+\n",
      "only showing top 10 rows"
     ]
    }
   ],
   "source": [
    "#oczyszczenie kolumny Body z niepotrzebnych znaków\n",
    "dfPosts4=dfPosts3.withColumn('Body',f.regexp_replace(f.regexp_replace('Body', '\\r', ''),'\\n', ''))\n",
    "dfPosts5=dfPosts4.withColumn('Body',f.regexp_replace(f.regexp_replace(f.regexp_replace(f.regexp_replace(f.regexp_replace(f.regexp_replace('Body', '<p>', ''),'</p>', ''),'<em>', ''),'</em>', ''),'<a>', ''),'</a>', ''))\n",
    "\n",
    "\n",
    "\n",
    "dfPosts5.select(\"Body\").show(10,truncate=False)"
   ]
  },
  {
   "cell_type": "code",
   "execution_count": 107,
   "id": "424b80f9-b98d-45b1-9373-aa105782abba",
   "metadata": {
    "execution": {
     "iopub.execute_input": "2023-01-21T14:00:26.822079Z",
     "iopub.status.busy": "2023-01-21T14:00:26.821830Z",
     "iopub.status.idle": "2023-01-21T14:00:27.086488Z",
     "shell.execute_reply": "2023-01-21T14:00:27.085781Z",
     "shell.execute_reply.started": "2023-01-21T14:00:26.822051Z"
    },
    "tags": []
   },
   "outputs": [
    {
     "data": {
      "application/vnd.jupyter.widget-view+json": {
       "model_id": "4dcb5f28529041e59a0aca307cffc641",
       "version_major": 2,
       "version_minor": 0
      },
      "text/plain": [
       "VBox()"
      ]
     },
     "metadata": {},
     "output_type": "display_data"
    },
    {
     "data": {
      "application/vnd.jupyter.widget-view+json": {
       "model_id": "",
       "version_major": 2,
       "version_minor": 0
      },
      "text/plain": [
       "FloatProgress(value=0.0, bar_style='info', description='Progress:', layout=Layout(height='25px', width='50%'),…"
      ]
     },
     "metadata": {},
     "output_type": "display_data"
    },
    {
     "name": "stderr",
     "output_type": "stream",
     "text": [
      "An error was encountered:\n",
      "path s3://stackexchangebeer1/parquet/posts.parquet already exists.\n",
      "Traceback (most recent call last):\n",
      "  File \"/mnt1/yarn/usercache/livy/appcache/application_1674289536756_0001/container_1674289536756_0001_01_000001/pyspark.zip/pyspark/sql/readwriter.py\", line 885, in parquet\n",
      "    self._jwrite.parquet(path)\n",
      "  File \"/mnt1/yarn/usercache/livy/appcache/application_1674289536756_0001/container_1674289536756_0001_01_000001/py4j-0.10.9.2-src.zip/py4j/java_gateway.py\", line 1310, in __call__\n",
      "    answer, self.gateway_client, self.target_id, self.name)\n",
      "  File \"/mnt1/yarn/usercache/livy/appcache/application_1674289536756_0001/container_1674289536756_0001_01_000001/pyspark.zip/pyspark/sql/utils.py\", line 117, in deco\n",
      "    raise converted from None\n",
      "pyspark.sql.utils.AnalysisException: path s3://stackexchangebeer1/parquet/posts.parquet already exists.\n",
      "\n"
     ]
    }
   ],
   "source": [
    "#zapisanie tabeli Posts w formacie parquet\n",
    "dfPosts5.write.parquet('s3://stackexchangebeer1/parquet/posts.parquet')"
   ]
  },
  {
   "cell_type": "markdown",
   "id": "54b497d2-3afb-4dbf-8b9f-6b320e72b0eb",
   "metadata": {
    "tags": []
   },
   "source": [
    "__PLIK USERS.XML__"
   ]
  },
  {
   "cell_type": "code",
   "execution_count": 114,
   "id": "0d646969-9b0d-4d52-8b15-5a9ddb1f22f2",
   "metadata": {
    "execution": {
     "iopub.execute_input": "2023-01-21T14:14:40.170997Z",
     "iopub.status.busy": "2023-01-21T14:14:40.170776Z",
     "iopub.status.idle": "2023-01-21T14:14:40.224476Z",
     "shell.execute_reply": "2023-01-21T14:14:40.223918Z",
     "shell.execute_reply.started": "2023-01-21T14:14:40.170973Z"
    },
    "tags": []
   },
   "outputs": [
    {
     "data": {
      "application/vnd.jupyter.widget-view+json": {
       "model_id": "788d5e69c5434cdb9475ff602e3a0719",
       "version_major": 2,
       "version_minor": 0
      },
      "text/plain": [
       "VBox()"
      ]
     },
     "metadata": {},
     "output_type": "display_data"
    },
    {
     "data": {
      "application/vnd.jupyter.widget-view+json": {
       "model_id": "",
       "version_major": 2,
       "version_minor": 0
      },
      "text/plain": [
       "FloatProgress(value=0.0, bar_style='info', description='Progress:', layout=Layout(height='25px', width='50%'),…"
      ]
     },
     "metadata": {},
     "output_type": "display_data"
    }
   ],
   "source": [
    "schemaUsers = StructType([\n",
    "    StructField(\"_AboutMe\", StringType(), True),\n",
    "    StructField(\"_AccountId\", IntegerType(), True),\n",
    "    StructField(\"_CreationDate\", TimestampType(), True),\n",
    "    StructField(\"_DisplayName\", StringType(), True),\n",
    "    StructField(\"_DownVotes\", IntegerType(), True),\n",
    "    StructField(\"_Id\", IntegerType(), True),\n",
    "    StructField(\"_LastAccesDate\", TimestampType(), True),\n",
    "    StructField(\"_Location\", StringType(), True),\n",
    "    StructField(\"_ProfileImageUrl\", StringType(), True),\n",
    "    StructField(\"_Reputation\", IntegerType(), True),\n",
    "    StructField(\"_UpVotes\", IntegerType(), True),\n",
    "    StructField(\"_Views\", IntegerType(), True),\n",
    "    StructField(\"_WebsiteUrl\", StringType(), True),\n",
    "])"
   ]
  },
  {
   "cell_type": "code",
   "execution_count": 115,
   "id": "4dddc327-e84c-4898-a01b-4360c12b0293",
   "metadata": {
    "execution": {
     "iopub.execute_input": "2023-01-21T14:14:45.503548Z",
     "iopub.status.busy": "2023-01-21T14:14:45.503289Z",
     "iopub.status.idle": "2023-01-21T14:14:54.798570Z",
     "shell.execute_reply": "2023-01-21T14:14:54.797856Z",
     "shell.execute_reply.started": "2023-01-21T14:14:45.503503Z"
    },
    "tags": []
   },
   "outputs": [
    {
     "data": {
      "application/vnd.jupyter.widget-view+json": {
       "model_id": "60d66a2fb73d4fb89ebc9ff0ffd8d355",
       "version_major": 2,
       "version_minor": 0
      },
      "text/plain": [
       "VBox()"
      ]
     },
     "metadata": {},
     "output_type": "display_data"
    },
    {
     "data": {
      "application/vnd.jupyter.widget-view+json": {
       "model_id": "",
       "version_major": 2,
       "version_minor": 0
      },
      "text/plain": [
       "FloatProgress(value=0.0, bar_style='info', description='Progress:', layout=Layout(height='25px', width='50%'),…"
      ]
     },
     "metadata": {},
     "output_type": "display_data"
    },
    {
     "name": "stdout",
     "output_type": "stream",
     "text": [
      "root\n",
      " |-- _AboutMe: string (nullable = true)\n",
      " |-- _AccountId: integer (nullable = true)\n",
      " |-- _CreationDate: timestamp (nullable = true)\n",
      " |-- _DisplayName: string (nullable = true)\n",
      " |-- _DownVotes: integer (nullable = true)\n",
      " |-- _Id: integer (nullable = true)\n",
      " |-- _LastAccesDate: timestamp (nullable = true)\n",
      " |-- _Location: string (nullable = true)\n",
      " |-- _ProfileImageUrl: string (nullable = true)\n",
      " |-- _Reputation: integer (nullable = true)\n",
      " |-- _UpVotes: integer (nullable = true)\n",
      " |-- _Views: integer (nullable = true)\n",
      " |-- _WebsiteUrl: string (nullable = true)\n",
      "\n",
      "+--------------------+----------+--------------------+--------------+----------+---+--------------+--------------------+--------------------+-----------+--------+------+--------------------+\n",
      "|            _AboutMe|_AccountId|       _CreationDate|  _DisplayName|_DownVotes|_Id|_LastAccesDate|           _Location|    _ProfileImageUrl|_Reputation|_UpVotes|_Views|         _WebsiteUrl|\n",
      "+--------------------+----------+--------------------+--------------+----------+---+--------------+--------------------+--------------------+-----------+--------+------+--------------------+\n",
      "|<p>Hi, I'm not re...|        -1|2014-01-21 17:45:...|     Community|       503| -1|          null|  on the server farm|                null|          1|       2|     5|http://meta.stack...|\n",
      "|<p>Dev #2 who hel...|         2|2014-01-21 20:21:...|  Geoff Dalgas|         0|  1|          null|       Corvallis, OR|https://i.stack.i...|        101|       0|    42|http://stackoverf...|\n",
      "|<p>Former Stack E...|    109934|2014-01-21 20:22:...|Kasra Rahjerdi|         0|  2|          null|New York, NY, Uni...|https://i.stack.i...|        408|      12|    12|http://kasrarahje...|\n",
      "|\\n<p>Developer at...|     37099|2014-01-21 20:22:...|     Adam Lear|         2|  3|          null|        New York, NY|https://i.stack.i...|         99|       2|     1|                null|\n",
      "|<p><strong>BY DAY...|    237028|2014-01-21 20:22:...| Arie Litovsky|         0|  4|          null|                 USA|                null|        291|       3|     4|http://www.arieli...|\n",
      "+--------------------+----------+--------------------+--------------+----------+---+--------------+--------------------+--------------------+-----------+--------+------+--------------------+\n",
      "only showing top 5 rows"
     ]
    }
   ],
   "source": [
    "#wczytanie pliku Users.xml z pomocą modułu spark-xml do DataFrame'u\n",
    "dfUsers = spark.read.format('xml').option('rootTag', 'users').option('rowTag', 'row').load('s3://stackexchangebeer1/raw_data/Users.xml',schema=schemaUsers)\n",
    "dfUsers.printSchema()\n",
    "dfUsers.show(5)"
   ]
  },
  {
   "cell_type": "code",
   "execution_count": 120,
   "id": "1477ccff-3b83-41d7-988b-828dcc992846",
   "metadata": {
    "execution": {
     "iopub.execute_input": "2023-01-21T14:31:34.869537Z",
     "iopub.status.busy": "2023-01-21T14:31:34.869171Z",
     "iopub.status.idle": "2023-01-21T14:31:35.133325Z",
     "shell.execute_reply": "2023-01-21T14:31:35.132749Z",
     "shell.execute_reply.started": "2023-01-21T14:31:34.869511Z"
    },
    "tags": []
   },
   "outputs": [
    {
     "data": {
      "application/vnd.jupyter.widget-view+json": {
       "model_id": "ef5c175a23a840958528ea90d10e4aab",
       "version_major": 2,
       "version_minor": 0
      },
      "text/plain": [
       "VBox()"
      ]
     },
     "metadata": {},
     "output_type": "display_data"
    },
    {
     "data": {
      "application/vnd.jupyter.widget-view+json": {
       "model_id": "",
       "version_major": 2,
       "version_minor": 0
      },
      "text/plain": [
       "FloatProgress(value=0.0, bar_style='info', description='Progress:', layout=Layout(height='25px', width='50%'),…"
      ]
     },
     "metadata": {},
     "output_type": "display_data"
    },
    {
     "name": "stdout",
     "output_type": "stream",
     "text": [
      "root\n",
      " |-- AboutMe: string (nullable = true)\n",
      " |-- AccountId: integer (nullable = true)\n",
      " |-- Date: timestamp (nullable = true)\n",
      " |-- DisplayName: string (nullable = true)\n",
      " |-- DownVotes: integer (nullable = true)\n",
      " |-- Id: integer (nullable = true)\n",
      " |-- LastAccesDate: timestamp (nullable = true)\n",
      " |-- Location: string (nullable = true)\n",
      " |-- ProfileImageUrl: string (nullable = true)\n",
      " |-- Reputation: integer (nullable = true)\n",
      " |-- UpVotes: integer (nullable = true)\n",
      " |-- Views: integer (nullable = true)\n",
      " |-- WebsiteUrl: string (nullable = true)"
     ]
    }
   ],
   "source": [
    "dfUsers1 = dfUsers.withColumnRenamed(\"_AboutMe\", \"AboutMe\")\\\n",
    "                    .withColumnRenamed(\"_AccountId\", \"AccountId\")\\\n",
    "                    .withColumnRenamed(\"_CreationDate\", \"Date\")\\\n",
    "                    .withColumnRenamed(\"_DisplayName\", \"DisplayName\")\\\n",
    "                    .withColumnRenamed(\"_DownVotes\", \"DownVotes\")\\\n",
    "                    .withColumnRenamed(\"_Id\", \"Id\")\\\n",
    "                    .withColumnRenamed(\"_LastAccesDate\", \"LastAccesDate\")\\\n",
    "                    .withColumnRenamed(\"_Location\", \"Location\")\\\n",
    "                    .withColumnRenamed(\"_ProfileImageUrl\", \"ProfileImageUrl\")\\\n",
    "                    .withColumnRenamed(\"_Reputation\", \"Reputation\")\\\n",
    "                    .withColumnRenamed(\"_UpVotes\", \"UpVotes\")\\\n",
    "                    .withColumnRenamed(\"_Views\", \"Views\")\\\n",
    "                    .withColumnRenamed(\"_WebsiteUrl\", \"WebsiteUrl\")\\\n",
    "\n",
    "dfUsers1.printSchema()"
   ]
  },
  {
   "cell_type": "code",
   "execution_count": 121,
   "id": "fde4f441-96ba-40da-8627-c160614ab49e",
   "metadata": {
    "execution": {
     "iopub.execute_input": "2023-01-21T14:31:38.556243Z",
     "iopub.status.busy": "2023-01-21T14:31:38.556012Z",
     "iopub.status.idle": "2023-01-21T14:31:38.815736Z",
     "shell.execute_reply": "2023-01-21T14:31:38.814995Z",
     "shell.execute_reply.started": "2023-01-21T14:31:38.556217Z"
    },
    "tags": []
   },
   "outputs": [
    {
     "data": {
      "application/vnd.jupyter.widget-view+json": {
       "model_id": "d59c9b833bd748d7a0bcce07238314b5",
       "version_major": 2,
       "version_minor": 0
      },
      "text/plain": [
       "VBox()"
      ]
     },
     "metadata": {},
     "output_type": "display_data"
    },
    {
     "data": {
      "application/vnd.jupyter.widget-view+json": {
       "model_id": "",
       "version_major": 2,
       "version_minor": 0
      },
      "text/plain": [
       "FloatProgress(value=0.0, bar_style='info', description='Progress:', layout=Layout(height='25px', width='50%'),…"
      ]
     },
     "metadata": {},
     "output_type": "display_data"
    },
    {
     "name": "stdout",
     "output_type": "stream",
     "text": [
      "root\n",
      " |-- AboutMe: string (nullable = true)\n",
      " |-- AccountId: integer (nullable = true)\n",
      " |-- DisplayName: string (nullable = true)\n",
      " |-- DownVotes: integer (nullable = true)\n",
      " |-- Id: integer (nullable = true)\n",
      " |-- LastAccesDate: timestamp (nullable = true)\n",
      " |-- Location: string (nullable = true)\n",
      " |-- ProfileImageUrl: string (nullable = true)\n",
      " |-- Reputation: integer (nullable = true)\n",
      " |-- UpVotes: integer (nullable = true)\n",
      " |-- Views: integer (nullable = true)\n",
      " |-- WebsiteUrl: string (nullable = true)\n",
      " |-- CreationDate: date (nullable = true)\n",
      " |-- Time: string (nullable = true)"
     ]
    }
   ],
   "source": [
    "#rozbicie kolumny CreationDate na 2 kolumny z datą oraz czasem utworzenia\n",
    "dfUsers2 = dfUsers1.withColumn('CreationDate',split(dfUsers1[\"Date\"], ' ')[0])\\\n",
    "                    .withColumn('Time',split(dfUsers1[\"Date\"], ' ')[1])\\\n",
    "                    .drop(dfUsers1[\"Date\"])\n",
    "\n",
    "#zmiana typu danych kolumny Date na DateType\n",
    "dfUsers3= dfUsers2.withColumn(\"CreationDate\", dfUsers2[\"CreationDate\"].cast(DateType()))\n",
    "\n",
    "dfUsers3.printSchema()"
   ]
  },
  {
   "cell_type": "code",
   "execution_count": 122,
   "id": "0ce32756-02d1-4a01-8524-4406de6912d9",
   "metadata": {
    "execution": {
     "iopub.execute_input": "2023-01-21T14:32:10.258314Z",
     "iopub.status.busy": "2023-01-21T14:32:10.258073Z",
     "iopub.status.idle": "2023-01-21T14:32:19.551731Z",
     "shell.execute_reply": "2023-01-21T14:32:19.551045Z",
     "shell.execute_reply.started": "2023-01-21T14:32:10.258281Z"
    }
   },
   "outputs": [
    {
     "data": {
      "application/vnd.jupyter.widget-view+json": {
       "model_id": "364c5ba6374d4ad7814c94cb5f99a536",
       "version_major": 2,
       "version_minor": 0
      },
      "text/plain": [
       "VBox()"
      ]
     },
     "metadata": {},
     "output_type": "display_data"
    },
    {
     "data": {
      "application/vnd.jupyter.widget-view+json": {
       "model_id": "",
       "version_major": 2,
       "version_minor": 0
      },
      "text/plain": [
       "FloatProgress(value=0.0, bar_style='info', description='Progress:', layout=Layout(height='25px', width='50%'),…"
      ]
     },
     "metadata": {},
     "output_type": "display_data"
    },
    {
     "name": "stdout",
     "output_type": "stream",
     "text": [
      "+------------+------------+\n",
      "|CreationDate|        Time|\n",
      "+------------+------------+\n",
      "|  2014-01-21|17:45:53.587|\n",
      "|  2014-01-21|20:21:18.797|\n",
      "|  2014-01-21| 20:22:19.07|\n",
      "|  2014-01-21| 20:22:22.12|\n",
      "|  2014-01-21|  20:22:24.3|\n",
      "+------------+------------+\n",
      "only showing top 5 rows"
     ]
    }
   ],
   "source": [
    "dfUsers3.select(\"CreationDate\",\"Time\").show(5)"
   ]
  },
  {
   "cell_type": "code",
   "execution_count": 118,
   "id": "2606ff35-a1da-4c4e-8b40-d51bd20e044e",
   "metadata": {
    "execution": {
     "iopub.execute_input": "2023-01-21T14:21:03.971384Z",
     "iopub.status.busy": "2023-01-21T14:21:03.971129Z",
     "iopub.status.idle": "2023-01-21T14:21:13.287538Z",
     "shell.execute_reply": "2023-01-21T14:21:13.286810Z",
     "shell.execute_reply.started": "2023-01-21T14:21:03.971343Z"
    },
    "tags": []
   },
   "outputs": [
    {
     "data": {
      "application/vnd.jupyter.widget-view+json": {
       "model_id": "04f17f8589864c21a6de7b69aba811bf",
       "version_major": 2,
       "version_minor": 0
      },
      "text/plain": [
       "VBox()"
      ]
     },
     "metadata": {},
     "output_type": "display_data"
    },
    {
     "data": {
      "application/vnd.jupyter.widget-view+json": {
       "model_id": "",
       "version_major": 2,
       "version_minor": 0
      },
      "text/plain": [
       "FloatProgress(value=0.0, bar_style='info', description='Progress:', layout=Layout(height='25px', width='50%'),…"
      ]
     },
     "metadata": {},
     "output_type": "display_data"
    },
    {
     "name": "stdout",
     "output_type": "stream",
     "text": [
      "+-----------------------------------------------------------------------------------------------------------------------------------------------------------------------------------------------------------------------------------------------------------------------------------------------------------------------------------------------------------------------------------------------------------------------------------------------------------------------------------------------------------------------------------------------------------------------------------------------------------------------------------------------------------------------------------------------------------------------------------------------------------------------------------------------------------------------------------------------------------------------------------------------------------------------------------------------------------------------------------------------------------------------------------------------------------------------------------------------------------------------------------------------------------------------------------------------------------------------------------------------------------------------------------------------------------------------------------------------------------------------------------------------------------------------------------------------------------------------------------------------------------------------------------------------------------------------+\n",
      "|AboutMe                                                                                                                                                                                                                                                                                                                                                                                                                                                                                                                                                                                                                                                                                                                                                                                                                                                                                                                                                                                                                                                                                                                                                                                                                                                                                                                                                                                                                                                                                                                                                                |\n",
      "+-----------------------------------------------------------------------------------------------------------------------------------------------------------------------------------------------------------------------------------------------------------------------------------------------------------------------------------------------------------------------------------------------------------------------------------------------------------------------------------------------------------------------------------------------------------------------------------------------------------------------------------------------------------------------------------------------------------------------------------------------------------------------------------------------------------------------------------------------------------------------------------------------------------------------------------------------------------------------------------------------------------------------------------------------------------------------------------------------------------------------------------------------------------------------------------------------------------------------------------------------------------------------------------------------------------------------------------------------------------------------------------------------------------------------------------------------------------------------------------------------------------------------------------------------------------------------+\n",
      "|<p>Hi, I'm not really a person.</p>\\n\\n<p>I'm a background process that helps keep this site clean!</p>\\n\\n<p>I do things like</p>\\n\\n<ul>\\n<li>Randomly poke old unanswered questions every hour so they get some attention</li>\\n<li>Own community questions and answers so nobody gets unnecessary reputation from them</li>\\n<li>Own downvotes on spam/evil posts that get permanently deleted</li>\\n<li>Own suggested edits from anonymous users</li>\\n<li><a href=\"http://meta.stackexchange.com/a/92006\">Remove abandoned questions</a></li>\\n</ul>\\n                                                                                                                                                                                                                                                                                                                                                                                                                                                                                                                                                                                                                                                                                                                                                                                                                                                                                                                                                                                                           |\n",
      "|<p>Dev #2 who helped create Stack Overflow currently working at Microsoft. I love all people willing to share their knowledge. Without community we are nothing.</p>\\n<p>Find me on:</p>\\n<p><a href=\"http://www.twitter.com/SuperDalgas\" rel=\"nofollow noreferrer\">Twitter</a>\\n<br><br>\\n<a href=\"http://blog.stackoverflow.com/2009/05/welcome-stack-overflow-valued-associate-00003/\">Stack Overflow Valued Associate #00003</a></p>\\n                                                                                                                                                                                                                                                                                                                                                                                                                                                                                                                                                                                                                                                                                                                                                                                                                                                                                                                                                                                                                                                                                                                             |\n",
      "|<p>Former Stack Exchange employee</p>\\n                                                                                                                                                                                                                                                                                                                                                                                                                                                                                                                                                                                                                                                                                                                                                                                                                                                                                                                                                                                                                                                                                                                                                                                                                                                                                                                                                                                                                                                                                                                                |\n",
      "|\\n<p>Developer at Stack Overflow focusing on public Q&amp;A. Russian Canadian working in the American idiom.</p>\\n<p>Once upon a time:</p>\\n<ul>\\n<li>community manager at Stack Overflow</li>\\n<li>elected moderator on Stack Overflow and Software Engineering</li>\\n<li>desktop software developer ¯\\_(ツ)_/¯</li>\\n</ul>\\n<p>Email me a link to your favorite Wikipedia article: <code>adam@stackoverflow.com</code>.</p>\\n                                                                                                                                                                                                                                                                                                                                                                                                                                                                                                                                                                                                                                                                                                                                                                                                                                                                                                                                                                                                                                                                                                                                        |\n",
      "|<p><strong>BY DAY:</strong> I execute projects on both mobile and on the web at an uncomfortable pace, but with obsessive perfection.</p>\\n<p><strong>BY NIGHT:</strong> I'm mouthy on <a href=\"http://www.arielitovsky.com/blog\" rel=\"nofollow noreferrer\">my blog</a> and <a href=\"https://twitter.com/arie_speaks\" rel=\"nofollow noreferrer\">@arie_speaks</a>. I help my wife with her <a href=\"http://rebeccasinternationalkitchen.com/\" rel=\"nofollow noreferrer\">food and travel blog</a>.</p>\\n<p><strong>FOR FUN:</strong>  I play guitar, drums, and sing. I travel too much. <a href=\"http://www.arielitovsky.com/blog/if-you-havent-worked-remotely-abroad-youre-missing-out/\" rel=\"nofollow noreferrer\">I live and work around the world</a>.</p>\\n<p><strong>CURRENT TECH:</strong> (<a href=\"/questions/tagged/ios\" class=\"post-tag\" title=\"show questions tagged &#39;ios&#39;\" rel=\"tag\">ios</a> &amp; <a href=\"/questions/tagged/iphone\" class=\"post-tag\" title=\"show questions tagged &#39;iphone&#39;\" rel=\"tag\">iphone</a> &amp; <a href=\"/questions/tagged/ipad\" class=\"post-tag\" title=\"show questions tagged &#39;ipad&#39;\" rel=\"tag\">ipad</a>) &amp;&amp; (<a href=\"/questions/tagged/c%23\" class=\"post-tag\" title=\"show questions tagged &#39;c#&#39;\" rel=\"tag\">c#</a> &amp; <a href=\"/questions/tagged/ms-sql\" class=\"post-tag\" title=\"show questions tagged &#39;ms-sql&#39;\" rel=\"tag\">ms-sql</a> &amp; <a href=\"/questions/tagged/angular\" class=\"post-tag\" title=\"show questions tagged &#39;angular&#39;\" rel=\"tag\">angular</a>)</p>\\n|\n",
      "+-----------------------------------------------------------------------------------------------------------------------------------------------------------------------------------------------------------------------------------------------------------------------------------------------------------------------------------------------------------------------------------------------------------------------------------------------------------------------------------------------------------------------------------------------------------------------------------------------------------------------------------------------------------------------------------------------------------------------------------------------------------------------------------------------------------------------------------------------------------------------------------------------------------------------------------------------------------------------------------------------------------------------------------------------------------------------------------------------------------------------------------------------------------------------------------------------------------------------------------------------------------------------------------------------------------------------------------------------------------------------------------------------------------------------------------------------------------------------------------------------------------------------------------------------------------------------+\n",
      "only showing top 5 rows"
     ]
    }
   ],
   "source": [
    "dfUsers3.select(\"AboutMe\").show(5, truncate=False)"
   ]
  },
  {
   "cell_type": "code",
   "execution_count": 136,
   "id": "b4957660-8709-4784-af2b-ca5f3ae47bc6",
   "metadata": {
    "execution": {
     "iopub.execute_input": "2023-01-21T14:49:55.097964Z",
     "iopub.status.busy": "2023-01-21T14:49:55.097723Z",
     "iopub.status.idle": "2023-01-21T14:49:55.865096Z",
     "shell.execute_reply": "2023-01-21T14:49:55.864220Z",
     "shell.execute_reply.started": "2023-01-21T14:49:55.097938Z"
    },
    "tags": []
   },
   "outputs": [
    {
     "data": {
      "application/vnd.jupyter.widget-view+json": {
       "model_id": "52471e0a73e54b708fe573e24d64f6a2",
       "version_major": 2,
       "version_minor": 0
      },
      "text/plain": [
       "VBox()"
      ]
     },
     "metadata": {},
     "output_type": "display_data"
    },
    {
     "data": {
      "application/vnd.jupyter.widget-view+json": {
       "model_id": "",
       "version_major": 2,
       "version_minor": 0
      },
      "text/plain": [
       "FloatProgress(value=0.0, bar_style='info', description='Progress:', layout=Layout(height='25px', width='50%'),…"
      ]
     },
     "metadata": {},
     "output_type": "display_data"
    },
    {
     "name": "stdout",
     "output_type": "stream",
     "text": [
      "+-----------------------------------------------------------------------------------------------------------------------------------------------------------------------------------------------------------------------------------------------------------------------------------------------------------------------------------------------------------------------------------------------------------------------------------------------------------------------------------------------------------------------------------------------------------------------------------------------------------------------------------------------------------------------------------------------------------------------------------------------------------------------------------------------------------------------------------------------------------------------------------------------------------------------------------------------------------------------------------------------------------------------------------------------------------------------------------------------------------------------------------------------------------------------------------------------------------------------------------------------------------------------------------------------------------------------------------------------------------------------------------------------------------------------+\n",
      "|AboutMe                                                                                                                                                                                                                                                                                                                                                                                                                                                                                                                                                                                                                                                                                                                                                                                                                                                                                                                                                                                                                                                                                                                                                                                                                                                                                                                                                                                                                |\n",
      "+-----------------------------------------------------------------------------------------------------------------------------------------------------------------------------------------------------------------------------------------------------------------------------------------------------------------------------------------------------------------------------------------------------------------------------------------------------------------------------------------------------------------------------------------------------------------------------------------------------------------------------------------------------------------------------------------------------------------------------------------------------------------------------------------------------------------------------------------------------------------------------------------------------------------------------------------------------------------------------------------------------------------------------------------------------------------------------------------------------------------------------------------------------------------------------------------------------------------------------------------------------------------------------------------------------------------------------------------------------------------------------------------------------------------------+\n",
      "|Hi, I'm not really a person.I'm a background process that helps keep this site clean!I do things like<ul>Randomly poke old unanswered questions every hour so they get some attentionOwn community questions and answers so nobody gets unnecessary reputation from themOwn downvotes on spam/evil posts that get permanently deletedOwn suggested edits from anonymous users<a href=\"http://meta.stackexchange.com/a/92006\">Remove abandoned questions</ul>                                                                                                                                                                                                                                                                                                                                                                                                                                                                                                                                                                                                                                                                                                                                                                                                                                                                                                                                                           |\n",
      "|Dev #2 who helped create Stack Overflow currently working at Microsoft. I love all people willing to share their knowledge. Without community we are nothing.Find me on:<a href=\"http://www.twitter.com/SuperDalgas\" rel=\"nofollow noreferrer\">Twitter<br><br><a href=\"http://blog.stackoverflow.com/2009/05/welcome-stack-overflow-valued-associate-00003/\">Stack Overflow Valued Associate #00003                                                                                                                                                                                                                                                                                                                                                                                                                                                                                                                                                                                                                                                                                                                                                                                                                                                                                                                                                                                                                    |\n",
      "|Former Stack Exchange employee                                                                                                                                                                                                                                                                                                                                                                                                                                                                                                                                                                                                                                                                                                                                                                                                                                                                                                                                                                                                                                                                                                                                                                                                                                                                                                                                                                                         |\n",
      "|Developer at Stack Overflow focusing on public Q&amp;A. Russian Canadian working in the American idiom.Once upon a time:<ul>community manager at Stack Overflowelected moderator on Stack Overflow and Software Engineeringdesktop software developer ¯\\_(ツ)_/¯</ul>Email me a link to your favorite Wikipedia article: adam@stackoverflow.com.                                                                                                                                                                                                                                                                                                                                                                                                                                                                                                                                                                                                                                                                                                                                                                                                                                                                                                                                                                                                                                                                       |\n",
      "|BY DAY: I execute projects on both mobile and on the web at an uncomfortable pace, but with obsessive perfection.BY NIGHT: I'm mouthy on <a href=\"http://www.arielitovsky.com/blog\" rel=\"nofollow noreferrer\">my blog and <a href=\"https://twitter.com/arie_speaks\" rel=\"nofollow noreferrer\">@arie_speaks. I help my wife with her <a href=\"http://rebeccasinternationalkitchen.com/\" rel=\"nofollow noreferrer\">food and travel blog.FOR FUN:  I play guitar, drums, and sing. I travel too much. <a href=\"http://www.arielitovsky.com/blog/if-you-havent-worked-remotely-abroad-youre-missing-out/\" rel=\"nofollow noreferrer\">I live and work around the world.CURRENT TECH: (<a href=\"/questions/tagged/ios\" class=\"post-tag\" title=\"show questions tagged &#39;ios&#39;\" rel=\"tag\">ios &amp; <a href=\"/questions/tagged/iphone\" class=\"post-tag\" title=\"show questions tagged &#39;iphone&#39;\" rel=\"tag\">iphone &amp; <a href=\"/questions/tagged/ipad\" class=\"post-tag\" title=\"show questions tagged &#39;ipad&#39;\" rel=\"tag\">ipad) &amp;&amp; (<a href=\"/questions/tagged/c%23\" class=\"post-tag\" title=\"show questions tagged &#39;c#&#39;\" rel=\"tag\">c# &amp; <a href=\"/questions/tagged/ms-sql\" class=\"post-tag\" title=\"show questions tagged &#39;ms-sql&#39;\" rel=\"tag\">ms-sql &amp; <a href=\"/questions/tagged/angular\" class=\"post-tag\" title=\"show questions tagged &#39;angular&#39;\" rel=\"tag\">angular)|\n",
      "+-----------------------------------------------------------------------------------------------------------------------------------------------------------------------------------------------------------------------------------------------------------------------------------------------------------------------------------------------------------------------------------------------------------------------------------------------------------------------------------------------------------------------------------------------------------------------------------------------------------------------------------------------------------------------------------------------------------------------------------------------------------------------------------------------------------------------------------------------------------------------------------------------------------------------------------------------------------------------------------------------------------------------------------------------------------------------------------------------------------------------------------------------------------------------------------------------------------------------------------------------------------------------------------------------------------------------------------------------------------------------------------------------------------------------+\n",
      "only showing top 5 rows"
     ]
    }
   ],
   "source": [
    "#oczyszczenie kolumny tekstowej\n",
    "dfUsers4=dfUsers3.withColumn('AboutMe',f.regexp_replace('AboutMe', '\\\\<p>|\\\\</p>|\\\\\\n|\\\\\\r|\\\\<n>|\\\\</n>|\\\\<a>|\\\\</a>|\\\\<li>|\\\\</li>|\\\\<strong>|\\\\</strong>|\\\\<code>|\\\\</code>', ''))\n",
    "dfUsers4.select(\"AboutMe\").show(5, truncate=False)"
   ]
  },
  {
   "cell_type": "code",
   "execution_count": 137,
   "id": "4c6f6fbd-0082-41ab-be2d-ca14bf1562f0",
   "metadata": {
    "execution": {
     "iopub.execute_input": "2023-01-21T14:51:40.705003Z",
     "iopub.status.busy": "2023-01-21T14:51:40.704766Z",
     "iopub.status.idle": "2023-01-21T14:51:54.009700Z",
     "shell.execute_reply": "2023-01-21T14:51:54.009027Z",
     "shell.execute_reply.started": "2023-01-21T14:51:40.704979Z"
    }
   },
   "outputs": [
    {
     "data": {
      "application/vnd.jupyter.widget-view+json": {
       "model_id": "945c06ee5b6947ec972dc387ead65899",
       "version_major": 2,
       "version_minor": 0
      },
      "text/plain": [
       "VBox()"
      ]
     },
     "metadata": {},
     "output_type": "display_data"
    },
    {
     "data": {
      "application/vnd.jupyter.widget-view+json": {
       "model_id": "",
       "version_major": 2,
       "version_minor": 0
      },
      "text/plain": [
       "FloatProgress(value=0.0, bar_style='info', description='Progress:', layout=Layout(height='25px', width='50%'),…"
      ]
     },
     "metadata": {},
     "output_type": "display_data"
    }
   ],
   "source": [
    "#zapisanie tabeli Users w formacie parquet\n",
    "dfUsers4.write.parquet('s3://stackexchangebeer1/parquet/users.parquet')"
   ]
  },
  {
   "cell_type": "code",
   "execution_count": null,
   "id": "7893c07e-d19f-4532-99cb-97f07bef4a2b",
   "metadata": {},
   "outputs": [],
   "source": []
  }
 ],
 "metadata": {
  "kernelspec": {
   "display_name": "PySpark",
   "language": "python",
   "name": "pysparkkernel"
  },
  "language_info": {
   "codemirror_mode": {
    "name": "python",
    "version": 3
   },
   "file_extension": ".py",
   "mimetype": "text/x-python",
   "name": "pyspark",
   "pygments_lexer": "python3"
  }
 },
 "nbformat": 4,
 "nbformat_minor": 5
}
